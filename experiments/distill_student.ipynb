{
 "cells": [
  {
   "cell_type": "markdown",
   "metadata": {},
   "source": [
    "# 加载并初始化"
   ]
  },
  {
   "cell_type": "code",
   "execution_count": 1,
   "metadata": {},
   "outputs": [
    {
     "name": "stdout",
     "output_type": "stream",
     "text": [
      "The number of parameters of student model is: 2.92M\n",
      "The number of parameters of teacher model is: 87.85M\n"
     ]
    }
   ],
   "source": [
    "import sys, json\n",
    "with open('config.json') as f:\n",
    "    args = json.load(f)\n",
    "sys.path.append('..')\n",
    "PATH = '../RKD-SC/results/'\n",
    "\n",
    "import torch\n",
    "import torch.nn as nn\n",
    "from tqdm.auto import tqdm \n",
    "from models import GenTeacher, GenStudentCNN, GenClassifier\n",
    "from models.model import AttentionAutoEncoder\n",
    "from utils import save_model, test_on_val\n",
    "from utils.dataset import get_datasets\n",
    "from utils.channels import Channels\n",
    "\n",
    "device = args[\"global\"][\"device\"]\n",
    "teacher_model_name = args[\"model\"][\"teacher_model_name\"]\n",
    "student = GenStudentCNN(device)\n",
    "teacher = GenTeacher(teacher_model_name, device)\n",
    "classifier = GenClassifier(512, 100, [], device)\n",
    "student.load_state_dict(torch.load('/home/ubuntu/users/dky/RKD-SC/results/distillation/source_encoder_kd.pt'))\n",
    "classifier.load_state_dict(torch.load('/home/ubuntu/users/dky/RKD-SC/results/distillation/source_decoder_kd.pt'))\n",
    "\n",
    "print(f\"The number of parameters of student model is: {sum(p.numel() for p in student.parameters()) / 1e6:.2f}M\" )\n",
    "print(f\"The number of parameters of teacher model is: {sum(p.numel() for p in teacher.parameters()) / 1e6:.2f}M\" )"
   ]
  },
  {
   "cell_type": "code",
   "execution_count": 2,
   "metadata": {},
   "outputs": [],
   "source": [
    "train_loader, test_loader = get_datasets(args[\"data\"][\"path\"], args[\"data\"][\"batch_size\"], args[\"data\"][\"dataset_name\"])"
   ]
  },
  {
   "cell_type": "markdown",
   "metadata": {},
   "source": [
    "# 蒸馏学生模型"
   ]
  },
  {
   "cell_type": "code",
   "execution_count": 3,
   "metadata": {},
   "outputs": [
    {
     "data": {
      "application/vnd.jupyter.widget-view+json": {
       "model_id": "950669ffb9f94a8292506a0aa6942eed",
       "version_major": 2,
       "version_minor": 0
      },
      "text/plain": [
       "Distillation:   0%|          | 0/300 [00:00<?, ?it/s]"
      ]
     },
     "metadata": {},
     "output_type": "display_data"
    },
    {
     "data": {
      "application/vnd.jupyter.widget-view+json": {
       "model_id": "91c964d61f5e4115a177751a3c045f05",
       "version_major": 2,
       "version_minor": 0
      },
      "text/plain": [
       "Epoch 0:   0%|          | 0/500 [00:00<?, ?it/s]"
      ]
     },
     "metadata": {},
     "output_type": "display_data"
    },
    {
     "data": {
      "application/vnd.jupyter.widget-view+json": {
       "model_id": "cce2a9d0f9d1435e9e453cc8c12a0c26",
       "version_major": 2,
       "version_minor": 0
      },
      "text/plain": [
       "Epoch 1:   0%|          | 0/500 [00:00<?, ?it/s]"
      ]
     },
     "metadata": {},
     "output_type": "display_data"
    },
    {
     "data": {
      "application/vnd.jupyter.widget-view+json": {
       "model_id": "f069112ab85d4284b7db086696086aae",
       "version_major": 2,
       "version_minor": 0
      },
      "text/plain": [
       "Epoch 2:   0%|          | 0/500 [00:00<?, ?it/s]"
      ]
     },
     "metadata": {},
     "output_type": "display_data"
    },
    {
     "data": {
      "application/vnd.jupyter.widget-view+json": {
       "model_id": "2c2556be2c014288ae02f852c59c4e53",
       "version_major": 2,
       "version_minor": 0
      },
      "text/plain": [
       "Epoch 3:   0%|          | 0/500 [00:00<?, ?it/s]"
      ]
     },
     "metadata": {},
     "output_type": "display_data"
    },
    {
     "data": {
      "application/vnd.jupyter.widget-view+json": {
       "model_id": "5fee4100c9b5497193601115ed25e746",
       "version_major": 2,
       "version_minor": 0
      },
      "text/plain": [
       "Epoch 4:   0%|          | 0/500 [00:00<?, ?it/s]"
      ]
     },
     "metadata": {},
     "output_type": "display_data"
    },
    {
     "data": {
      "application/vnd.jupyter.widget-view+json": {
       "model_id": "8f46ba278d1e4084a242f313e1eee5d3",
       "version_major": 2,
       "version_minor": 0
      },
      "text/plain": [
       "Epoch 5:   0%|          | 0/500 [00:00<?, ?it/s]"
      ]
     },
     "metadata": {},
     "output_type": "display_data"
    },
    {
     "data": {
      "application/vnd.jupyter.widget-view+json": {
       "model_id": "35785119abd7483b88f47f1988a3b0b8",
       "version_major": 2,
       "version_minor": 0
      },
      "text/plain": [
       "Epoch 6:   0%|          | 0/500 [00:00<?, ?it/s]"
      ]
     },
     "metadata": {},
     "output_type": "display_data"
    },
    {
     "data": {
      "application/vnd.jupyter.widget-view+json": {
       "model_id": "f30f6a796d584465b0a3e9fd0e2c6810",
       "version_major": 2,
       "version_minor": 0
      },
      "text/plain": [
       "Epoch 7:   0%|          | 0/500 [00:00<?, ?it/s]"
      ]
     },
     "metadata": {},
     "output_type": "display_data"
    },
    {
     "data": {
      "application/vnd.jupyter.widget-view+json": {
       "model_id": "43d289b35a0549caae36604c785c23d7",
       "version_major": 2,
       "version_minor": 0
      },
      "text/plain": [
       "Epoch 8:   0%|          | 0/500 [00:00<?, ?it/s]"
      ]
     },
     "metadata": {},
     "output_type": "display_data"
    },
    {
     "data": {
      "application/vnd.jupyter.widget-view+json": {
       "model_id": "91b269833c864fde8609c56ad63ef5c1",
       "version_major": 2,
       "version_minor": 0
      },
      "text/plain": [
       "Epoch 9:   0%|          | 0/500 [00:00<?, ?it/s]"
      ]
     },
     "metadata": {},
     "output_type": "display_data"
    },
    {
     "data": {
      "application/vnd.jupyter.widget-view+json": {
       "model_id": "83dc1111faa2484c9fbc86de2317a317",
       "version_major": 2,
       "version_minor": 0
      },
      "text/plain": [
       "Epoch 10:   0%|          | 0/500 [00:00<?, ?it/s]"
      ]
     },
     "metadata": {},
     "output_type": "display_data"
    },
    {
     "data": {
      "application/vnd.jupyter.widget-view+json": {
       "model_id": "55f02d500f3846d498b960b3da90f452",
       "version_major": 2,
       "version_minor": 0
      },
      "text/plain": [
       "Epoch 11:   0%|          | 0/500 [00:00<?, ?it/s]"
      ]
     },
     "metadata": {},
     "output_type": "display_data"
    },
    {
     "data": {
      "application/vnd.jupyter.widget-view+json": {
       "model_id": "faab39c0cb2645d089ebb6a22316e461",
       "version_major": 2,
       "version_minor": 0
      },
      "text/plain": [
       "Epoch 12:   0%|          | 0/500 [00:00<?, ?it/s]"
      ]
     },
     "metadata": {},
     "output_type": "display_data"
    },
    {
     "data": {
      "application/vnd.jupyter.widget-view+json": {
       "model_id": "feac1e07a5f6419899e1dd5c76685046",
       "version_major": 2,
       "version_minor": 0
      },
      "text/plain": [
       "Epoch 13:   0%|          | 0/500 [00:00<?, ?it/s]"
      ]
     },
     "metadata": {},
     "output_type": "display_data"
    },
    {
     "data": {
      "application/vnd.jupyter.widget-view+json": {
       "model_id": "5c7e0c3b87a04b399bf5c7169385e863",
       "version_major": 2,
       "version_minor": 0
      },
      "text/plain": [
       "Epoch 14:   0%|          | 0/500 [00:00<?, ?it/s]"
      ]
     },
     "metadata": {},
     "output_type": "display_data"
    },
    {
     "data": {
      "application/vnd.jupyter.widget-view+json": {
       "model_id": "d695b21cfa9544cf87895f6bdb0c756c",
       "version_major": 2,
       "version_minor": 0
      },
      "text/plain": [
       "Epoch 15:   0%|          | 0/500 [00:00<?, ?it/s]"
      ]
     },
     "metadata": {},
     "output_type": "display_data"
    },
    {
     "data": {
      "application/vnd.jupyter.widget-view+json": {
       "model_id": "2ff34a906c5248e3943134411ee50dd7",
       "version_major": 2,
       "version_minor": 0
      },
      "text/plain": [
       "Epoch 16:   0%|          | 0/500 [00:00<?, ?it/s]"
      ]
     },
     "metadata": {},
     "output_type": "display_data"
    },
    {
     "data": {
      "application/vnd.jupyter.widget-view+json": {
       "model_id": "297ccaf1dda74b29a5f966ca7740f00e",
       "version_major": 2,
       "version_minor": 0
      },
      "text/plain": [
       "Epoch 17:   0%|          | 0/500 [00:00<?, ?it/s]"
      ]
     },
     "metadata": {},
     "output_type": "display_data"
    },
    {
     "data": {
      "application/vnd.jupyter.widget-view+json": {
       "model_id": "608bc39ae0a846979bc95f293fd4895a",
       "version_major": 2,
       "version_minor": 0
      },
      "text/plain": [
       "Epoch 18:   0%|          | 0/500 [00:00<?, ?it/s]"
      ]
     },
     "metadata": {},
     "output_type": "display_data"
    },
    {
     "data": {
      "application/vnd.jupyter.widget-view+json": {
       "model_id": "82d65b4d9a054f9f80ec094212d49ab5",
       "version_major": 2,
       "version_minor": 0
      },
      "text/plain": [
       "Epoch 19:   0%|          | 0/500 [00:00<?, ?it/s]"
      ]
     },
     "metadata": {},
     "output_type": "display_data"
    },
    {
     "data": {
      "application/vnd.jupyter.widget-view+json": {
       "model_id": "398313e475eb42a4baa8c7764a0a9c7d",
       "version_major": 2,
       "version_minor": 0
      },
      "text/plain": [
       "Epoch 20:   0%|          | 0/500 [00:00<?, ?it/s]"
      ]
     },
     "metadata": {},
     "output_type": "display_data"
    },
    {
     "data": {
      "application/vnd.jupyter.widget-view+json": {
       "model_id": "8f04b86d7fed44a5a6327a2e9dc7a30a",
       "version_major": 2,
       "version_minor": 0
      },
      "text/plain": [
       "Epoch 21:   0%|          | 0/500 [00:00<?, ?it/s]"
      ]
     },
     "metadata": {},
     "output_type": "display_data"
    },
    {
     "data": {
      "application/vnd.jupyter.widget-view+json": {
       "model_id": "c891dccfd45743968a0590fb0e1907f7",
       "version_major": 2,
       "version_minor": 0
      },
      "text/plain": [
       "Epoch 22:   0%|          | 0/500 [00:00<?, ?it/s]"
      ]
     },
     "metadata": {},
     "output_type": "display_data"
    },
    {
     "data": {
      "application/vnd.jupyter.widget-view+json": {
       "model_id": "03b5d79266774c2fbfd00e4f0f16b900",
       "version_major": 2,
       "version_minor": 0
      },
      "text/plain": [
       "Epoch 23:   0%|          | 0/500 [00:00<?, ?it/s]"
      ]
     },
     "metadata": {},
     "output_type": "display_data"
    },
    {
     "data": {
      "application/vnd.jupyter.widget-view+json": {
       "model_id": "5a2223f760154a5fb8c0b9275e8a4122",
       "version_major": 2,
       "version_minor": 0
      },
      "text/plain": [
       "Epoch 24:   0%|          | 0/500 [00:00<?, ?it/s]"
      ]
     },
     "metadata": {},
     "output_type": "display_data"
    },
    {
     "data": {
      "application/vnd.jupyter.widget-view+json": {
       "model_id": "1feecb75a912456a82947ac1b27f7286",
       "version_major": 2,
       "version_minor": 0
      },
      "text/plain": [
       "Epoch 25:   0%|          | 0/500 [00:00<?, ?it/s]"
      ]
     },
     "metadata": {},
     "output_type": "display_data"
    },
    {
     "data": {
      "application/vnd.jupyter.widget-view+json": {
       "model_id": "0649241d90ac48ba87ef5fd426b40aaa",
       "version_major": 2,
       "version_minor": 0
      },
      "text/plain": [
       "Epoch 26:   0%|          | 0/500 [00:00<?, ?it/s]"
      ]
     },
     "metadata": {},
     "output_type": "display_data"
    },
    {
     "data": {
      "application/vnd.jupyter.widget-view+json": {
       "model_id": "887c3daa309746f6b630583eb3f85c1c",
       "version_major": 2,
       "version_minor": 0
      },
      "text/plain": [
       "Epoch 27:   0%|          | 0/500 [00:00<?, ?it/s]"
      ]
     },
     "metadata": {},
     "output_type": "display_data"
    },
    {
     "data": {
      "application/vnd.jupyter.widget-view+json": {
       "model_id": "92111f900129418fb22c84c0bf5bed8a",
       "version_major": 2,
       "version_minor": 0
      },
      "text/plain": [
       "Epoch 28:   0%|          | 0/500 [00:00<?, ?it/s]"
      ]
     },
     "metadata": {},
     "output_type": "display_data"
    },
    {
     "data": {
      "application/vnd.jupyter.widget-view+json": {
       "model_id": "cdb07d6c44cc4941b9592966aa197519",
       "version_major": 2,
       "version_minor": 0
      },
      "text/plain": [
       "Epoch 29:   0%|          | 0/500 [00:00<?, ?it/s]"
      ]
     },
     "metadata": {},
     "output_type": "display_data"
    },
    {
     "data": {
      "application/vnd.jupyter.widget-view+json": {
       "model_id": "bded99b07e4549b4a3e8c27a03158605",
       "version_major": 2,
       "version_minor": 0
      },
      "text/plain": [
       "Epoch 30:   0%|          | 0/500 [00:00<?, ?it/s]"
      ]
     },
     "metadata": {},
     "output_type": "display_data"
    },
    {
     "data": {
      "application/vnd.jupyter.widget-view+json": {
       "model_id": "c3120a37aff942309caf49211674de08",
       "version_major": 2,
       "version_minor": 0
      },
      "text/plain": [
       "Epoch 31:   0%|          | 0/500 [00:00<?, ?it/s]"
      ]
     },
     "metadata": {},
     "output_type": "display_data"
    },
    {
     "data": {
      "application/vnd.jupyter.widget-view+json": {
       "model_id": "078f28414a18447c93b672f2f9446d1d",
       "version_major": 2,
       "version_minor": 0
      },
      "text/plain": [
       "Epoch 32:   0%|          | 0/500 [00:00<?, ?it/s]"
      ]
     },
     "metadata": {},
     "output_type": "display_data"
    },
    {
     "data": {
      "application/vnd.jupyter.widget-view+json": {
       "model_id": "40335e1a746a474fb63d765753d3115a",
       "version_major": 2,
       "version_minor": 0
      },
      "text/plain": [
       "Epoch 33:   0%|          | 0/500 [00:00<?, ?it/s]"
      ]
     },
     "metadata": {},
     "output_type": "display_data"
    },
    {
     "data": {
      "application/vnd.jupyter.widget-view+json": {
       "model_id": "79d6c81107394788a5744d355288455f",
       "version_major": 2,
       "version_minor": 0
      },
      "text/plain": [
       "Epoch 34:   0%|          | 0/500 [00:00<?, ?it/s]"
      ]
     },
     "metadata": {},
     "output_type": "display_data"
    },
    {
     "data": {
      "application/vnd.jupyter.widget-view+json": {
       "model_id": "6322e267d2b04b1fbd03d9465a7bfd71",
       "version_major": 2,
       "version_minor": 0
      },
      "text/plain": [
       "Epoch 35:   0%|          | 0/500 [00:00<?, ?it/s]"
      ]
     },
     "metadata": {},
     "output_type": "display_data"
    },
    {
     "data": {
      "application/vnd.jupyter.widget-view+json": {
       "model_id": "33c3314fa3154ff7913e36a1b2220513",
       "version_major": 2,
       "version_minor": 0
      },
      "text/plain": [
       "Epoch 36:   0%|          | 0/500 [00:00<?, ?it/s]"
      ]
     },
     "metadata": {},
     "output_type": "display_data"
    },
    {
     "data": {
      "application/vnd.jupyter.widget-view+json": {
       "model_id": "57e1720484ab4e5bb12f4ca0114d8d80",
       "version_major": 2,
       "version_minor": 0
      },
      "text/plain": [
       "Epoch 37:   0%|          | 0/500 [00:00<?, ?it/s]"
      ]
     },
     "metadata": {},
     "output_type": "display_data"
    },
    {
     "data": {
      "application/vnd.jupyter.widget-view+json": {
       "model_id": "39b6449abda547a89297f44930144291",
       "version_major": 2,
       "version_minor": 0
      },
      "text/plain": [
       "Epoch 38:   0%|          | 0/500 [00:00<?, ?it/s]"
      ]
     },
     "metadata": {},
     "output_type": "display_data"
    },
    {
     "data": {
      "application/vnd.jupyter.widget-view+json": {
       "model_id": "d5178dd179b542f29c235e8a0b76c7ed",
       "version_major": 2,
       "version_minor": 0
      },
      "text/plain": [
       "Epoch 39:   0%|          | 0/500 [00:00<?, ?it/s]"
      ]
     },
     "metadata": {},
     "output_type": "display_data"
    },
    {
     "data": {
      "application/vnd.jupyter.widget-view+json": {
       "model_id": "baf066482df04086b954665d791f4087",
       "version_major": 2,
       "version_minor": 0
      },
      "text/plain": [
       "Epoch 40:   0%|          | 0/500 [00:00<?, ?it/s]"
      ]
     },
     "metadata": {},
     "output_type": "display_data"
    },
    {
     "data": {
      "application/vnd.jupyter.widget-view+json": {
       "model_id": "383642d5da7247d08c369762dd66ea4c",
       "version_major": 2,
       "version_minor": 0
      },
      "text/plain": [
       "Epoch 41:   0%|          | 0/500 [00:00<?, ?it/s]"
      ]
     },
     "metadata": {},
     "output_type": "display_data"
    },
    {
     "data": {
      "application/vnd.jupyter.widget-view+json": {
       "model_id": "6025961222734873919d581dc423ff3e",
       "version_major": 2,
       "version_minor": 0
      },
      "text/plain": [
       "Epoch 42:   0%|          | 0/500 [00:00<?, ?it/s]"
      ]
     },
     "metadata": {},
     "output_type": "display_data"
    },
    {
     "data": {
      "application/vnd.jupyter.widget-view+json": {
       "model_id": "c0bf711a0d484f67a198f6820710f90c",
       "version_major": 2,
       "version_minor": 0
      },
      "text/plain": [
       "Epoch 43:   0%|          | 0/500 [00:00<?, ?it/s]"
      ]
     },
     "metadata": {},
     "output_type": "display_data"
    },
    {
     "data": {
      "application/vnd.jupyter.widget-view+json": {
       "model_id": "ae1e6d9e3bac46fa986a42cb3f673431",
       "version_major": 2,
       "version_minor": 0
      },
      "text/plain": [
       "Epoch 44:   0%|          | 0/500 [00:00<?, ?it/s]"
      ]
     },
     "metadata": {},
     "output_type": "display_data"
    },
    {
     "data": {
      "application/vnd.jupyter.widget-view+json": {
       "model_id": "9f0ceede51e84261bbf95a558fc65a6f",
       "version_major": 2,
       "version_minor": 0
      },
      "text/plain": [
       "Epoch 45:   0%|          | 0/500 [00:00<?, ?it/s]"
      ]
     },
     "metadata": {},
     "output_type": "display_data"
    },
    {
     "data": {
      "application/vnd.jupyter.widget-view+json": {
       "model_id": "99a79248575f4f78a7b5c33f9cf83145",
       "version_major": 2,
       "version_minor": 0
      },
      "text/plain": [
       "Epoch 46:   0%|          | 0/500 [00:00<?, ?it/s]"
      ]
     },
     "metadata": {},
     "output_type": "display_data"
    },
    {
     "data": {
      "application/vnd.jupyter.widget-view+json": {
       "model_id": "3b83e133a5574534996334323d8e48c0",
       "version_major": 2,
       "version_minor": 0
      },
      "text/plain": [
       "Epoch 47:   0%|          | 0/500 [00:00<?, ?it/s]"
      ]
     },
     "metadata": {},
     "output_type": "display_data"
    },
    {
     "data": {
      "application/vnd.jupyter.widget-view+json": {
       "model_id": "bd40926b5f2840a1903b1d51e537f665",
       "version_major": 2,
       "version_minor": 0
      },
      "text/plain": [
       "Epoch 48:   0%|          | 0/500 [00:00<?, ?it/s]"
      ]
     },
     "metadata": {},
     "output_type": "display_data"
    },
    {
     "data": {
      "application/vnd.jupyter.widget-view+json": {
       "model_id": "db17ca83797c4ebd9762a6a03c43acd4",
       "version_major": 2,
       "version_minor": 0
      },
      "text/plain": [
       "Epoch 49:   0%|          | 0/500 [00:00<?, ?it/s]"
      ]
     },
     "metadata": {},
     "output_type": "display_data"
    },
    {
     "data": {
      "application/vnd.jupyter.widget-view+json": {
       "model_id": "751582b8f5954d84880c41770c241941",
       "version_major": 2,
       "version_minor": 0
      },
      "text/plain": [
       "Epoch 50:   0%|          | 0/500 [00:00<?, ?it/s]"
      ]
     },
     "metadata": {},
     "output_type": "display_data"
    },
    {
     "data": {
      "application/vnd.jupyter.widget-view+json": {
       "model_id": "984bb9b2dc4d426cb9a3755fcf5c785e",
       "version_major": 2,
       "version_minor": 0
      },
      "text/plain": [
       "Epoch 51:   0%|          | 0/500 [00:00<?, ?it/s]"
      ]
     },
     "metadata": {},
     "output_type": "display_data"
    },
    {
     "data": {
      "application/vnd.jupyter.widget-view+json": {
       "model_id": "6f9ea93134a44e37ae2b5acc56ae34ee",
       "version_major": 2,
       "version_minor": 0
      },
      "text/plain": [
       "Epoch 52:   0%|          | 0/500 [00:00<?, ?it/s]"
      ]
     },
     "metadata": {},
     "output_type": "display_data"
    },
    {
     "data": {
      "application/vnd.jupyter.widget-view+json": {
       "model_id": "65f400dcf4064bc087ac0a998299d55a",
       "version_major": 2,
       "version_minor": 0
      },
      "text/plain": [
       "Epoch 53:   0%|          | 0/500 [00:00<?, ?it/s]"
      ]
     },
     "metadata": {},
     "output_type": "display_data"
    },
    {
     "data": {
      "application/vnd.jupyter.widget-view+json": {
       "model_id": "673a8817f23f4e57a2911f1ac656a67f",
       "version_major": 2,
       "version_minor": 0
      },
      "text/plain": [
       "Epoch 54:   0%|          | 0/500 [00:00<?, ?it/s]"
      ]
     },
     "metadata": {},
     "output_type": "display_data"
    },
    {
     "data": {
      "application/vnd.jupyter.widget-view+json": {
       "model_id": "b1a73854bf3744e494df164a40a237bc",
       "version_major": 2,
       "version_minor": 0
      },
      "text/plain": [
       "Epoch 55:   0%|          | 0/500 [00:00<?, ?it/s]"
      ]
     },
     "metadata": {},
     "output_type": "display_data"
    },
    {
     "data": {
      "application/vnd.jupyter.widget-view+json": {
       "model_id": "4fb65d8056294a2ea6f816af06384719",
       "version_major": 2,
       "version_minor": 0
      },
      "text/plain": [
       "Epoch 56:   0%|          | 0/500 [00:00<?, ?it/s]"
      ]
     },
     "metadata": {},
     "output_type": "display_data"
    },
    {
     "data": {
      "application/vnd.jupyter.widget-view+json": {
       "model_id": "69c9218488704632a25d2121a850bf7a",
       "version_major": 2,
       "version_minor": 0
      },
      "text/plain": [
       "Epoch 57:   0%|          | 0/500 [00:00<?, ?it/s]"
      ]
     },
     "metadata": {},
     "output_type": "display_data"
    },
    {
     "data": {
      "application/vnd.jupyter.widget-view+json": {
       "model_id": "71f93fc6a0444396a92786d40cb9ff32",
       "version_major": 2,
       "version_minor": 0
      },
      "text/plain": [
       "Epoch 58:   0%|          | 0/500 [00:00<?, ?it/s]"
      ]
     },
     "metadata": {},
     "output_type": "display_data"
    },
    {
     "data": {
      "application/vnd.jupyter.widget-view+json": {
       "model_id": "c3d3246c8424480b8365ad10b39f0317",
       "version_major": 2,
       "version_minor": 0
      },
      "text/plain": [
       "Epoch 59:   0%|          | 0/500 [00:00<?, ?it/s]"
      ]
     },
     "metadata": {},
     "output_type": "display_data"
    },
    {
     "data": {
      "application/vnd.jupyter.widget-view+json": {
       "model_id": "9a016adf06e142208f90512a5dbf9746",
       "version_major": 2,
       "version_minor": 0
      },
      "text/plain": [
       "Epoch 60:   0%|          | 0/500 [00:00<?, ?it/s]"
      ]
     },
     "metadata": {},
     "output_type": "display_data"
    },
    {
     "data": {
      "application/vnd.jupyter.widget-view+json": {
       "model_id": "abb3233d2a484237b9141bdd29f17388",
       "version_major": 2,
       "version_minor": 0
      },
      "text/plain": [
       "Epoch 61:   0%|          | 0/500 [00:00<?, ?it/s]"
      ]
     },
     "metadata": {},
     "output_type": "display_data"
    },
    {
     "data": {
      "application/vnd.jupyter.widget-view+json": {
       "model_id": "611622a714f643e1934d2abc04e699e6",
       "version_major": 2,
       "version_minor": 0
      },
      "text/plain": [
       "Epoch 62:   0%|          | 0/500 [00:00<?, ?it/s]"
      ]
     },
     "metadata": {},
     "output_type": "display_data"
    },
    {
     "data": {
      "application/vnd.jupyter.widget-view+json": {
       "model_id": "1a311cec0d284637be2113c2c69934b0",
       "version_major": 2,
       "version_minor": 0
      },
      "text/plain": [
       "Epoch 63:   0%|          | 0/500 [00:00<?, ?it/s]"
      ]
     },
     "metadata": {},
     "output_type": "display_data"
    },
    {
     "data": {
      "application/vnd.jupyter.widget-view+json": {
       "model_id": "a3a11daf926e4c7286cacda0af2b22a5",
       "version_major": 2,
       "version_minor": 0
      },
      "text/plain": [
       "Epoch 64:   0%|          | 0/500 [00:00<?, ?it/s]"
      ]
     },
     "metadata": {},
     "output_type": "display_data"
    },
    {
     "data": {
      "application/vnd.jupyter.widget-view+json": {
       "model_id": "30291695a2a2411998896a92e9759675",
       "version_major": 2,
       "version_minor": 0
      },
      "text/plain": [
       "Epoch 65:   0%|          | 0/500 [00:00<?, ?it/s]"
      ]
     },
     "metadata": {},
     "output_type": "display_data"
    },
    {
     "data": {
      "application/vnd.jupyter.widget-view+json": {
       "model_id": "8bb83915bc484415a654c9d470051c45",
       "version_major": 2,
       "version_minor": 0
      },
      "text/plain": [
       "Epoch 66:   0%|          | 0/500 [00:00<?, ?it/s]"
      ]
     },
     "metadata": {},
     "output_type": "display_data"
    },
    {
     "data": {
      "application/vnd.jupyter.widget-view+json": {
       "model_id": "8c4307d874724c4c888ef371e0b5c4c6",
       "version_major": 2,
       "version_minor": 0
      },
      "text/plain": [
       "Epoch 67:   0%|          | 0/500 [00:00<?, ?it/s]"
      ]
     },
     "metadata": {},
     "output_type": "display_data"
    },
    {
     "data": {
      "application/vnd.jupyter.widget-view+json": {
       "model_id": "b8e6a1b893cd46018883cdf55b154b11",
       "version_major": 2,
       "version_minor": 0
      },
      "text/plain": [
       "Epoch 68:   0%|          | 0/500 [00:00<?, ?it/s]"
      ]
     },
     "metadata": {},
     "output_type": "display_data"
    },
    {
     "data": {
      "application/vnd.jupyter.widget-view+json": {
       "model_id": "d7e0c2ca68f9474c9ba4e810ccf9a5de",
       "version_major": 2,
       "version_minor": 0
      },
      "text/plain": [
       "Epoch 69:   0%|          | 0/500 [00:00<?, ?it/s]"
      ]
     },
     "metadata": {},
     "output_type": "display_data"
    },
    {
     "data": {
      "application/vnd.jupyter.widget-view+json": {
       "model_id": "8ae893cd2ecf46a48189c51f4e51eb11",
       "version_major": 2,
       "version_minor": 0
      },
      "text/plain": [
       "Epoch 70:   0%|          | 0/500 [00:00<?, ?it/s]"
      ]
     },
     "metadata": {},
     "output_type": "display_data"
    },
    {
     "data": {
      "application/vnd.jupyter.widget-view+json": {
       "model_id": "e99d185cea1344439a865f25aae5028b",
       "version_major": 2,
       "version_minor": 0
      },
      "text/plain": [
       "Epoch 71:   0%|          | 0/500 [00:00<?, ?it/s]"
      ]
     },
     "metadata": {},
     "output_type": "display_data"
    },
    {
     "data": {
      "application/vnd.jupyter.widget-view+json": {
       "model_id": "164b7485eaa2451abf4201620ce7337b",
       "version_major": 2,
       "version_minor": 0
      },
      "text/plain": [
       "Epoch 72:   0%|          | 0/500 [00:00<?, ?it/s]"
      ]
     },
     "metadata": {},
     "output_type": "display_data"
    },
    {
     "data": {
      "application/vnd.jupyter.widget-view+json": {
       "model_id": "09becf185bc1428781d45435c9a11851",
       "version_major": 2,
       "version_minor": 0
      },
      "text/plain": [
       "Epoch 73:   0%|          | 0/500 [00:00<?, ?it/s]"
      ]
     },
     "metadata": {},
     "output_type": "display_data"
    },
    {
     "data": {
      "application/vnd.jupyter.widget-view+json": {
       "model_id": "984f88aa7bc44913b30db2d7c72f2d3f",
       "version_major": 2,
       "version_minor": 0
      },
      "text/plain": [
       "Epoch 74:   0%|          | 0/500 [00:00<?, ?it/s]"
      ]
     },
     "metadata": {},
     "output_type": "display_data"
    },
    {
     "data": {
      "application/vnd.jupyter.widget-view+json": {
       "model_id": "8dd261ed316442b0b3df10914706be2e",
       "version_major": 2,
       "version_minor": 0
      },
      "text/plain": [
       "Epoch 75:   0%|          | 0/500 [00:00<?, ?it/s]"
      ]
     },
     "metadata": {},
     "output_type": "display_data"
    },
    {
     "data": {
      "application/vnd.jupyter.widget-view+json": {
       "model_id": "ca47b1e0342141368956445c078e8251",
       "version_major": 2,
       "version_minor": 0
      },
      "text/plain": [
       "Epoch 76:   0%|          | 0/500 [00:00<?, ?it/s]"
      ]
     },
     "metadata": {},
     "output_type": "display_data"
    },
    {
     "data": {
      "application/vnd.jupyter.widget-view+json": {
       "model_id": "7d6c0caaa76c4e35847b1f649441b18c",
       "version_major": 2,
       "version_minor": 0
      },
      "text/plain": [
       "Epoch 77:   0%|          | 0/500 [00:00<?, ?it/s]"
      ]
     },
     "metadata": {},
     "output_type": "display_data"
    },
    {
     "data": {
      "application/vnd.jupyter.widget-view+json": {
       "model_id": "de02742b7db348c790c05f6e2937b140",
       "version_major": 2,
       "version_minor": 0
      },
      "text/plain": [
       "Epoch 78:   0%|          | 0/500 [00:00<?, ?it/s]"
      ]
     },
     "metadata": {},
     "output_type": "display_data"
    },
    {
     "data": {
      "application/vnd.jupyter.widget-view+json": {
       "model_id": "362ba6c100094e3da54f070ecfea54c0",
       "version_major": 2,
       "version_minor": 0
      },
      "text/plain": [
       "Epoch 79:   0%|          | 0/500 [00:00<?, ?it/s]"
      ]
     },
     "metadata": {},
     "output_type": "display_data"
    },
    {
     "data": {
      "application/vnd.jupyter.widget-view+json": {
       "model_id": "7c5b4f4881854ef1aeeb99d1722939fc",
       "version_major": 2,
       "version_minor": 0
      },
      "text/plain": [
       "Epoch 80:   0%|          | 0/500 [00:00<?, ?it/s]"
      ]
     },
     "metadata": {},
     "output_type": "display_data"
    },
    {
     "data": {
      "application/vnd.jupyter.widget-view+json": {
       "model_id": "e6a67975e3444ca8be4e2c8b18e0f38a",
       "version_major": 2,
       "version_minor": 0
      },
      "text/plain": [
       "Epoch 81:   0%|          | 0/500 [00:00<?, ?it/s]"
      ]
     },
     "metadata": {},
     "output_type": "display_data"
    },
    {
     "data": {
      "application/vnd.jupyter.widget-view+json": {
       "model_id": "44dc6daf535844d5bfa6af0a4dc67622",
       "version_major": 2,
       "version_minor": 0
      },
      "text/plain": [
       "Epoch 82:   0%|          | 0/500 [00:00<?, ?it/s]"
      ]
     },
     "metadata": {},
     "output_type": "display_data"
    },
    {
     "data": {
      "application/vnd.jupyter.widget-view+json": {
       "model_id": "e8f700f89b5c46a1b64a090c127cc0f5",
       "version_major": 2,
       "version_minor": 0
      },
      "text/plain": [
       "Epoch 83:   0%|          | 0/500 [00:00<?, ?it/s]"
      ]
     },
     "metadata": {},
     "output_type": "display_data"
    },
    {
     "data": {
      "application/vnd.jupyter.widget-view+json": {
       "model_id": "cd0beae1ee7f42beaf3f1ddfa9363bdd",
       "version_major": 2,
       "version_minor": 0
      },
      "text/plain": [
       "Epoch 84:   0%|          | 0/500 [00:00<?, ?it/s]"
      ]
     },
     "metadata": {},
     "output_type": "display_data"
    },
    {
     "data": {
      "application/vnd.jupyter.widget-view+json": {
       "model_id": "2b7a959954e84d15b746a5a833a2a3b5",
       "version_major": 2,
       "version_minor": 0
      },
      "text/plain": [
       "Epoch 85:   0%|          | 0/500 [00:00<?, ?it/s]"
      ]
     },
     "metadata": {},
     "output_type": "display_data"
    },
    {
     "data": {
      "application/vnd.jupyter.widget-view+json": {
       "model_id": "93acd185c0a747cb87a163470a169603",
       "version_major": 2,
       "version_minor": 0
      },
      "text/plain": [
       "Epoch 86:   0%|          | 0/500 [00:00<?, ?it/s]"
      ]
     },
     "metadata": {},
     "output_type": "display_data"
    },
    {
     "data": {
      "application/vnd.jupyter.widget-view+json": {
       "model_id": "eac5ea69f5d548949ee47dfb73c393e7",
       "version_major": 2,
       "version_minor": 0
      },
      "text/plain": [
       "Epoch 87:   0%|          | 0/500 [00:00<?, ?it/s]"
      ]
     },
     "metadata": {},
     "output_type": "display_data"
    },
    {
     "data": {
      "application/vnd.jupyter.widget-view+json": {
       "model_id": "a3078c4318c9492fa1abcc152f278f0a",
       "version_major": 2,
       "version_minor": 0
      },
      "text/plain": [
       "Epoch 88:   0%|          | 0/500 [00:00<?, ?it/s]"
      ]
     },
     "metadata": {},
     "output_type": "display_data"
    },
    {
     "data": {
      "application/vnd.jupyter.widget-view+json": {
       "model_id": "38ff68cc024e40b299f8b73ea4891721",
       "version_major": 2,
       "version_minor": 0
      },
      "text/plain": [
       "Epoch 89:   0%|          | 0/500 [00:00<?, ?it/s]"
      ]
     },
     "metadata": {},
     "output_type": "display_data"
    },
    {
     "data": {
      "application/vnd.jupyter.widget-view+json": {
       "model_id": "a1053c006e44401cb86c910eeaf071f8",
       "version_major": 2,
       "version_minor": 0
      },
      "text/plain": [
       "Epoch 90:   0%|          | 0/500 [00:00<?, ?it/s]"
      ]
     },
     "metadata": {},
     "output_type": "display_data"
    },
    {
     "data": {
      "application/vnd.jupyter.widget-view+json": {
       "model_id": "b60d951a61c24256a8d0cb38a3d64175",
       "version_major": 2,
       "version_minor": 0
      },
      "text/plain": [
       "Epoch 91:   0%|          | 0/500 [00:00<?, ?it/s]"
      ]
     },
     "metadata": {},
     "output_type": "display_data"
    },
    {
     "data": {
      "application/vnd.jupyter.widget-view+json": {
       "model_id": "f195d4f301a444f0b642539307817e76",
       "version_major": 2,
       "version_minor": 0
      },
      "text/plain": [
       "Epoch 92:   0%|          | 0/500 [00:00<?, ?it/s]"
      ]
     },
     "metadata": {},
     "output_type": "display_data"
    },
    {
     "data": {
      "application/vnd.jupyter.widget-view+json": {
       "model_id": "c27d1e9bc46b4fba88cf5f374e526621",
       "version_major": 2,
       "version_minor": 0
      },
      "text/plain": [
       "Epoch 93:   0%|          | 0/500 [00:00<?, ?it/s]"
      ]
     },
     "metadata": {},
     "output_type": "display_data"
    },
    {
     "data": {
      "application/vnd.jupyter.widget-view+json": {
       "model_id": "de7961cd909746109e25cbc0aa7f427e",
       "version_major": 2,
       "version_minor": 0
      },
      "text/plain": [
       "Epoch 94:   0%|          | 0/500 [00:00<?, ?it/s]"
      ]
     },
     "metadata": {},
     "output_type": "display_data"
    },
    {
     "data": {
      "application/vnd.jupyter.widget-view+json": {
       "model_id": "6c536e37a3b349828c9e67aa303f9e8a",
       "version_major": 2,
       "version_minor": 0
      },
      "text/plain": [
       "Epoch 95:   0%|          | 0/500 [00:00<?, ?it/s]"
      ]
     },
     "metadata": {},
     "output_type": "display_data"
    },
    {
     "data": {
      "application/vnd.jupyter.widget-view+json": {
       "model_id": "707334a59a9b45f99e18b2a0d6d1bf6c",
       "version_major": 2,
       "version_minor": 0
      },
      "text/plain": [
       "Epoch 96:   0%|          | 0/500 [00:00<?, ?it/s]"
      ]
     },
     "metadata": {},
     "output_type": "display_data"
    },
    {
     "data": {
      "application/vnd.jupyter.widget-view+json": {
       "model_id": "87e3344fb19144a585636553c91c3ca4",
       "version_major": 2,
       "version_minor": 0
      },
      "text/plain": [
       "Epoch 97:   0%|          | 0/500 [00:00<?, ?it/s]"
      ]
     },
     "metadata": {},
     "output_type": "display_data"
    },
    {
     "data": {
      "application/vnd.jupyter.widget-view+json": {
       "model_id": "af3f5c0bab894895b03576c946a7603c",
       "version_major": 2,
       "version_minor": 0
      },
      "text/plain": [
       "Epoch 98:   0%|          | 0/500 [00:00<?, ?it/s]"
      ]
     },
     "metadata": {},
     "output_type": "display_data"
    },
    {
     "data": {
      "application/vnd.jupyter.widget-view+json": {
       "model_id": "97c9b2c3c0534810b5827bc28ea0aa22",
       "version_major": 2,
       "version_minor": 0
      },
      "text/plain": [
       "Epoch 99:   0%|          | 0/500 [00:00<?, ?it/s]"
      ]
     },
     "metadata": {},
     "output_type": "display_data"
    },
    {
     "data": {
      "application/vnd.jupyter.widget-view+json": {
       "model_id": "fa05800fd97e445d99f04eada830025a",
       "version_major": 2,
       "version_minor": 0
      },
      "text/plain": [
       "Epoch 100:   0%|          | 0/500 [00:00<?, ?it/s]"
      ]
     },
     "metadata": {},
     "output_type": "display_data"
    },
    {
     "data": {
      "application/vnd.jupyter.widget-view+json": {
       "model_id": "c550134604df465c90f221c1d62400dc",
       "version_major": 2,
       "version_minor": 0
      },
      "text/plain": [
       "Epoch 101:   0%|          | 0/500 [00:00<?, ?it/s]"
      ]
     },
     "metadata": {},
     "output_type": "display_data"
    },
    {
     "data": {
      "application/vnd.jupyter.widget-view+json": {
       "model_id": "80c2936f38304185aeab415cb2bd1523",
       "version_major": 2,
       "version_minor": 0
      },
      "text/plain": [
       "Epoch 102:   0%|          | 0/500 [00:00<?, ?it/s]"
      ]
     },
     "metadata": {},
     "output_type": "display_data"
    },
    {
     "data": {
      "application/vnd.jupyter.widget-view+json": {
       "model_id": "735627dd8b1a49fea6375b8c8174fee2",
       "version_major": 2,
       "version_minor": 0
      },
      "text/plain": [
       "Epoch 103:   0%|          | 0/500 [00:00<?, ?it/s]"
      ]
     },
     "metadata": {},
     "output_type": "display_data"
    },
    {
     "data": {
      "application/vnd.jupyter.widget-view+json": {
       "model_id": "0c93fd8b451c44c6862f1aeb47ec0880",
       "version_major": 2,
       "version_minor": 0
      },
      "text/plain": [
       "Epoch 104:   0%|          | 0/500 [00:00<?, ?it/s]"
      ]
     },
     "metadata": {},
     "output_type": "display_data"
    },
    {
     "data": {
      "application/vnd.jupyter.widget-view+json": {
       "model_id": "5775a144c88c4406897818a64adf0ce3",
       "version_major": 2,
       "version_minor": 0
      },
      "text/plain": [
       "Epoch 105:   0%|          | 0/500 [00:00<?, ?it/s]"
      ]
     },
     "metadata": {},
     "output_type": "display_data"
    },
    {
     "data": {
      "application/vnd.jupyter.widget-view+json": {
       "model_id": "a8e6333a5db24793a5d9becfe5aeadb2",
       "version_major": 2,
       "version_minor": 0
      },
      "text/plain": [
       "Epoch 106:   0%|          | 0/500 [00:00<?, ?it/s]"
      ]
     },
     "metadata": {},
     "output_type": "display_data"
    },
    {
     "data": {
      "application/vnd.jupyter.widget-view+json": {
       "model_id": "ebe08d785c5847a28f165f8cdb7fac3e",
       "version_major": 2,
       "version_minor": 0
      },
      "text/plain": [
       "Epoch 107:   0%|          | 0/500 [00:00<?, ?it/s]"
      ]
     },
     "metadata": {},
     "output_type": "display_data"
    },
    {
     "data": {
      "application/vnd.jupyter.widget-view+json": {
       "model_id": "705912ceb2cf4061a188a7b764b290a9",
       "version_major": 2,
       "version_minor": 0
      },
      "text/plain": [
       "Epoch 108:   0%|          | 0/500 [00:00<?, ?it/s]"
      ]
     },
     "metadata": {},
     "output_type": "display_data"
    },
    {
     "data": {
      "application/vnd.jupyter.widget-view+json": {
       "model_id": "d58c37d480974b89969e604d3086ed50",
       "version_major": 2,
       "version_minor": 0
      },
      "text/plain": [
       "Epoch 109:   0%|          | 0/500 [00:00<?, ?it/s]"
      ]
     },
     "metadata": {},
     "output_type": "display_data"
    },
    {
     "data": {
      "application/vnd.jupyter.widget-view+json": {
       "model_id": "4d7b46bd2a304a89a1b91bc914203376",
       "version_major": 2,
       "version_minor": 0
      },
      "text/plain": [
       "Epoch 110:   0%|          | 0/500 [00:00<?, ?it/s]"
      ]
     },
     "metadata": {},
     "output_type": "display_data"
    },
    {
     "data": {
      "application/vnd.jupyter.widget-view+json": {
       "model_id": "b8ab6e4ee29f4ca4a79b466e5275bcc2",
       "version_major": 2,
       "version_minor": 0
      },
      "text/plain": [
       "Epoch 111:   0%|          | 0/500 [00:00<?, ?it/s]"
      ]
     },
     "metadata": {},
     "output_type": "display_data"
    },
    {
     "data": {
      "application/vnd.jupyter.widget-view+json": {
       "model_id": "db9e7a81d98442fd8731d7c433334823",
       "version_major": 2,
       "version_minor": 0
      },
      "text/plain": [
       "Epoch 112:   0%|          | 0/500 [00:00<?, ?it/s]"
      ]
     },
     "metadata": {},
     "output_type": "display_data"
    },
    {
     "data": {
      "application/vnd.jupyter.widget-view+json": {
       "model_id": "f58d5702cf0e491a8084bc71bfbad131",
       "version_major": 2,
       "version_minor": 0
      },
      "text/plain": [
       "Epoch 113:   0%|          | 0/500 [00:00<?, ?it/s]"
      ]
     },
     "metadata": {},
     "output_type": "display_data"
    },
    {
     "data": {
      "application/vnd.jupyter.widget-view+json": {
       "model_id": "e039c141cbbe4154816aa3f6ec4ce4b1",
       "version_major": 2,
       "version_minor": 0
      },
      "text/plain": [
       "Epoch 114:   0%|          | 0/500 [00:00<?, ?it/s]"
      ]
     },
     "metadata": {},
     "output_type": "display_data"
    },
    {
     "data": {
      "application/vnd.jupyter.widget-view+json": {
       "model_id": "0d9db53b603a4814a992c34af761e902",
       "version_major": 2,
       "version_minor": 0
      },
      "text/plain": [
       "Epoch 115:   0%|          | 0/500 [00:00<?, ?it/s]"
      ]
     },
     "metadata": {},
     "output_type": "display_data"
    },
    {
     "data": {
      "application/vnd.jupyter.widget-view+json": {
       "model_id": "4acecda9c26b4eaeb9fddf30d31dbe5e",
       "version_major": 2,
       "version_minor": 0
      },
      "text/plain": [
       "Epoch 116:   0%|          | 0/500 [00:00<?, ?it/s]"
      ]
     },
     "metadata": {},
     "output_type": "display_data"
    },
    {
     "data": {
      "application/vnd.jupyter.widget-view+json": {
       "model_id": "15be874259df4ad0bb195ee42c3aaa5e",
       "version_major": 2,
       "version_minor": 0
      },
      "text/plain": [
       "Epoch 117:   0%|          | 0/500 [00:00<?, ?it/s]"
      ]
     },
     "metadata": {},
     "output_type": "display_data"
    },
    {
     "data": {
      "application/vnd.jupyter.widget-view+json": {
       "model_id": "e8cfbc96dd8c456f8b7db30674b33883",
       "version_major": 2,
       "version_minor": 0
      },
      "text/plain": [
       "Epoch 118:   0%|          | 0/500 [00:00<?, ?it/s]"
      ]
     },
     "metadata": {},
     "output_type": "display_data"
    },
    {
     "data": {
      "application/vnd.jupyter.widget-view+json": {
       "model_id": "09fccdd6189244cbaf892f4966d34c47",
       "version_major": 2,
       "version_minor": 0
      },
      "text/plain": [
       "Epoch 119:   0%|          | 0/500 [00:00<?, ?it/s]"
      ]
     },
     "metadata": {},
     "output_type": "display_data"
    },
    {
     "data": {
      "application/vnd.jupyter.widget-view+json": {
       "model_id": "c57184bd00b343439b56518c8d4863a8",
       "version_major": 2,
       "version_minor": 0
      },
      "text/plain": [
       "Epoch 120:   0%|          | 0/500 [00:00<?, ?it/s]"
      ]
     },
     "metadata": {},
     "output_type": "display_data"
    },
    {
     "data": {
      "application/vnd.jupyter.widget-view+json": {
       "model_id": "efe3fad22653490ab91e33754ccae41f",
       "version_major": 2,
       "version_minor": 0
      },
      "text/plain": [
       "Epoch 121:   0%|          | 0/500 [00:00<?, ?it/s]"
      ]
     },
     "metadata": {},
     "output_type": "display_data"
    },
    {
     "data": {
      "application/vnd.jupyter.widget-view+json": {
       "model_id": "1912feded92341eb9c06cdc30c640af3",
       "version_major": 2,
       "version_minor": 0
      },
      "text/plain": [
       "Epoch 122:   0%|          | 0/500 [00:00<?, ?it/s]"
      ]
     },
     "metadata": {},
     "output_type": "display_data"
    },
    {
     "data": {
      "application/vnd.jupyter.widget-view+json": {
       "model_id": "e6bedb179b9b490fb833be0a6e47ab1d",
       "version_major": 2,
       "version_minor": 0
      },
      "text/plain": [
       "Epoch 123:   0%|          | 0/500 [00:00<?, ?it/s]"
      ]
     },
     "metadata": {},
     "output_type": "display_data"
    },
    {
     "data": {
      "application/vnd.jupyter.widget-view+json": {
       "model_id": "5b92f829904843b6ac5ea362b8709312",
       "version_major": 2,
       "version_minor": 0
      },
      "text/plain": [
       "Epoch 124:   0%|          | 0/500 [00:00<?, ?it/s]"
      ]
     },
     "metadata": {},
     "output_type": "display_data"
    },
    {
     "data": {
      "application/vnd.jupyter.widget-view+json": {
       "model_id": "7aaac714007c43139d89dbad9da6f57a",
       "version_major": 2,
       "version_minor": 0
      },
      "text/plain": [
       "Epoch 125:   0%|          | 0/500 [00:00<?, ?it/s]"
      ]
     },
     "metadata": {},
     "output_type": "display_data"
    },
    {
     "data": {
      "application/vnd.jupyter.widget-view+json": {
       "model_id": "dfb1c611970b46c783d0bf809435981d",
       "version_major": 2,
       "version_minor": 0
      },
      "text/plain": [
       "Epoch 126:   0%|          | 0/500 [00:00<?, ?it/s]"
      ]
     },
     "metadata": {},
     "output_type": "display_data"
    },
    {
     "data": {
      "application/vnd.jupyter.widget-view+json": {
       "model_id": "ccbfc8fc9a294b6282a53d6bb013f297",
       "version_major": 2,
       "version_minor": 0
      },
      "text/plain": [
       "Epoch 127:   0%|          | 0/500 [00:00<?, ?it/s]"
      ]
     },
     "metadata": {},
     "output_type": "display_data"
    },
    {
     "data": {
      "application/vnd.jupyter.widget-view+json": {
       "model_id": "1d05d8892d9941b693acecb701c0a0da",
       "version_major": 2,
       "version_minor": 0
      },
      "text/plain": [
       "Epoch 128:   0%|          | 0/500 [00:00<?, ?it/s]"
      ]
     },
     "metadata": {},
     "output_type": "display_data"
    },
    {
     "data": {
      "application/vnd.jupyter.widget-view+json": {
       "model_id": "4e62100cc3234f4cba70bd8f91028564",
       "version_major": 2,
       "version_minor": 0
      },
      "text/plain": [
       "Epoch 129:   0%|          | 0/500 [00:00<?, ?it/s]"
      ]
     },
     "metadata": {},
     "output_type": "display_data"
    },
    {
     "data": {
      "application/vnd.jupyter.widget-view+json": {
       "model_id": "5b1bb6706d654995a1d066545658a04e",
       "version_major": 2,
       "version_minor": 0
      },
      "text/plain": [
       "Epoch 130:   0%|          | 0/500 [00:00<?, ?it/s]"
      ]
     },
     "metadata": {},
     "output_type": "display_data"
    },
    {
     "data": {
      "application/vnd.jupyter.widget-view+json": {
       "model_id": "e917e7a332b84bf485c27346d799344d",
       "version_major": 2,
       "version_minor": 0
      },
      "text/plain": [
       "Epoch 131:   0%|          | 0/500 [00:00<?, ?it/s]"
      ]
     },
     "metadata": {},
     "output_type": "display_data"
    },
    {
     "data": {
      "application/vnd.jupyter.widget-view+json": {
       "model_id": "544806a86344499791a46f74b649b514",
       "version_major": 2,
       "version_minor": 0
      },
      "text/plain": [
       "Epoch 132:   0%|          | 0/500 [00:00<?, ?it/s]"
      ]
     },
     "metadata": {},
     "output_type": "display_data"
    },
    {
     "data": {
      "application/vnd.jupyter.widget-view+json": {
       "model_id": "9dc36b44c46843d097fbfdce68e333a9",
       "version_major": 2,
       "version_minor": 0
      },
      "text/plain": [
       "Epoch 133:   0%|          | 0/500 [00:00<?, ?it/s]"
      ]
     },
     "metadata": {},
     "output_type": "display_data"
    },
    {
     "data": {
      "application/vnd.jupyter.widget-view+json": {
       "model_id": "968264da3f8b440ead494778a1d65b14",
       "version_major": 2,
       "version_minor": 0
      },
      "text/plain": [
       "Epoch 134:   0%|          | 0/500 [00:00<?, ?it/s]"
      ]
     },
     "metadata": {},
     "output_type": "display_data"
    },
    {
     "data": {
      "application/vnd.jupyter.widget-view+json": {
       "model_id": "f4cbc9ed1c114f2eb22fc34d366b9081",
       "version_major": 2,
       "version_minor": 0
      },
      "text/plain": [
       "Epoch 135:   0%|          | 0/500 [00:00<?, ?it/s]"
      ]
     },
     "metadata": {},
     "output_type": "display_data"
    },
    {
     "data": {
      "application/vnd.jupyter.widget-view+json": {
       "model_id": "400ba59da3014f52a8aa39745da6ff4d",
       "version_major": 2,
       "version_minor": 0
      },
      "text/plain": [
       "Epoch 136:   0%|          | 0/500 [00:00<?, ?it/s]"
      ]
     },
     "metadata": {},
     "output_type": "display_data"
    },
    {
     "data": {
      "application/vnd.jupyter.widget-view+json": {
       "model_id": "0d2c415315994591ab60494ec75e66b4",
       "version_major": 2,
       "version_minor": 0
      },
      "text/plain": [
       "Epoch 137:   0%|          | 0/500 [00:00<?, ?it/s]"
      ]
     },
     "metadata": {},
     "output_type": "display_data"
    },
    {
     "data": {
      "application/vnd.jupyter.widget-view+json": {
       "model_id": "58877b61382d4f2f896149ebd1240a9e",
       "version_major": 2,
       "version_minor": 0
      },
      "text/plain": [
       "Epoch 138:   0%|          | 0/500 [00:00<?, ?it/s]"
      ]
     },
     "metadata": {},
     "output_type": "display_data"
    },
    {
     "data": {
      "application/vnd.jupyter.widget-view+json": {
       "model_id": "728637bee5dc4e79b0ddc23663176627",
       "version_major": 2,
       "version_minor": 0
      },
      "text/plain": [
       "Epoch 139:   0%|          | 0/500 [00:00<?, ?it/s]"
      ]
     },
     "metadata": {},
     "output_type": "display_data"
    },
    {
     "data": {
      "application/vnd.jupyter.widget-view+json": {
       "model_id": "921b5a601c234cbfb015e8db1ae527e3",
       "version_major": 2,
       "version_minor": 0
      },
      "text/plain": [
       "Epoch 140:   0%|          | 0/500 [00:00<?, ?it/s]"
      ]
     },
     "metadata": {},
     "output_type": "display_data"
    },
    {
     "data": {
      "application/vnd.jupyter.widget-view+json": {
       "model_id": "c40aa00986ed48e8b1133c2ac4b296a4",
       "version_major": 2,
       "version_minor": 0
      },
      "text/plain": [
       "Epoch 141:   0%|          | 0/500 [00:00<?, ?it/s]"
      ]
     },
     "metadata": {},
     "output_type": "display_data"
    },
    {
     "data": {
      "application/vnd.jupyter.widget-view+json": {
       "model_id": "f7b785550808485e91a36d2083b78479",
       "version_major": 2,
       "version_minor": 0
      },
      "text/plain": [
       "Epoch 142:   0%|          | 0/500 [00:00<?, ?it/s]"
      ]
     },
     "metadata": {},
     "output_type": "display_data"
    },
    {
     "data": {
      "application/vnd.jupyter.widget-view+json": {
       "model_id": "26fb394a2f914bbebcf7881b6795bd15",
       "version_major": 2,
       "version_minor": 0
      },
      "text/plain": [
       "Epoch 143:   0%|          | 0/500 [00:00<?, ?it/s]"
      ]
     },
     "metadata": {},
     "output_type": "display_data"
    },
    {
     "data": {
      "application/vnd.jupyter.widget-view+json": {
       "model_id": "fbfc8ecbcc9549c5bb6699e6a5966974",
       "version_major": 2,
       "version_minor": 0
      },
      "text/plain": [
       "Epoch 144:   0%|          | 0/500 [00:00<?, ?it/s]"
      ]
     },
     "metadata": {},
     "output_type": "display_data"
    },
    {
     "data": {
      "application/vnd.jupyter.widget-view+json": {
       "model_id": "b8d94a2f7c7e4051b1f14047dcf6e2e3",
       "version_major": 2,
       "version_minor": 0
      },
      "text/plain": [
       "Epoch 145:   0%|          | 0/500 [00:00<?, ?it/s]"
      ]
     },
     "metadata": {},
     "output_type": "display_data"
    },
    {
     "data": {
      "application/vnd.jupyter.widget-view+json": {
       "model_id": "816651742f02465694d650765b58b755",
       "version_major": 2,
       "version_minor": 0
      },
      "text/plain": [
       "Epoch 146:   0%|          | 0/500 [00:00<?, ?it/s]"
      ]
     },
     "metadata": {},
     "output_type": "display_data"
    },
    {
     "data": {
      "application/vnd.jupyter.widget-view+json": {
       "model_id": "e252b281882b4095bdca6e7d7e7f6853",
       "version_major": 2,
       "version_minor": 0
      },
      "text/plain": [
       "Epoch 147:   0%|          | 0/500 [00:00<?, ?it/s]"
      ]
     },
     "metadata": {},
     "output_type": "display_data"
    },
    {
     "data": {
      "application/vnd.jupyter.widget-view+json": {
       "model_id": "b092e714430145bd82b46c113829a1af",
       "version_major": 2,
       "version_minor": 0
      },
      "text/plain": [
       "Epoch 148:   0%|          | 0/500 [00:00<?, ?it/s]"
      ]
     },
     "metadata": {},
     "output_type": "display_data"
    },
    {
     "data": {
      "application/vnd.jupyter.widget-view+json": {
       "model_id": "25a8f367fc2447de995969e88de28cb0",
       "version_major": 2,
       "version_minor": 0
      },
      "text/plain": [
       "Epoch 149:   0%|          | 0/500 [00:00<?, ?it/s]"
      ]
     },
     "metadata": {},
     "output_type": "display_data"
    },
    {
     "data": {
      "application/vnd.jupyter.widget-view+json": {
       "model_id": "be576bdff8e140d49b5c2697d6e5eb7d",
       "version_major": 2,
       "version_minor": 0
      },
      "text/plain": [
       "Epoch 150:   0%|          | 0/500 [00:00<?, ?it/s]"
      ]
     },
     "metadata": {},
     "output_type": "display_data"
    },
    {
     "data": {
      "application/vnd.jupyter.widget-view+json": {
       "model_id": "0ac25e9b733c4dabb4482dd926aa52ce",
       "version_major": 2,
       "version_minor": 0
      },
      "text/plain": [
       "Epoch 151:   0%|          | 0/500 [00:00<?, ?it/s]"
      ]
     },
     "metadata": {},
     "output_type": "display_data"
    },
    {
     "data": {
      "application/vnd.jupyter.widget-view+json": {
       "model_id": "c9aa581b486241dcb1217ed84acef015",
       "version_major": 2,
       "version_minor": 0
      },
      "text/plain": [
       "Epoch 152:   0%|          | 0/500 [00:00<?, ?it/s]"
      ]
     },
     "metadata": {},
     "output_type": "display_data"
    },
    {
     "data": {
      "application/vnd.jupyter.widget-view+json": {
       "model_id": "e922babc11e54c068f6e3a50864f3b69",
       "version_major": 2,
       "version_minor": 0
      },
      "text/plain": [
       "Epoch 153:   0%|          | 0/500 [00:00<?, ?it/s]"
      ]
     },
     "metadata": {},
     "output_type": "display_data"
    },
    {
     "data": {
      "application/vnd.jupyter.widget-view+json": {
       "model_id": "55a66a1f6bbd41119d2fe4da970f4458",
       "version_major": 2,
       "version_minor": 0
      },
      "text/plain": [
       "Epoch 154:   0%|          | 0/500 [00:00<?, ?it/s]"
      ]
     },
     "metadata": {},
     "output_type": "display_data"
    },
    {
     "data": {
      "application/vnd.jupyter.widget-view+json": {
       "model_id": "ee08c5d00e1843529dee6db198eb671f",
       "version_major": 2,
       "version_minor": 0
      },
      "text/plain": [
       "Epoch 155:   0%|          | 0/500 [00:00<?, ?it/s]"
      ]
     },
     "metadata": {},
     "output_type": "display_data"
    },
    {
     "data": {
      "application/vnd.jupyter.widget-view+json": {
       "model_id": "e06e03918e774e9cb117b9b0592152fb",
       "version_major": 2,
       "version_minor": 0
      },
      "text/plain": [
       "Epoch 156:   0%|          | 0/500 [00:00<?, ?it/s]"
      ]
     },
     "metadata": {},
     "output_type": "display_data"
    },
    {
     "data": {
      "application/vnd.jupyter.widget-view+json": {
       "model_id": "04b2b6af9b5547f2a7539411345a5d5a",
       "version_major": 2,
       "version_minor": 0
      },
      "text/plain": [
       "Epoch 157:   0%|          | 0/500 [00:00<?, ?it/s]"
      ]
     },
     "metadata": {},
     "output_type": "display_data"
    },
    {
     "data": {
      "application/vnd.jupyter.widget-view+json": {
       "model_id": "e689b42d14bb4a3786ac8dfabc4b3222",
       "version_major": 2,
       "version_minor": 0
      },
      "text/plain": [
       "Epoch 158:   0%|          | 0/500 [00:00<?, ?it/s]"
      ]
     },
     "metadata": {},
     "output_type": "display_data"
    },
    {
     "data": {
      "application/vnd.jupyter.widget-view+json": {
       "model_id": "5a5047e75d9e4c039e61b368ef70ce9f",
       "version_major": 2,
       "version_minor": 0
      },
      "text/plain": [
       "Epoch 159:   0%|          | 0/500 [00:00<?, ?it/s]"
      ]
     },
     "metadata": {},
     "output_type": "display_data"
    },
    {
     "data": {
      "application/vnd.jupyter.widget-view+json": {
       "model_id": "ada1ac920fce4fcaaac72f17b77403fe",
       "version_major": 2,
       "version_minor": 0
      },
      "text/plain": [
       "Epoch 160:   0%|          | 0/500 [00:00<?, ?it/s]"
      ]
     },
     "metadata": {},
     "output_type": "display_data"
    },
    {
     "data": {
      "application/vnd.jupyter.widget-view+json": {
       "model_id": "207c0932f76b4a74b776b7d5f05c1d3a",
       "version_major": 2,
       "version_minor": 0
      },
      "text/plain": [
       "Epoch 161:   0%|          | 0/500 [00:00<?, ?it/s]"
      ]
     },
     "metadata": {},
     "output_type": "display_data"
    },
    {
     "data": {
      "application/vnd.jupyter.widget-view+json": {
       "model_id": "e28dacb398184c6ea732f906fd4f7e4b",
       "version_major": 2,
       "version_minor": 0
      },
      "text/plain": [
       "Epoch 162:   0%|          | 0/500 [00:00<?, ?it/s]"
      ]
     },
     "metadata": {},
     "output_type": "display_data"
    },
    {
     "data": {
      "application/vnd.jupyter.widget-view+json": {
       "model_id": "d7d15c1cc3a44a9dbdd8a1c66bce4c8e",
       "version_major": 2,
       "version_minor": 0
      },
      "text/plain": [
       "Epoch 163:   0%|          | 0/500 [00:00<?, ?it/s]"
      ]
     },
     "metadata": {},
     "output_type": "display_data"
    },
    {
     "data": {
      "application/vnd.jupyter.widget-view+json": {
       "model_id": "7e09a43997d248d8919a8d6e3ffad28d",
       "version_major": 2,
       "version_minor": 0
      },
      "text/plain": [
       "Epoch 164:   0%|          | 0/500 [00:00<?, ?it/s]"
      ]
     },
     "metadata": {},
     "output_type": "display_data"
    },
    {
     "data": {
      "application/vnd.jupyter.widget-view+json": {
       "model_id": "424891882e914182886396ea557d36a3",
       "version_major": 2,
       "version_minor": 0
      },
      "text/plain": [
       "Epoch 165:   0%|          | 0/500 [00:00<?, ?it/s]"
      ]
     },
     "metadata": {},
     "output_type": "display_data"
    },
    {
     "data": {
      "application/vnd.jupyter.widget-view+json": {
       "model_id": "a147b5dbf4bf4a41ac8024f08ba37bfe",
       "version_major": 2,
       "version_minor": 0
      },
      "text/plain": [
       "Epoch 166:   0%|          | 0/500 [00:00<?, ?it/s]"
      ]
     },
     "metadata": {},
     "output_type": "display_data"
    },
    {
     "data": {
      "application/vnd.jupyter.widget-view+json": {
       "model_id": "457f235130854720990a6396dfbd8e37",
       "version_major": 2,
       "version_minor": 0
      },
      "text/plain": [
       "Epoch 167:   0%|          | 0/500 [00:00<?, ?it/s]"
      ]
     },
     "metadata": {},
     "output_type": "display_data"
    },
    {
     "data": {
      "application/vnd.jupyter.widget-view+json": {
       "model_id": "ead4d4975f894df9baf538223c848095",
       "version_major": 2,
       "version_minor": 0
      },
      "text/plain": [
       "Epoch 168:   0%|          | 0/500 [00:00<?, ?it/s]"
      ]
     },
     "metadata": {},
     "output_type": "display_data"
    },
    {
     "data": {
      "application/vnd.jupyter.widget-view+json": {
       "model_id": "ccd7ad2f4b1a4a08aea4cf9d0f4f15e9",
       "version_major": 2,
       "version_minor": 0
      },
      "text/plain": [
       "Epoch 169:   0%|          | 0/500 [00:00<?, ?it/s]"
      ]
     },
     "metadata": {},
     "output_type": "display_data"
    },
    {
     "data": {
      "application/vnd.jupyter.widget-view+json": {
       "model_id": "2a50177a7cbd4e7cb86f333d6dc1c893",
       "version_major": 2,
       "version_minor": 0
      },
      "text/plain": [
       "Epoch 170:   0%|          | 0/500 [00:00<?, ?it/s]"
      ]
     },
     "metadata": {},
     "output_type": "display_data"
    },
    {
     "data": {
      "application/vnd.jupyter.widget-view+json": {
       "model_id": "98ec9ca3dfb44b7495461fc1015d69aa",
       "version_major": 2,
       "version_minor": 0
      },
      "text/plain": [
       "Epoch 171:   0%|          | 0/500 [00:00<?, ?it/s]"
      ]
     },
     "metadata": {},
     "output_type": "display_data"
    },
    {
     "data": {
      "application/vnd.jupyter.widget-view+json": {
       "model_id": "135beb33fb9d4b61a8832a2b8945466b",
       "version_major": 2,
       "version_minor": 0
      },
      "text/plain": [
       "Epoch 172:   0%|          | 0/500 [00:00<?, ?it/s]"
      ]
     },
     "metadata": {},
     "output_type": "display_data"
    },
    {
     "data": {
      "application/vnd.jupyter.widget-view+json": {
       "model_id": "6fdc5bdda7c946d6ad403ef9be681fdd",
       "version_major": 2,
       "version_minor": 0
      },
      "text/plain": [
       "Epoch 173:   0%|          | 0/500 [00:00<?, ?it/s]"
      ]
     },
     "metadata": {},
     "output_type": "display_data"
    },
    {
     "data": {
      "application/vnd.jupyter.widget-view+json": {
       "model_id": "d71b40a2b9854076b39ee7c8ac21d080",
       "version_major": 2,
       "version_minor": 0
      },
      "text/plain": [
       "Epoch 174:   0%|          | 0/500 [00:00<?, ?it/s]"
      ]
     },
     "metadata": {},
     "output_type": "display_data"
    },
    {
     "data": {
      "application/vnd.jupyter.widget-view+json": {
       "model_id": "cbfe764a12fc430bbc6f08619d8da1c8",
       "version_major": 2,
       "version_minor": 0
      },
      "text/plain": [
       "Epoch 175:   0%|          | 0/500 [00:00<?, ?it/s]"
      ]
     },
     "metadata": {},
     "output_type": "display_data"
    },
    {
     "data": {
      "application/vnd.jupyter.widget-view+json": {
       "model_id": "f24c94e349dc438d9057a3fea5bd36e9",
       "version_major": 2,
       "version_minor": 0
      },
      "text/plain": [
       "Epoch 176:   0%|          | 0/500 [00:00<?, ?it/s]"
      ]
     },
     "metadata": {},
     "output_type": "display_data"
    },
    {
     "data": {
      "application/vnd.jupyter.widget-view+json": {
       "model_id": "7bedb5b3561d49a6b1cde3d520fa0403",
       "version_major": 2,
       "version_minor": 0
      },
      "text/plain": [
       "Epoch 177:   0%|          | 0/500 [00:00<?, ?it/s]"
      ]
     },
     "metadata": {},
     "output_type": "display_data"
    },
    {
     "data": {
      "application/vnd.jupyter.widget-view+json": {
       "model_id": "84a7e9ec4218452d8f0a4e6c0eb9e15b",
       "version_major": 2,
       "version_minor": 0
      },
      "text/plain": [
       "Epoch 178:   0%|          | 0/500 [00:00<?, ?it/s]"
      ]
     },
     "metadata": {},
     "output_type": "display_data"
    },
    {
     "data": {
      "application/vnd.jupyter.widget-view+json": {
       "model_id": "3728460029a0407d8f01885b487f5e86",
       "version_major": 2,
       "version_minor": 0
      },
      "text/plain": [
       "Epoch 179:   0%|          | 0/500 [00:00<?, ?it/s]"
      ]
     },
     "metadata": {},
     "output_type": "display_data"
    },
    {
     "data": {
      "application/vnd.jupyter.widget-view+json": {
       "model_id": "e6d7829545844ae0a2bb596677710fc8",
       "version_major": 2,
       "version_minor": 0
      },
      "text/plain": [
       "Epoch 180:   0%|          | 0/500 [00:00<?, ?it/s]"
      ]
     },
     "metadata": {},
     "output_type": "display_data"
    },
    {
     "data": {
      "application/vnd.jupyter.widget-view+json": {
       "model_id": "fef32fee50714ab9a28abae98daf5aa3",
       "version_major": 2,
       "version_minor": 0
      },
      "text/plain": [
       "Epoch 181:   0%|          | 0/500 [00:00<?, ?it/s]"
      ]
     },
     "metadata": {},
     "output_type": "display_data"
    },
    {
     "data": {
      "application/vnd.jupyter.widget-view+json": {
       "model_id": "aae92cae077b4f069bde7c276c24d2e2",
       "version_major": 2,
       "version_minor": 0
      },
      "text/plain": [
       "Epoch 182:   0%|          | 0/500 [00:00<?, ?it/s]"
      ]
     },
     "metadata": {},
     "output_type": "display_data"
    },
    {
     "data": {
      "application/vnd.jupyter.widget-view+json": {
       "model_id": "fb5643d34d5a456b90bcfaf56969daf1",
       "version_major": 2,
       "version_minor": 0
      },
      "text/plain": [
       "Epoch 183:   0%|          | 0/500 [00:00<?, ?it/s]"
      ]
     },
     "metadata": {},
     "output_type": "display_data"
    },
    {
     "data": {
      "application/vnd.jupyter.widget-view+json": {
       "model_id": "2c2f909fc0ae4b22aff2e498996c9671",
       "version_major": 2,
       "version_minor": 0
      },
      "text/plain": [
       "Epoch 184:   0%|          | 0/500 [00:00<?, ?it/s]"
      ]
     },
     "metadata": {},
     "output_type": "display_data"
    },
    {
     "data": {
      "application/vnd.jupyter.widget-view+json": {
       "model_id": "d8b0b1ea9a474ec59bd84fdf6e10e45a",
       "version_major": 2,
       "version_minor": 0
      },
      "text/plain": [
       "Epoch 185:   0%|          | 0/500 [00:00<?, ?it/s]"
      ]
     },
     "metadata": {},
     "output_type": "display_data"
    },
    {
     "data": {
      "application/vnd.jupyter.widget-view+json": {
       "model_id": "c406da06912f42e1be962ac2afe0c242",
       "version_major": 2,
       "version_minor": 0
      },
      "text/plain": [
       "Epoch 186:   0%|          | 0/500 [00:00<?, ?it/s]"
      ]
     },
     "metadata": {},
     "output_type": "display_data"
    },
    {
     "data": {
      "application/vnd.jupyter.widget-view+json": {
       "model_id": "faf264664cce4926a5f554cbff989aa8",
       "version_major": 2,
       "version_minor": 0
      },
      "text/plain": [
       "Epoch 187:   0%|          | 0/500 [00:00<?, ?it/s]"
      ]
     },
     "metadata": {},
     "output_type": "display_data"
    },
    {
     "data": {
      "application/vnd.jupyter.widget-view+json": {
       "model_id": "3949e60ddc544ead98bdc0f33cd943a2",
       "version_major": 2,
       "version_minor": 0
      },
      "text/plain": [
       "Epoch 188:   0%|          | 0/500 [00:00<?, ?it/s]"
      ]
     },
     "metadata": {},
     "output_type": "display_data"
    },
    {
     "data": {
      "application/vnd.jupyter.widget-view+json": {
       "model_id": "15e0a226046747f8b98be104eb0e8d8e",
       "version_major": 2,
       "version_minor": 0
      },
      "text/plain": [
       "Epoch 189:   0%|          | 0/500 [00:00<?, ?it/s]"
      ]
     },
     "metadata": {},
     "output_type": "display_data"
    },
    {
     "data": {
      "application/vnd.jupyter.widget-view+json": {
       "model_id": "f8293c8fa5b44e7c895897710959d199",
       "version_major": 2,
       "version_minor": 0
      },
      "text/plain": [
       "Epoch 190:   0%|          | 0/500 [00:00<?, ?it/s]"
      ]
     },
     "metadata": {},
     "output_type": "display_data"
    },
    {
     "data": {
      "application/vnd.jupyter.widget-view+json": {
       "model_id": "cced616b82e34258af44b57abb25b853",
       "version_major": 2,
       "version_minor": 0
      },
      "text/plain": [
       "Epoch 191:   0%|          | 0/500 [00:00<?, ?it/s]"
      ]
     },
     "metadata": {},
     "output_type": "display_data"
    },
    {
     "data": {
      "application/vnd.jupyter.widget-view+json": {
       "model_id": "6e01db265dd64b089bd2bb8de239b89e",
       "version_major": 2,
       "version_minor": 0
      },
      "text/plain": [
       "Epoch 192:   0%|          | 0/500 [00:00<?, ?it/s]"
      ]
     },
     "metadata": {},
     "output_type": "display_data"
    },
    {
     "data": {
      "application/vnd.jupyter.widget-view+json": {
       "model_id": "81ecc864e1074020a29943047c6de36e",
       "version_major": 2,
       "version_minor": 0
      },
      "text/plain": [
       "Epoch 193:   0%|          | 0/500 [00:00<?, ?it/s]"
      ]
     },
     "metadata": {},
     "output_type": "display_data"
    },
    {
     "data": {
      "application/vnd.jupyter.widget-view+json": {
       "model_id": "ccf8ad4635734e5fb7e11e074df0dace",
       "version_major": 2,
       "version_minor": 0
      },
      "text/plain": [
       "Epoch 194:   0%|          | 0/500 [00:00<?, ?it/s]"
      ]
     },
     "metadata": {},
     "output_type": "display_data"
    },
    {
     "data": {
      "application/vnd.jupyter.widget-view+json": {
       "model_id": "c8d62399c69f417ea7f5e8a64f195863",
       "version_major": 2,
       "version_minor": 0
      },
      "text/plain": [
       "Epoch 195:   0%|          | 0/500 [00:00<?, ?it/s]"
      ]
     },
     "metadata": {},
     "output_type": "display_data"
    },
    {
     "data": {
      "application/vnd.jupyter.widget-view+json": {
       "model_id": "f97e147fe4cd4b9a87c9385bc15fb385",
       "version_major": 2,
       "version_minor": 0
      },
      "text/plain": [
       "Epoch 196:   0%|          | 0/500 [00:00<?, ?it/s]"
      ]
     },
     "metadata": {},
     "output_type": "display_data"
    },
    {
     "data": {
      "application/vnd.jupyter.widget-view+json": {
       "model_id": "b8f594c8915f486db570410e57b84b3e",
       "version_major": 2,
       "version_minor": 0
      },
      "text/plain": [
       "Epoch 197:   0%|          | 0/500 [00:00<?, ?it/s]"
      ]
     },
     "metadata": {},
     "output_type": "display_data"
    },
    {
     "data": {
      "application/vnd.jupyter.widget-view+json": {
       "model_id": "f962ba2311f64673bb3754c01756d6fa",
       "version_major": 2,
       "version_minor": 0
      },
      "text/plain": [
       "Epoch 198:   0%|          | 0/500 [00:00<?, ?it/s]"
      ]
     },
     "metadata": {},
     "output_type": "display_data"
    },
    {
     "data": {
      "application/vnd.jupyter.widget-view+json": {
       "model_id": "fd4c1d9b7124437594ff56f49cda8703",
       "version_major": 2,
       "version_minor": 0
      },
      "text/plain": [
       "Epoch 199:   0%|          | 0/500 [00:00<?, ?it/s]"
      ]
     },
     "metadata": {},
     "output_type": "display_data"
    },
    {
     "data": {
      "application/vnd.jupyter.widget-view+json": {
       "model_id": "4b71de6d5cc64a36baf8027e01bd1a27",
       "version_major": 2,
       "version_minor": 0
      },
      "text/plain": [
       "Epoch 200:   0%|          | 0/500 [00:00<?, ?it/s]"
      ]
     },
     "metadata": {},
     "output_type": "display_data"
    },
    {
     "data": {
      "application/vnd.jupyter.widget-view+json": {
       "model_id": "c28e20c8129149c2807642182db1a689",
       "version_major": 2,
       "version_minor": 0
      },
      "text/plain": [
       "Epoch 201:   0%|          | 0/500 [00:00<?, ?it/s]"
      ]
     },
     "metadata": {},
     "output_type": "display_data"
    },
    {
     "data": {
      "application/vnd.jupyter.widget-view+json": {
       "model_id": "0e59a3bec40f48ba94b04b5a9ddce90f",
       "version_major": 2,
       "version_minor": 0
      },
      "text/plain": [
       "Epoch 202:   0%|          | 0/500 [00:00<?, ?it/s]"
      ]
     },
     "metadata": {},
     "output_type": "display_data"
    },
    {
     "data": {
      "application/vnd.jupyter.widget-view+json": {
       "model_id": "0c85057bec1844828e4d9daf29d86544",
       "version_major": 2,
       "version_minor": 0
      },
      "text/plain": [
       "Epoch 203:   0%|          | 0/500 [00:00<?, ?it/s]"
      ]
     },
     "metadata": {},
     "output_type": "display_data"
    },
    {
     "data": {
      "application/vnd.jupyter.widget-view+json": {
       "model_id": "fd1f7824ef024907af4e7bf8dc16f80c",
       "version_major": 2,
       "version_minor": 0
      },
      "text/plain": [
       "Epoch 204:   0%|          | 0/500 [00:00<?, ?it/s]"
      ]
     },
     "metadata": {},
     "output_type": "display_data"
    },
    {
     "data": {
      "application/vnd.jupyter.widget-view+json": {
       "model_id": "e56c925d92a74a6ea7a918211dc3c6e4",
       "version_major": 2,
       "version_minor": 0
      },
      "text/plain": [
       "Epoch 205:   0%|          | 0/500 [00:00<?, ?it/s]"
      ]
     },
     "metadata": {},
     "output_type": "display_data"
    },
    {
     "data": {
      "application/vnd.jupyter.widget-view+json": {
       "model_id": "58ee764e42bb42dea056df4432da6aa8",
       "version_major": 2,
       "version_minor": 0
      },
      "text/plain": [
       "Epoch 206:   0%|          | 0/500 [00:00<?, ?it/s]"
      ]
     },
     "metadata": {},
     "output_type": "display_data"
    },
    {
     "data": {
      "application/vnd.jupyter.widget-view+json": {
       "model_id": "c1a86fa3ae1f4f0784a667a94cb9f682",
       "version_major": 2,
       "version_minor": 0
      },
      "text/plain": [
       "Epoch 207:   0%|          | 0/500 [00:00<?, ?it/s]"
      ]
     },
     "metadata": {},
     "output_type": "display_data"
    },
    {
     "data": {
      "application/vnd.jupyter.widget-view+json": {
       "model_id": "71bd28a79bf14992bc6d6204ba8fa92c",
       "version_major": 2,
       "version_minor": 0
      },
      "text/plain": [
       "Epoch 208:   0%|          | 0/500 [00:00<?, ?it/s]"
      ]
     },
     "metadata": {},
     "output_type": "display_data"
    },
    {
     "data": {
      "application/vnd.jupyter.widget-view+json": {
       "model_id": "7c20b4b47e7744c984a1b0d158f2e530",
       "version_major": 2,
       "version_minor": 0
      },
      "text/plain": [
       "Epoch 209:   0%|          | 0/500 [00:00<?, ?it/s]"
      ]
     },
     "metadata": {},
     "output_type": "display_data"
    },
    {
     "data": {
      "application/vnd.jupyter.widget-view+json": {
       "model_id": "3c090efc10e840bc807fa054c54eca49",
       "version_major": 2,
       "version_minor": 0
      },
      "text/plain": [
       "Epoch 210:   0%|          | 0/500 [00:00<?, ?it/s]"
      ]
     },
     "metadata": {},
     "output_type": "display_data"
    },
    {
     "data": {
      "application/vnd.jupyter.widget-view+json": {
       "model_id": "e904d05820f14f46bd3a7606a130d171",
       "version_major": 2,
       "version_minor": 0
      },
      "text/plain": [
       "Epoch 211:   0%|          | 0/500 [00:00<?, ?it/s]"
      ]
     },
     "metadata": {},
     "output_type": "display_data"
    },
    {
     "data": {
      "application/vnd.jupyter.widget-view+json": {
       "model_id": "e20c180971c64a9eb7c2f0c91c6327dd",
       "version_major": 2,
       "version_minor": 0
      },
      "text/plain": [
       "Epoch 212:   0%|          | 0/500 [00:00<?, ?it/s]"
      ]
     },
     "metadata": {},
     "output_type": "display_data"
    },
    {
     "data": {
      "application/vnd.jupyter.widget-view+json": {
       "model_id": "180afd4aefc143a5b630a2c92ed15e97",
       "version_major": 2,
       "version_minor": 0
      },
      "text/plain": [
       "Epoch 213:   0%|          | 0/500 [00:00<?, ?it/s]"
      ]
     },
     "metadata": {},
     "output_type": "display_data"
    },
    {
     "data": {
      "application/vnd.jupyter.widget-view+json": {
       "model_id": "ea94740954664810b94247f873df847a",
       "version_major": 2,
       "version_minor": 0
      },
      "text/plain": [
       "Epoch 214:   0%|          | 0/500 [00:00<?, ?it/s]"
      ]
     },
     "metadata": {},
     "output_type": "display_data"
    },
    {
     "data": {
      "application/vnd.jupyter.widget-view+json": {
       "model_id": "2fbaddc3f0a3424990dbf3bfd592cb58",
       "version_major": 2,
       "version_minor": 0
      },
      "text/plain": [
       "Epoch 215:   0%|          | 0/500 [00:00<?, ?it/s]"
      ]
     },
     "metadata": {},
     "output_type": "display_data"
    },
    {
     "data": {
      "application/vnd.jupyter.widget-view+json": {
       "model_id": "1584e99ebd724fd2b3b568d5dbb7e144",
       "version_major": 2,
       "version_minor": 0
      },
      "text/plain": [
       "Epoch 216:   0%|          | 0/500 [00:00<?, ?it/s]"
      ]
     },
     "metadata": {},
     "output_type": "display_data"
    },
    {
     "data": {
      "application/vnd.jupyter.widget-view+json": {
       "model_id": "bd5961c65e164633b01e55fc72a0f91f",
       "version_major": 2,
       "version_minor": 0
      },
      "text/plain": [
       "Epoch 217:   0%|          | 0/500 [00:00<?, ?it/s]"
      ]
     },
     "metadata": {},
     "output_type": "display_data"
    },
    {
     "data": {
      "application/vnd.jupyter.widget-view+json": {
       "model_id": "f49ebd69f9494ea9b148b4f96a44d5ad",
       "version_major": 2,
       "version_minor": 0
      },
      "text/plain": [
       "Epoch 218:   0%|          | 0/500 [00:00<?, ?it/s]"
      ]
     },
     "metadata": {},
     "output_type": "display_data"
    },
    {
     "data": {
      "application/vnd.jupyter.widget-view+json": {
       "model_id": "4be3f2a61046485ea3cb1ff1d0792920",
       "version_major": 2,
       "version_minor": 0
      },
      "text/plain": [
       "Epoch 219:   0%|          | 0/500 [00:00<?, ?it/s]"
      ]
     },
     "metadata": {},
     "output_type": "display_data"
    },
    {
     "data": {
      "application/vnd.jupyter.widget-view+json": {
       "model_id": "75e02b4b38364223a5a8327ccca604ea",
       "version_major": 2,
       "version_minor": 0
      },
      "text/plain": [
       "Epoch 220:   0%|          | 0/500 [00:00<?, ?it/s]"
      ]
     },
     "metadata": {},
     "output_type": "display_data"
    },
    {
     "data": {
      "application/vnd.jupyter.widget-view+json": {
       "model_id": "a644ae06672a4b3f908781c21cd3c819",
       "version_major": 2,
       "version_minor": 0
      },
      "text/plain": [
       "Epoch 221:   0%|          | 0/500 [00:00<?, ?it/s]"
      ]
     },
     "metadata": {},
     "output_type": "display_data"
    },
    {
     "data": {
      "application/vnd.jupyter.widget-view+json": {
       "model_id": "71249d97cd8a4ff5945e0e7138a9186c",
       "version_major": 2,
       "version_minor": 0
      },
      "text/plain": [
       "Epoch 222:   0%|          | 0/500 [00:00<?, ?it/s]"
      ]
     },
     "metadata": {},
     "output_type": "display_data"
    },
    {
     "data": {
      "application/vnd.jupyter.widget-view+json": {
       "model_id": "9c14e1f3aa554882884fe7f0edf6bad3",
       "version_major": 2,
       "version_minor": 0
      },
      "text/plain": [
       "Epoch 223:   0%|          | 0/500 [00:00<?, ?it/s]"
      ]
     },
     "metadata": {},
     "output_type": "display_data"
    },
    {
     "data": {
      "application/vnd.jupyter.widget-view+json": {
       "model_id": "c9c85e4be3d2401f8470243b55c397c5",
       "version_major": 2,
       "version_minor": 0
      },
      "text/plain": [
       "Epoch 224:   0%|          | 0/500 [00:00<?, ?it/s]"
      ]
     },
     "metadata": {},
     "output_type": "display_data"
    },
    {
     "data": {
      "application/vnd.jupyter.widget-view+json": {
       "model_id": "54542f15314d4408a69f786e0eeeb2ee",
       "version_major": 2,
       "version_minor": 0
      },
      "text/plain": [
       "Epoch 225:   0%|          | 0/500 [00:00<?, ?it/s]"
      ]
     },
     "metadata": {},
     "output_type": "display_data"
    },
    {
     "data": {
      "application/vnd.jupyter.widget-view+json": {
       "model_id": "ed1bb983e11f42779e229990fa1227fe",
       "version_major": 2,
       "version_minor": 0
      },
      "text/plain": [
       "Epoch 226:   0%|          | 0/500 [00:00<?, ?it/s]"
      ]
     },
     "metadata": {},
     "output_type": "display_data"
    },
    {
     "data": {
      "application/vnd.jupyter.widget-view+json": {
       "model_id": "551cc96badad40ac9d9afff604c720a3",
       "version_major": 2,
       "version_minor": 0
      },
      "text/plain": [
       "Epoch 227:   0%|          | 0/500 [00:00<?, ?it/s]"
      ]
     },
     "metadata": {},
     "output_type": "display_data"
    },
    {
     "data": {
      "application/vnd.jupyter.widget-view+json": {
       "model_id": "5d78c4918185405e87a638795f4c91c7",
       "version_major": 2,
       "version_minor": 0
      },
      "text/plain": [
       "Epoch 228:   0%|          | 0/500 [00:00<?, ?it/s]"
      ]
     },
     "metadata": {},
     "output_type": "display_data"
    },
    {
     "data": {
      "application/vnd.jupyter.widget-view+json": {
       "model_id": "645371e1c4034518b5132744a3a2a0de",
       "version_major": 2,
       "version_minor": 0
      },
      "text/plain": [
       "Epoch 229:   0%|          | 0/500 [00:00<?, ?it/s]"
      ]
     },
     "metadata": {},
     "output_type": "display_data"
    },
    {
     "data": {
      "application/vnd.jupyter.widget-view+json": {
       "model_id": "7d1909135974430abd95f677cef959eb",
       "version_major": 2,
       "version_minor": 0
      },
      "text/plain": [
       "Epoch 230:   0%|          | 0/500 [00:00<?, ?it/s]"
      ]
     },
     "metadata": {},
     "output_type": "display_data"
    },
    {
     "data": {
      "application/vnd.jupyter.widget-view+json": {
       "model_id": "9c8b87bd1b394449a97c72542f14d236",
       "version_major": 2,
       "version_minor": 0
      },
      "text/plain": [
       "Epoch 231:   0%|          | 0/500 [00:00<?, ?it/s]"
      ]
     },
     "metadata": {},
     "output_type": "display_data"
    },
    {
     "data": {
      "application/vnd.jupyter.widget-view+json": {
       "model_id": "8b3bfbde191e44fe88f809f9a13b82c9",
       "version_major": 2,
       "version_minor": 0
      },
      "text/plain": [
       "Epoch 232:   0%|          | 0/500 [00:00<?, ?it/s]"
      ]
     },
     "metadata": {},
     "output_type": "display_data"
    },
    {
     "data": {
      "application/vnd.jupyter.widget-view+json": {
       "model_id": "d2855d38484f46bba2e86e1176d01110",
       "version_major": 2,
       "version_minor": 0
      },
      "text/plain": [
       "Epoch 233:   0%|          | 0/500 [00:00<?, ?it/s]"
      ]
     },
     "metadata": {},
     "output_type": "display_data"
    },
    {
     "data": {
      "application/vnd.jupyter.widget-view+json": {
       "model_id": "f14ca57c6cad44bf8248d596424fdb04",
       "version_major": 2,
       "version_minor": 0
      },
      "text/plain": [
       "Epoch 234:   0%|          | 0/500 [00:00<?, ?it/s]"
      ]
     },
     "metadata": {},
     "output_type": "display_data"
    },
    {
     "data": {
      "application/vnd.jupyter.widget-view+json": {
       "model_id": "e8a8981413a64c4ea5e297e2dd567b80",
       "version_major": 2,
       "version_minor": 0
      },
      "text/plain": [
       "Epoch 235:   0%|          | 0/500 [00:00<?, ?it/s]"
      ]
     },
     "metadata": {},
     "output_type": "display_data"
    },
    {
     "data": {
      "application/vnd.jupyter.widget-view+json": {
       "model_id": "70e1aa607e89406b863c1735eadc8e19",
       "version_major": 2,
       "version_minor": 0
      },
      "text/plain": [
       "Epoch 236:   0%|          | 0/500 [00:00<?, ?it/s]"
      ]
     },
     "metadata": {},
     "output_type": "display_data"
    },
    {
     "data": {
      "application/vnd.jupyter.widget-view+json": {
       "model_id": "a236a70cf9e54f0fb171277078eeef6e",
       "version_major": 2,
       "version_minor": 0
      },
      "text/plain": [
       "Epoch 237:   0%|          | 0/500 [00:00<?, ?it/s]"
      ]
     },
     "metadata": {},
     "output_type": "display_data"
    },
    {
     "data": {
      "application/vnd.jupyter.widget-view+json": {
       "model_id": "7d08f1666d614750bc8a9560a3a309e8",
       "version_major": 2,
       "version_minor": 0
      },
      "text/plain": [
       "Epoch 238:   0%|          | 0/500 [00:00<?, ?it/s]"
      ]
     },
     "metadata": {},
     "output_type": "display_data"
    },
    {
     "data": {
      "application/vnd.jupyter.widget-view+json": {
       "model_id": "edf41e0d36b54e108b61ee3427d8b602",
       "version_major": 2,
       "version_minor": 0
      },
      "text/plain": [
       "Epoch 239:   0%|          | 0/500 [00:00<?, ?it/s]"
      ]
     },
     "metadata": {},
     "output_type": "display_data"
    },
    {
     "data": {
      "application/vnd.jupyter.widget-view+json": {
       "model_id": "fa8b9a8905b9439c8f8008bcc80edd27",
       "version_major": 2,
       "version_minor": 0
      },
      "text/plain": [
       "Epoch 240:   0%|          | 0/500 [00:00<?, ?it/s]"
      ]
     },
     "metadata": {},
     "output_type": "display_data"
    },
    {
     "data": {
      "application/vnd.jupyter.widget-view+json": {
       "model_id": "ba7523a2160949ff9fa5ae4de2fc0b9a",
       "version_major": 2,
       "version_minor": 0
      },
      "text/plain": [
       "Epoch 241:   0%|          | 0/500 [00:00<?, ?it/s]"
      ]
     },
     "metadata": {},
     "output_type": "display_data"
    },
    {
     "data": {
      "application/vnd.jupyter.widget-view+json": {
       "model_id": "f9c24019c027486f9f5e6aa24b48786c",
       "version_major": 2,
       "version_minor": 0
      },
      "text/plain": [
       "Epoch 242:   0%|          | 0/500 [00:00<?, ?it/s]"
      ]
     },
     "metadata": {},
     "output_type": "display_data"
    },
    {
     "data": {
      "application/vnd.jupyter.widget-view+json": {
       "model_id": "640c73f893e34d02b7d8cf0d9ff17648",
       "version_major": 2,
       "version_minor": 0
      },
      "text/plain": [
       "Epoch 243:   0%|          | 0/500 [00:00<?, ?it/s]"
      ]
     },
     "metadata": {},
     "output_type": "display_data"
    },
    {
     "data": {
      "application/vnd.jupyter.widget-view+json": {
       "model_id": "377a55bd411742cc946f8b2afbd05190",
       "version_major": 2,
       "version_minor": 0
      },
      "text/plain": [
       "Epoch 244:   0%|          | 0/500 [00:00<?, ?it/s]"
      ]
     },
     "metadata": {},
     "output_type": "display_data"
    },
    {
     "data": {
      "application/vnd.jupyter.widget-view+json": {
       "model_id": "d69965776db74a94a2bd03a4b623f4bb",
       "version_major": 2,
       "version_minor": 0
      },
      "text/plain": [
       "Epoch 245:   0%|          | 0/500 [00:00<?, ?it/s]"
      ]
     },
     "metadata": {},
     "output_type": "display_data"
    },
    {
     "data": {
      "application/vnd.jupyter.widget-view+json": {
       "model_id": "62d97dc747344b36b6725c28b6800708",
       "version_major": 2,
       "version_minor": 0
      },
      "text/plain": [
       "Epoch 246:   0%|          | 0/500 [00:00<?, ?it/s]"
      ]
     },
     "metadata": {},
     "output_type": "display_data"
    },
    {
     "data": {
      "application/vnd.jupyter.widget-view+json": {
       "model_id": "c2529bbde7364bd8b40302bc73bcb5ce",
       "version_major": 2,
       "version_minor": 0
      },
      "text/plain": [
       "Epoch 247:   0%|          | 0/500 [00:00<?, ?it/s]"
      ]
     },
     "metadata": {},
     "output_type": "display_data"
    },
    {
     "data": {
      "application/vnd.jupyter.widget-view+json": {
       "model_id": "b8c0559aa5ce4706af0d8eee3180ddc5",
       "version_major": 2,
       "version_minor": 0
      },
      "text/plain": [
       "Epoch 248:   0%|          | 0/500 [00:00<?, ?it/s]"
      ]
     },
     "metadata": {},
     "output_type": "display_data"
    },
    {
     "data": {
      "application/vnd.jupyter.widget-view+json": {
       "model_id": "7f30e07d30fb417f8e6cf258ccf03aa3",
       "version_major": 2,
       "version_minor": 0
      },
      "text/plain": [
       "Epoch 249:   0%|          | 0/500 [00:00<?, ?it/s]"
      ]
     },
     "metadata": {},
     "output_type": "display_data"
    },
    {
     "data": {
      "application/vnd.jupyter.widget-view+json": {
       "model_id": "2e55a9cb150748b4bb31523cac7b3d93",
       "version_major": 2,
       "version_minor": 0
      },
      "text/plain": [
       "Epoch 250:   0%|          | 0/500 [00:00<?, ?it/s]"
      ]
     },
     "metadata": {},
     "output_type": "display_data"
    },
    {
     "data": {
      "application/vnd.jupyter.widget-view+json": {
       "model_id": "40ce2cdd64784a8fa098800c97865927",
       "version_major": 2,
       "version_minor": 0
      },
      "text/plain": [
       "Epoch 251:   0%|          | 0/500 [00:00<?, ?it/s]"
      ]
     },
     "metadata": {},
     "output_type": "display_data"
    },
    {
     "data": {
      "application/vnd.jupyter.widget-view+json": {
       "model_id": "92225e0ce9cf460ab60ba5247fdd8cc9",
       "version_major": 2,
       "version_minor": 0
      },
      "text/plain": [
       "Epoch 252:   0%|          | 0/500 [00:00<?, ?it/s]"
      ]
     },
     "metadata": {},
     "output_type": "display_data"
    },
    {
     "data": {
      "application/vnd.jupyter.widget-view+json": {
       "model_id": "facce955648a423d8e05ac80fa098517",
       "version_major": 2,
       "version_minor": 0
      },
      "text/plain": [
       "Epoch 253:   0%|          | 0/500 [00:00<?, ?it/s]"
      ]
     },
     "metadata": {},
     "output_type": "display_data"
    },
    {
     "data": {
      "application/vnd.jupyter.widget-view+json": {
       "model_id": "8d2303adc81f4d798769b9ff3229f31c",
       "version_major": 2,
       "version_minor": 0
      },
      "text/plain": [
       "Epoch 254:   0%|          | 0/500 [00:00<?, ?it/s]"
      ]
     },
     "metadata": {},
     "output_type": "display_data"
    },
    {
     "data": {
      "application/vnd.jupyter.widget-view+json": {
       "model_id": "ad5055c884484aa2aaf6c4efd8989ede",
       "version_major": 2,
       "version_minor": 0
      },
      "text/plain": [
       "Epoch 255:   0%|          | 0/500 [00:00<?, ?it/s]"
      ]
     },
     "metadata": {},
     "output_type": "display_data"
    },
    {
     "data": {
      "application/vnd.jupyter.widget-view+json": {
       "model_id": "a9043230fae14f6085b611fe78b5372a",
       "version_major": 2,
       "version_minor": 0
      },
      "text/plain": [
       "Epoch 256:   0%|          | 0/500 [00:00<?, ?it/s]"
      ]
     },
     "metadata": {},
     "output_type": "display_data"
    },
    {
     "data": {
      "application/vnd.jupyter.widget-view+json": {
       "model_id": "65d3ba959d3546bc8ee0c9fe35efcb16",
       "version_major": 2,
       "version_minor": 0
      },
      "text/plain": [
       "Epoch 257:   0%|          | 0/500 [00:00<?, ?it/s]"
      ]
     },
     "metadata": {},
     "output_type": "display_data"
    },
    {
     "data": {
      "application/vnd.jupyter.widget-view+json": {
       "model_id": "05ff0279ea2a47a583167e1de338a632",
       "version_major": 2,
       "version_minor": 0
      },
      "text/plain": [
       "Epoch 258:   0%|          | 0/500 [00:00<?, ?it/s]"
      ]
     },
     "metadata": {},
     "output_type": "display_data"
    },
    {
     "data": {
      "application/vnd.jupyter.widget-view+json": {
       "model_id": "c57f24082cc446a09080c598de290ddc",
       "version_major": 2,
       "version_minor": 0
      },
      "text/plain": [
       "Epoch 259:   0%|          | 0/500 [00:00<?, ?it/s]"
      ]
     },
     "metadata": {},
     "output_type": "display_data"
    },
    {
     "data": {
      "application/vnd.jupyter.widget-view+json": {
       "model_id": "39e1a3b3c3d343cd9f4da1efc43849a7",
       "version_major": 2,
       "version_minor": 0
      },
      "text/plain": [
       "Epoch 260:   0%|          | 0/500 [00:00<?, ?it/s]"
      ]
     },
     "metadata": {},
     "output_type": "display_data"
    },
    {
     "data": {
      "application/vnd.jupyter.widget-view+json": {
       "model_id": "65bb2faec23443c2b991c7d7845d8d2a",
       "version_major": 2,
       "version_minor": 0
      },
      "text/plain": [
       "Epoch 261:   0%|          | 0/500 [00:00<?, ?it/s]"
      ]
     },
     "metadata": {},
     "output_type": "display_data"
    },
    {
     "data": {
      "application/vnd.jupyter.widget-view+json": {
       "model_id": "88e1ff939b2842bfa8f2725f2b7595c7",
       "version_major": 2,
       "version_minor": 0
      },
      "text/plain": [
       "Epoch 262:   0%|          | 0/500 [00:00<?, ?it/s]"
      ]
     },
     "metadata": {},
     "output_type": "display_data"
    },
    {
     "data": {
      "application/vnd.jupyter.widget-view+json": {
       "model_id": "aa64693ff1f14cacb408ee6c15c6f689",
       "version_major": 2,
       "version_minor": 0
      },
      "text/plain": [
       "Epoch 263:   0%|          | 0/500 [00:00<?, ?it/s]"
      ]
     },
     "metadata": {},
     "output_type": "display_data"
    },
    {
     "data": {
      "application/vnd.jupyter.widget-view+json": {
       "model_id": "58c8117fc87a44a4bf4253d62a2c8822",
       "version_major": 2,
       "version_minor": 0
      },
      "text/plain": [
       "Epoch 264:   0%|          | 0/500 [00:00<?, ?it/s]"
      ]
     },
     "metadata": {},
     "output_type": "display_data"
    },
    {
     "data": {
      "application/vnd.jupyter.widget-view+json": {
       "model_id": "a00f81a5da764a3fa2cdf2bb4417b706",
       "version_major": 2,
       "version_minor": 0
      },
      "text/plain": [
       "Epoch 265:   0%|          | 0/500 [00:00<?, ?it/s]"
      ]
     },
     "metadata": {},
     "output_type": "display_data"
    },
    {
     "data": {
      "application/vnd.jupyter.widget-view+json": {
       "model_id": "f63d232f2f294d159c9d2dfcc4613550",
       "version_major": 2,
       "version_minor": 0
      },
      "text/plain": [
       "Epoch 266:   0%|          | 0/500 [00:00<?, ?it/s]"
      ]
     },
     "metadata": {},
     "output_type": "display_data"
    },
    {
     "data": {
      "application/vnd.jupyter.widget-view+json": {
       "model_id": "1140855cf39845c3a0477c799598cd73",
       "version_major": 2,
       "version_minor": 0
      },
      "text/plain": [
       "Epoch 267:   0%|          | 0/500 [00:00<?, ?it/s]"
      ]
     },
     "metadata": {},
     "output_type": "display_data"
    },
    {
     "data": {
      "application/vnd.jupyter.widget-view+json": {
       "model_id": "3ca7b431f23b47ee98c5af30b5a6bc9c",
       "version_major": 2,
       "version_minor": 0
      },
      "text/plain": [
       "Epoch 268:   0%|          | 0/500 [00:00<?, ?it/s]"
      ]
     },
     "metadata": {},
     "output_type": "display_data"
    },
    {
     "data": {
      "application/vnd.jupyter.widget-view+json": {
       "model_id": "914fe4b777f44718bcaf0437141ff6fc",
       "version_major": 2,
       "version_minor": 0
      },
      "text/plain": [
       "Epoch 269:   0%|          | 0/500 [00:00<?, ?it/s]"
      ]
     },
     "metadata": {},
     "output_type": "display_data"
    },
    {
     "data": {
      "application/vnd.jupyter.widget-view+json": {
       "model_id": "ed60b13e6798442e813974eb3328e9a5",
       "version_major": 2,
       "version_minor": 0
      },
      "text/plain": [
       "Epoch 270:   0%|          | 0/500 [00:00<?, ?it/s]"
      ]
     },
     "metadata": {},
     "output_type": "display_data"
    },
    {
     "data": {
      "application/vnd.jupyter.widget-view+json": {
       "model_id": "45268c2439a9473099a8689aa62a81a2",
       "version_major": 2,
       "version_minor": 0
      },
      "text/plain": [
       "Epoch 271:   0%|          | 0/500 [00:00<?, ?it/s]"
      ]
     },
     "metadata": {},
     "output_type": "display_data"
    },
    {
     "data": {
      "application/vnd.jupyter.widget-view+json": {
       "model_id": "268e6c4c83ed41c0a3608a7ca7df22f1",
       "version_major": 2,
       "version_minor": 0
      },
      "text/plain": [
       "Epoch 272:   0%|          | 0/500 [00:00<?, ?it/s]"
      ]
     },
     "metadata": {},
     "output_type": "display_data"
    },
    {
     "data": {
      "application/vnd.jupyter.widget-view+json": {
       "model_id": "c9a2f622fa4247c08598ac2d109eb2e1",
       "version_major": 2,
       "version_minor": 0
      },
      "text/plain": [
       "Epoch 273:   0%|          | 0/500 [00:00<?, ?it/s]"
      ]
     },
     "metadata": {},
     "output_type": "display_data"
    },
    {
     "data": {
      "application/vnd.jupyter.widget-view+json": {
       "model_id": "d2255692fb2b4164863706a282a004e1",
       "version_major": 2,
       "version_minor": 0
      },
      "text/plain": [
       "Epoch 274:   0%|          | 0/500 [00:00<?, ?it/s]"
      ]
     },
     "metadata": {},
     "output_type": "display_data"
    },
    {
     "data": {
      "application/vnd.jupyter.widget-view+json": {
       "model_id": "ab256bd287064755a9aa2acdea7a26e9",
       "version_major": 2,
       "version_minor": 0
      },
      "text/plain": [
       "Epoch 275:   0%|          | 0/500 [00:00<?, ?it/s]"
      ]
     },
     "metadata": {},
     "output_type": "display_data"
    },
    {
     "data": {
      "application/vnd.jupyter.widget-view+json": {
       "model_id": "9101378e54ee4eb491861f0f8b9b4875",
       "version_major": 2,
       "version_minor": 0
      },
      "text/plain": [
       "Epoch 276:   0%|          | 0/500 [00:00<?, ?it/s]"
      ]
     },
     "metadata": {},
     "output_type": "display_data"
    },
    {
     "data": {
      "application/vnd.jupyter.widget-view+json": {
       "model_id": "0c04623bae2d4f57808e13cecb5cd62d",
       "version_major": 2,
       "version_minor": 0
      },
      "text/plain": [
       "Epoch 277:   0%|          | 0/500 [00:00<?, ?it/s]"
      ]
     },
     "metadata": {},
     "output_type": "display_data"
    },
    {
     "data": {
      "application/vnd.jupyter.widget-view+json": {
       "model_id": "ef9d074cd17b40428becafd664d3837b",
       "version_major": 2,
       "version_minor": 0
      },
      "text/plain": [
       "Epoch 278:   0%|          | 0/500 [00:00<?, ?it/s]"
      ]
     },
     "metadata": {},
     "output_type": "display_data"
    },
    {
     "data": {
      "application/vnd.jupyter.widget-view+json": {
       "model_id": "85d3a022fc234be2872dba55bffb069a",
       "version_major": 2,
       "version_minor": 0
      },
      "text/plain": [
       "Epoch 279:   0%|          | 0/500 [00:00<?, ?it/s]"
      ]
     },
     "metadata": {},
     "output_type": "display_data"
    },
    {
     "data": {
      "application/vnd.jupyter.widget-view+json": {
       "model_id": "fe3f7112e053402c97a6d24d17d05030",
       "version_major": 2,
       "version_minor": 0
      },
      "text/plain": [
       "Epoch 280:   0%|          | 0/500 [00:00<?, ?it/s]"
      ]
     },
     "metadata": {},
     "output_type": "display_data"
    },
    {
     "data": {
      "application/vnd.jupyter.widget-view+json": {
       "model_id": "c5492c5c40344f0bb7dc8cba85bf7019",
       "version_major": 2,
       "version_minor": 0
      },
      "text/plain": [
       "Epoch 281:   0%|          | 0/500 [00:00<?, ?it/s]"
      ]
     },
     "metadata": {},
     "output_type": "display_data"
    },
    {
     "data": {
      "application/vnd.jupyter.widget-view+json": {
       "model_id": "ed741453cc60420d987ab478422d053f",
       "version_major": 2,
       "version_minor": 0
      },
      "text/plain": [
       "Epoch 282:   0%|          | 0/500 [00:00<?, ?it/s]"
      ]
     },
     "metadata": {},
     "output_type": "display_data"
    },
    {
     "data": {
      "application/vnd.jupyter.widget-view+json": {
       "model_id": "0ddb22a3026340b5a9769afb0294912c",
       "version_major": 2,
       "version_minor": 0
      },
      "text/plain": [
       "Epoch 283:   0%|          | 0/500 [00:00<?, ?it/s]"
      ]
     },
     "metadata": {},
     "output_type": "display_data"
    },
    {
     "data": {
      "application/vnd.jupyter.widget-view+json": {
       "model_id": "c196761031f4474da92f7132b22e0fcf",
       "version_major": 2,
       "version_minor": 0
      },
      "text/plain": [
       "Epoch 284:   0%|          | 0/500 [00:00<?, ?it/s]"
      ]
     },
     "metadata": {},
     "output_type": "display_data"
    },
    {
     "data": {
      "application/vnd.jupyter.widget-view+json": {
       "model_id": "9530bce46b0f43108eb4f46fd9a289c2",
       "version_major": 2,
       "version_minor": 0
      },
      "text/plain": [
       "Epoch 285:   0%|          | 0/500 [00:00<?, ?it/s]"
      ]
     },
     "metadata": {},
     "output_type": "display_data"
    },
    {
     "data": {
      "application/vnd.jupyter.widget-view+json": {
       "model_id": "f19dd824a21e47b8aa2f974ada40fd57",
       "version_major": 2,
       "version_minor": 0
      },
      "text/plain": [
       "Epoch 286:   0%|          | 0/500 [00:00<?, ?it/s]"
      ]
     },
     "metadata": {},
     "output_type": "display_data"
    },
    {
     "data": {
      "application/vnd.jupyter.widget-view+json": {
       "model_id": "236efec2f2a04760801b29b1ecdf9262",
       "version_major": 2,
       "version_minor": 0
      },
      "text/plain": [
       "Epoch 287:   0%|          | 0/500 [00:00<?, ?it/s]"
      ]
     },
     "metadata": {},
     "output_type": "display_data"
    },
    {
     "data": {
      "application/vnd.jupyter.widget-view+json": {
       "model_id": "435716663a164e1aa1135dd570bcf627",
       "version_major": 2,
       "version_minor": 0
      },
      "text/plain": [
       "Epoch 288:   0%|          | 0/500 [00:00<?, ?it/s]"
      ]
     },
     "metadata": {},
     "output_type": "display_data"
    },
    {
     "data": {
      "application/vnd.jupyter.widget-view+json": {
       "model_id": "35743c0e997f4aef9e49f1f0e9fc52f1",
       "version_major": 2,
       "version_minor": 0
      },
      "text/plain": [
       "Epoch 289:   0%|          | 0/500 [00:00<?, ?it/s]"
      ]
     },
     "metadata": {},
     "output_type": "display_data"
    },
    {
     "data": {
      "application/vnd.jupyter.widget-view+json": {
       "model_id": "29cb9532dbf54a1e8e95e3b98578ed91",
       "version_major": 2,
       "version_minor": 0
      },
      "text/plain": [
       "Epoch 290:   0%|          | 0/500 [00:00<?, ?it/s]"
      ]
     },
     "metadata": {},
     "output_type": "display_data"
    },
    {
     "data": {
      "application/vnd.jupyter.widget-view+json": {
       "model_id": "b57f50a35da64c2c8f227ebf6980a848",
       "version_major": 2,
       "version_minor": 0
      },
      "text/plain": [
       "Epoch 291:   0%|          | 0/500 [00:00<?, ?it/s]"
      ]
     },
     "metadata": {},
     "output_type": "display_data"
    },
    {
     "data": {
      "application/vnd.jupyter.widget-view+json": {
       "model_id": "ff358e76b9524149b99d1baa920ce8c3",
       "version_major": 2,
       "version_minor": 0
      },
      "text/plain": [
       "Epoch 292:   0%|          | 0/500 [00:00<?, ?it/s]"
      ]
     },
     "metadata": {},
     "output_type": "display_data"
    },
    {
     "data": {
      "application/vnd.jupyter.widget-view+json": {
       "model_id": "8eda35011de248e0b472c34ba47895a1",
       "version_major": 2,
       "version_minor": 0
      },
      "text/plain": [
       "Epoch 293:   0%|          | 0/500 [00:00<?, ?it/s]"
      ]
     },
     "metadata": {},
     "output_type": "display_data"
    },
    {
     "data": {
      "application/vnd.jupyter.widget-view+json": {
       "model_id": "784796fbe37647e5be01b9545933f7e5",
       "version_major": 2,
       "version_minor": 0
      },
      "text/plain": [
       "Epoch 294:   0%|          | 0/500 [00:00<?, ?it/s]"
      ]
     },
     "metadata": {},
     "output_type": "display_data"
    },
    {
     "data": {
      "application/vnd.jupyter.widget-view+json": {
       "model_id": "e98725bb364b44bdbabd269cb5a4441c",
       "version_major": 2,
       "version_minor": 0
      },
      "text/plain": [
       "Epoch 295:   0%|          | 0/500 [00:00<?, ?it/s]"
      ]
     },
     "metadata": {},
     "output_type": "display_data"
    },
    {
     "data": {
      "application/vnd.jupyter.widget-view+json": {
       "model_id": "ba270fcd3dce4d7e9a06b77044176430",
       "version_major": 2,
       "version_minor": 0
      },
      "text/plain": [
       "Epoch 296:   0%|          | 0/500 [00:00<?, ?it/s]"
      ]
     },
     "metadata": {},
     "output_type": "display_data"
    },
    {
     "data": {
      "application/vnd.jupyter.widget-view+json": {
       "model_id": "884d15860bae498ba99d4259dbc479df",
       "version_major": 2,
       "version_minor": 0
      },
      "text/plain": [
       "Epoch 297:   0%|          | 0/500 [00:00<?, ?it/s]"
      ]
     },
     "metadata": {},
     "output_type": "display_data"
    },
    {
     "data": {
      "application/vnd.jupyter.widget-view+json": {
       "model_id": "2c5da9348e0f40d5bf4a61c926848d62",
       "version_major": 2,
       "version_minor": 0
      },
      "text/plain": [
       "Epoch 298:   0%|          | 0/500 [00:00<?, ?it/s]"
      ]
     },
     "metadata": {},
     "output_type": "display_data"
    },
    {
     "data": {
      "application/vnd.jupyter.widget-view+json": {
       "model_id": "ba1bbe49d4c04b5f869d4f2c87dc9cd1",
       "version_major": 2,
       "version_minor": 0
      },
      "text/plain": [
       "Epoch 299:   0%|          | 0/500 [00:00<?, ?it/s]"
      ]
     },
     "metadata": {},
     "output_type": "display_data"
    }
   ],
   "source": [
    "teacher.eval()\n",
    "student.train()\n",
    "MIN_LOSS = 5\n",
    "optimizer_stu = torch.optim.Adam(student.parameters(), lr=args[\"distillation\"][\"learning_rate\"])\n",
    "criterion_KD = nn.MSELoss()\n",
    "scheduler = torch.optim.lr_scheduler.StepLR(optimizer_stu, step_size=args[\"distillation\"][\"epochs\"] // 2, gamma=0.1)\n",
    "\n",
    "epoch_bar = tqdm(range(args[\"distillation\"][\"epochs\"]), desc=\"Distillation\")\n",
    "for epoch in epoch_bar:\n",
    "    batch_bar = tqdm(enumerate(train_loader), total=len(train_loader), desc=f\"Epoch {epoch}\", leave=False)\n",
    "    for i, (data, _) in batch_bar:\n",
    "        data = data.to(device)\n",
    "\n",
    "        optimizer_stu.zero_grad()\n",
    "        teacher_output = teacher(data)\n",
    "        student_output = student(data)\n",
    "\n",
    "        loss_KD = criterion_KD(student_output, teacher_output)\n",
    "        batch_bar.set_postfix({'KD Loss': loss_KD.item(), 'LR': scheduler.get_last_lr()[0]})\n",
    "\n",
    "        loss_KD.backward()\n",
    "        optimizer_stu.step()\n",
    "\n",
    "    scheduler.step()\n",
    "\n",
    "    if loss_KD.item() < MIN_LOSS:\n",
    "        MIN_LOSS = loss_KD.item()\n",
    "        save_model(student, args[\"distillation\"][\"model_saved_path\"] + 'source_encoder_kd.pt')\n",
    "\n",
    "    epoch_bar.set_postfix({'KD Loss': loss_KD.item(), 'LR': scheduler.get_last_lr()[0]})"
   ]
  },
  {
   "cell_type": "markdown",
   "metadata": {},
   "source": [
    "# 训练学生模型对应的分类网络"
   ]
  },
  {
   "cell_type": "code",
   "execution_count": null,
   "metadata": {},
   "outputs": [
    {
     "name": "stdout",
     "output_type": "stream",
     "text": [
      "Testing on val... \tAccuracy:  0.6836\n"
     ]
    }
   ],
   "source": [
    "classifier = GenClassifier(512, 100, [], device)\n",
    "classifier.train()\n",
    "student.eval()\n",
    "\n",
    "optimizer_cla = torch.optim.Adam(classifier.parameters(), lr=args[\"classification\"][\"learning_rate\"])\n",
    "criterion_CE = nn.CrossEntropyLoss()\n",
    "\n",
    "for epoch in tqdm(range(args[\"classification\"][\"epochs\"]), desc=\"Epoch\"):\n",
    "    with tqdm(enumerate(train_loader),\n",
    "              total=len(train_loader),\n",
    "              desc=f\"Epoch {epoch+1} Batch\",\n",
    "              leave=False) as batch_bar:\n",
    "        for i, (data, target) in batch_bar:\n",
    "            data, target = data.to(device), target.to(device)\n",
    "\n",
    "            optimizer_cla.zero_grad()\n",
    "            student_output = student(data)\n",
    "            output = classifier(student_output)\n",
    "\n",
    "            loss_CE = criterion_CE(output, target)\n",
    "            acc = (output.argmax(dim=1) == target).float().mean()\n",
    "            batch_bar.set_postfix({'CE Loss': loss_CE.item(), 'Accuracy': acc.item()})\n",
    "\n",
    "            loss_CE.backward()\n",
    "            optimizer_cla.step()\n",
    "\n",
    "    save_model(classifier, args[\"distillation\"][\"model_saved_path\"] + 'source_decoder_kd.pt')\n",
    "\n",
    "acc_test = test_on_val(student, classifier, test_loader, device)"
   ]
  },
  {
   "cell_type": "code",
   "execution_count": 4,
   "metadata": {},
   "outputs": [
    {
     "data": {
      "application/vnd.jupyter.widget-view+json": {
       "model_id": "30968a86b10f41fc86e86164d9f406d5",
       "version_major": 2,
       "version_minor": 0
      },
      "text/plain": [
       "Epoch:   0%|          | 0/7 [00:00<?, ?it/s]"
      ]
     },
     "metadata": {},
     "output_type": "display_data"
    },
    {
     "data": {
      "application/vnd.jupyter.widget-view+json": {
       "model_id": "d66b30f13dc149258dd321e5eaf64b57",
       "version_major": 2,
       "version_minor": 0
      },
      "text/plain": [
       "Epoch 1 Training on SNR=-5:   0%|          | 0/500 [00:00<?, ?it/s]"
      ]
     },
     "metadata": {},
     "output_type": "display_data"
    },
    {
     "data": {
      "application/vnd.jupyter.widget-view+json": {
       "model_id": "71866d0ba37944f8b08c074214479820",
       "version_major": 2,
       "version_minor": 0
      },
      "text/plain": [
       "Epoch 2 Training on SNR=-2:   0%|          | 0/500 [00:00<?, ?it/s]"
      ]
     },
     "metadata": {},
     "output_type": "display_data"
    },
    {
     "data": {
      "application/vnd.jupyter.widget-view+json": {
       "model_id": "9a75856279bf45bb9704b852481bcecc",
       "version_major": 2,
       "version_minor": 0
      },
      "text/plain": [
       "Epoch 3 Training on SNR=0:   0%|          | 0/500 [00:00<?, ?it/s]"
      ]
     },
     "metadata": {},
     "output_type": "display_data"
    },
    {
     "data": {
      "application/vnd.jupyter.widget-view+json": {
       "model_id": "6ee791df14a24148ae506ceea42b5928",
       "version_major": 2,
       "version_minor": 0
      },
      "text/plain": [
       "Epoch 4 Training on SNR=5:   0%|          | 0/500 [00:00<?, ?it/s]"
      ]
     },
     "metadata": {},
     "output_type": "display_data"
    },
    {
     "name": "stderr",
     "output_type": "stream",
     "text": [
      "Exception ignored in: <function _MultiProcessingDataLoaderIter.__del__ at 0x7fe2d423d280>\n",
      "Traceback (most recent call last):\n",
      "  File \"/home/ubuntu/users/dky/.local/lib/python3.8/site-packages/torch/utils/data/dataloader.py\", line 1479, in __del__\n",
      "    self._shutdown_workers()\n",
      "  File \"/home/ubuntu/users/dky/.local/lib/python3.8/site-packages/torch/utils/data/dataloader.py\", line 1462, in _shutdown_workers\n",
      "    if w.is_alive():\n",
      "  File \"/home/ubuntu/users/dky/anaconda3/envs/KD/lib/python3.8/multiprocessing/process.py\", line 160, in is_alive\n",
      "    assert self._parent_pid == os.getpid(), 'can only test a child process'\n",
      "AssertionError: can only test a child process\n",
      "Exception ignored in: <function _MultiProcessingDataLoaderIter.__del__ at 0x7fe2d423d280>\n",
      "Traceback (most recent call last):\n",
      "  File \"/home/ubuntu/users/dky/.local/lib/python3.8/site-packages/torch/utils/data/dataloader.py\", line 1479, in __del__\n",
      "    self._shutdown_workers()\n",
      "  File \"/home/ubuntu/users/dky/.local/lib/python3.8/site-packages/torch/utils/data/dataloader.py\", line 1462, in _shutdown_workers\n",
      "    if w.is_alive():\n",
      "  File \"/home/ubuntu/users/dky/anaconda3/envs/KD/lib/python3.8/multiprocessing/process.py\", line 160, in is_alive\n",
      "    assert self._parent_pid == os.getpid(), 'can only test a child process'\n",
      "AssertionError: can only test a child process\n",
      "Exception ignored in: <function _MultiProcessingDataLoaderIter.__del__ at 0x7fe2d423d280>\n",
      "Traceback (most recent call last):\n",
      "  File \"/home/ubuntu/users/dky/.local/lib/python3.8/site-packages/torch/utils/data/dataloader.py\", line 1479, in __del__\n",
      "    self._shutdown_workers()\n",
      "  File \"/home/ubuntu/users/dky/.local/lib/python3.8/site-packages/torch/utils/data/dataloader.py\", line 1462, in _shutdown_workers\n",
      "    if w.is_alive():\n",
      "  File \"/home/ubuntu/users/dky/anaconda3/envs/KD/lib/python3.8/multiprocessing/process.py\", line 160, in is_alive\n",
      "    assert self._parent_pid == os.getpid(), 'can only test a child process'\n",
      "AssertionError: can only test a child process\n",
      "Exception ignored in: <function _MultiProcessingDataLoaderIter.__del__ at 0x7fe2d423d280>\n",
      "Traceback (most recent call last):\n",
      "  File \"/home/ubuntu/users/dky/.local/lib/python3.8/site-packages/torch/utils/data/dataloader.py\", line 1479, in __del__\n",
      "    self._shutdown_workers()\n",
      "  File \"/home/ubuntu/users/dky/.local/lib/python3.8/site-packages/torch/utils/data/dataloader.py\", line 1462, in _shutdown_workers\n",
      "    if w.is_alive():\n",
      "  File \"/home/ubuntu/users/dky/anaconda3/envs/KD/lib/python3.8/multiprocessing/process.py\", line 160, in is_alive\n",
      "    assert self._parent_pid == os.getpid(), 'can only test a child process'\n",
      "AssertionError: can only test a child process\n",
      "Exception ignored in: <function _MultiProcessingDataLoaderIter.__del__ at 0x7fe2d423d280>\n",
      "Traceback (most recent call last):\n",
      "  File \"/home/ubuntu/users/dky/.local/lib/python3.8/site-packages/torch/utils/data/dataloader.py\", line 1479, in __del__\n",
      "    self._shutdown_workers()\n",
      "  File \"/home/ubuntu/users/dky/.local/lib/python3.8/site-packages/torch/utils/data/dataloader.py\", line 1462, in _shutdown_workers\n",
      "    if w.is_alive():\n",
      "  File \"/home/ubuntu/users/dky/anaconda3/envs/KD/lib/python3.8/multiprocessing/process.py\", line 160, in is_alive\n",
      "    assert self._parent_pid == os.getpid(), 'can only test a child process'\n",
      "AssertionError: can only test a child process\n",
      "Exception ignored in: <function _MultiProcessingDataLoaderIter.__del__ at 0x7fe2d423d280>\n",
      "Traceback (most recent call last):\n",
      "  File \"/home/ubuntu/users/dky/.local/lib/python3.8/site-packages/torch/utils/data/dataloader.py\", line 1479, in __del__\n",
      "    self._shutdown_workers()\n",
      "  File \"/home/ubuntu/users/dky/.local/lib/python3.8/site-packages/torch/utils/data/dataloader.py\", line 1462, in _shutdown_workers\n",
      "    if w.is_alive():\n",
      "  File \"/home/ubuntu/users/dky/anaconda3/envs/KD/lib/python3.8/multiprocessing/process.py\", line 160, in is_alive\n",
      "    assert self._parent_pid == os.getpid(), 'can only test a child process'\n",
      "AssertionError: can only test a child process\n",
      "Exception ignored in: <function _MultiProcessingDataLoaderIter.__del__ at 0x7fe2d423d280>\n",
      "Traceback (most recent call last):\n",
      "  File \"/home/ubuntu/users/dky/.local/lib/python3.8/site-packages/torch/utils/data/dataloader.py\", line 1479, in __del__\n",
      "    self._shutdown_workers()\n",
      "  File \"/home/ubuntu/users/dky/.local/lib/python3.8/site-packages/torch/utils/data/dataloader.py\", line 1462, in _shutdown_workers\n",
      "    if w.is_alive():\n",
      "  File \"/home/ubuntu/users/dky/anaconda3/envs/KD/lib/python3.8/multiprocessing/process.py\", line 160, in is_alive\n",
      "    assert self._parent_pid == os.getpid(), 'can only test a child process'\n",
      "AssertionError: can only test a child process\n",
      "Exception ignored in: <function _MultiProcessingDataLoaderIter.__del__ at 0x7fe2d423d280>\n",
      "Traceback (most recent call last):\n",
      "  File \"/home/ubuntu/users/dky/.local/lib/python3.8/site-packages/torch/utils/data/dataloader.py\", line 1479, in __del__\n",
      "    self._shutdown_workers()\n",
      "  File \"/home/ubuntu/users/dky/.local/lib/python3.8/site-packages/torch/utils/data/dataloader.py\", line 1462, in _shutdown_workers\n",
      "    if w.is_alive():\n",
      "  File \"/home/ubuntu/users/dky/anaconda3/envs/KD/lib/python3.8/multiprocessing/process.py\", line 160, in is_alive\n",
      "    assert self._parent_pid == os.getpid(), 'can only test a child process'\n",
      "AssertionError: can only test a child process\n",
      "Exception ignored in: <function _MultiProcessingDataLoaderIter.__del__ at 0x7fe2d423d280>\n",
      "Traceback (most recent call last):\n",
      "  File \"/home/ubuntu/users/dky/.local/lib/python3.8/site-packages/torch/utils/data/dataloader.py\", line 1479, in __del__\n",
      "    self._shutdown_workers()\n",
      "  File \"/home/ubuntu/users/dky/.local/lib/python3.8/site-packages/torch/utils/data/dataloader.py\", line 1462, in _shutdown_workers\n",
      "    if w.is_alive():\n",
      "  File \"/home/ubuntu/users/dky/anaconda3/envs/KD/lib/python3.8/multiprocessing/process.py\", line 160, in is_alive\n",
      "    assert self._parent_pid == os.getpid(), 'can only test a child process'\n",
      "AssertionError: can only test a child process\n"
     ]
    },
    {
     "data": {
      "application/vnd.jupyter.widget-view+json": {
       "model_id": "b8956e74cd3b48aba2d0a06b265ee1f1",
       "version_major": 2,
       "version_minor": 0
      },
      "text/plain": [
       "Epoch 5 Training on SNR=10:   0%|          | 0/500 [00:00<?, ?it/s]"
      ]
     },
     "metadata": {},
     "output_type": "display_data"
    },
    {
     "name": "stderr",
     "output_type": "stream",
     "text": [
      "Exception ignored in: <function _MultiProcessingDataLoaderIter.__del__ at 0x7fe2d423d280>\n",
      "Traceback (most recent call last):\n",
      "  File \"/home/ubuntu/users/dky/.local/lib/python3.8/site-packages/torch/utils/data/dataloader.py\", line 1479, in __del__\n",
      "    self._shutdown_workers()\n",
      "  File \"/home/ubuntu/users/dky/.local/lib/python3.8/site-packages/torch/utils/data/dataloader.py\", line 1462, in _shutdown_workers\n",
      "    if w.is_alive():\n",
      "  File \"/home/ubuntu/users/dky/anaconda3/envs/KD/lib/python3.8/multiprocessing/process.py\", line 160, in is_alive\n",
      "    assert self._parent_pid == os.getpid(), 'can only test a child process'\n",
      "AssertionError: can only test a child process\n",
      "Exception ignored in: <function _MultiProcessingDataLoaderIter.__del__ at 0x7fe2d423d280>\n",
      "Traceback (most recent call last):\n",
      "  File \"/home/ubuntu/users/dky/.local/lib/python3.8/site-packages/torch/utils/data/dataloader.py\", line 1479, in __del__\n",
      "    self._shutdown_workers()\n",
      "  File \"/home/ubuntu/users/dky/.local/lib/python3.8/site-packages/torch/utils/data/dataloader.py\", line 1462, in _shutdown_workers\n",
      "    if w.is_alive():\n",
      "  File \"/home/ubuntu/users/dky/anaconda3/envs/KD/lib/python3.8/multiprocessing/process.py\", line 160, in is_alive\n",
      "    assert self._parent_pid == os.getpid(), 'can only test a child process'\n",
      "AssertionError: can only test a child process\n",
      "Exception ignored in: <function _MultiProcessingDataLoaderIter.__del__ at 0x7fe2d423d280>\n",
      "Traceback (most recent call last):\n",
      "  File \"/home/ubuntu/users/dky/.local/lib/python3.8/site-packages/torch/utils/data/dataloader.py\", line 1479, in __del__\n",
      "    self._shutdown_workers()\n",
      "  File \"/home/ubuntu/users/dky/.local/lib/python3.8/site-packages/torch/utils/data/dataloader.py\", line 1462, in _shutdown_workers\n",
      "    if w.is_alive():\n",
      "  File \"/home/ubuntu/users/dky/anaconda3/envs/KD/lib/python3.8/multiprocessing/process.py\", line 160, in is_alive\n",
      "    assert self._parent_pid == os.getpid(), 'can only test a child process'\n",
      "AssertionError: can only test a child process\n",
      "Exception ignored in: <function _MultiProcessingDataLoaderIter.__del__ at 0x7fe2d423d280>\n",
      "Traceback (most recent call last):\n",
      "  File \"/home/ubuntu/users/dky/.local/lib/python3.8/site-packages/torch/utils/data/dataloader.py\", line 1479, in __del__\n",
      "    self._shutdown_workers()\n",
      "  File \"/home/ubuntu/users/dky/.local/lib/python3.8/site-packages/torch/utils/data/dataloader.py\", line 1462, in _shutdown_workers\n",
      "    if w.is_alive():\n",
      "  File \"/home/ubuntu/users/dky/anaconda3/envs/KD/lib/python3.8/multiprocessing/process.py\", line 160, in is_alive\n",
      "    assert self._parent_pid == os.getpid(), 'can only test a child process'\n",
      "AssertionError: can only test a child process\n",
      "Exception ignored in: <function _MultiProcessingDataLoaderIter.__del__ at 0x7fe2d423d280>\n",
      "Traceback (most recent call last):\n",
      "  File \"/home/ubuntu/users/dky/.local/lib/python3.8/site-packages/torch/utils/data/dataloader.py\", line 1479, in __del__\n",
      "    self._shutdown_workers()\n",
      "  File \"/home/ubuntu/users/dky/.local/lib/python3.8/site-packages/torch/utils/data/dataloader.py\", line 1462, in _shutdown_workers\n",
      "    if w.is_alive():\n",
      "  File \"/home/ubuntu/users/dky/anaconda3/envs/KD/lib/python3.8/multiprocessing/process.py\", line 160, in is_alive\n",
      "    assert self._parent_pid == os.getpid(), 'can only test a child process'\n",
      "AssertionError: can only test a child process\n",
      "Exception ignored in: <function _MultiProcessingDataLoaderIter.__del__ at 0x7fe2d423d280>\n",
      "Traceback (most recent call last):\n",
      "  File \"/home/ubuntu/users/dky/.local/lib/python3.8/site-packages/torch/utils/data/dataloader.py\", line 1479, in __del__\n",
      "    self._shutdown_workers()\n",
      "  File \"/home/ubuntu/users/dky/.local/lib/python3.8/site-packages/torch/utils/data/dataloader.py\", line 1462, in _shutdown_workers\n",
      "    if w.is_alive():\n",
      "  File \"/home/ubuntu/users/dky/anaconda3/envs/KD/lib/python3.8/multiprocessing/process.py\", line 160, in is_alive\n",
      "    assert self._parent_pid == os.getpid(), 'can only test a child process'\n",
      "AssertionError: can only test a child process\n",
      "Exception ignored in: <function _MultiProcessingDataLoaderIter.__del__ at 0x7fe2d423d280>\n",
      "Traceback (most recent call last):\n",
      "  File \"/home/ubuntu/users/dky/.local/lib/python3.8/site-packages/torch/utils/data/dataloader.py\", line 1479, in __del__\n",
      "    self._shutdown_workers()\n",
      "  File \"/home/ubuntu/users/dky/.local/lib/python3.8/site-packages/torch/utils/data/dataloader.py\", line 1462, in _shutdown_workers\n",
      "    if w.is_alive():\n",
      "  File \"/home/ubuntu/users/dky/anaconda3/envs/KD/lib/python3.8/multiprocessing/process.py\", line 160, in is_alive\n",
      "    assert self._parent_pid == os.getpid(), 'can only test a child process'\n",
      "AssertionError: can only test a child process\n",
      "Exception ignored in: <function _MultiProcessingDataLoaderIter.__del__ at 0x7fe2d423d280>\n",
      "Traceback (most recent call last):\n",
      "  File \"/home/ubuntu/users/dky/.local/lib/python3.8/site-packages/torch/utils/data/dataloader.py\", line 1479, in __del__\n",
      "    self._shutdown_workers()\n",
      "  File \"/home/ubuntu/users/dky/.local/lib/python3.8/site-packages/torch/utils/data/dataloader.py\", line 1462, in _shutdown_workers\n",
      "    if w.is_alive():\n",
      "  File \"/home/ubuntu/users/dky/anaconda3/envs/KD/lib/python3.8/multiprocessing/process.py\", line 160, in is_alive\n",
      "    assert self._parent_pid == os.getpid(), 'can only test a child process'\n",
      "AssertionError: can only test a child process\n",
      "Exception ignored in: <function _MultiProcessingDataLoaderIter.__del__ at 0x7fe2d423d280>\n",
      "Traceback (most recent call last):\n",
      "  File \"/home/ubuntu/users/dky/.local/lib/python3.8/site-packages/torch/utils/data/dataloader.py\", line 1479, in __del__\n",
      "    self._shutdown_workers()\n",
      "  File \"/home/ubuntu/users/dky/.local/lib/python3.8/site-packages/torch/utils/data/dataloader.py\", line 1462, in _shutdown_workers\n",
      "    if w.is_alive():\n",
      "  File \"/home/ubuntu/users/dky/anaconda3/envs/KD/lib/python3.8/multiprocessing/process.py\", line 160, in is_alive\n",
      "    assert self._parent_pid == os.getpid(), 'can only test a child process'\n",
      "AssertionError: can only test a child process\n",
      "Exception ignored in: <function _MultiProcessingDataLoaderIter.__del__ at 0x7fe2d423d280>\n",
      "Traceback (most recent call last):\n",
      "  File \"/home/ubuntu/users/dky/.local/lib/python3.8/site-packages/torch/utils/data/dataloader.py\", line 1479, in __del__\n",
      "    self._shutdown_workers()\n",
      "  File \"/home/ubuntu/users/dky/.local/lib/python3.8/site-packages/torch/utils/data/dataloader.py\", line 1462, in _shutdown_workers\n",
      "    if w.is_alive():\n",
      "  File \"/home/ubuntu/users/dky/anaconda3/envs/KD/lib/python3.8/multiprocessing/process.py\", line 160, in is_alive\n",
      "    assert self._parent_pid == os.getpid(), 'can only test a child process'\n",
      "AssertionError: can only test a child process\n",
      "Exception ignored in: <function _MultiProcessingDataLoaderIter.__del__ at 0x7fe2d423d280>\n",
      "Traceback (most recent call last):\n",
      "  File \"/home/ubuntu/users/dky/.local/lib/python3.8/site-packages/torch/utils/data/dataloader.py\", line 1479, in __del__\n",
      "    self._shutdown_workers()\n",
      "  File \"/home/ubuntu/users/dky/.local/lib/python3.8/site-packages/torch/utils/data/dataloader.py\", line 1462, in _shutdown_workers\n",
      "    if w.is_alive():\n",
      "  File \"/home/ubuntu/users/dky/anaconda3/envs/KD/lib/python3.8/multiprocessing/process.py\", line 160, in is_alive\n",
      "    assert self._parent_pid == os.getpid(), 'can only test a child process'\n",
      "AssertionError: can only test a child process\n",
      "Exception ignored in: <function _MultiProcessingDataLoaderIter.__del__ at 0x7fe2d423d280>\n",
      "Traceback (most recent call last):\n",
      "  File \"/home/ubuntu/users/dky/.local/lib/python3.8/site-packages/torch/utils/data/dataloader.py\", line 1479, in __del__\n",
      "    self._shutdown_workers()\n",
      "  File \"/home/ubuntu/users/dky/.local/lib/python3.8/site-packages/torch/utils/data/dataloader.py\", line 1462, in _shutdown_workers\n",
      "    if w.is_alive():\n",
      "  File \"/home/ubuntu/users/dky/anaconda3/envs/KD/lib/python3.8/multiprocessing/process.py\", line 160, in is_alive\n",
      "    assert self._parent_pid == os.getpid(), 'can only test a child process'\n",
      "AssertionError: can only test a child process\n",
      "Exception ignored in: <function _MultiProcessingDataLoaderIter.__del__ at 0x7fe2d423d280>\n",
      "Traceback (most recent call last):\n",
      "  File \"/home/ubuntu/users/dky/.local/lib/python3.8/site-packages/torch/utils/data/dataloader.py\", line 1479, in __del__\n",
      "    self._shutdown_workers()\n",
      "  File \"/home/ubuntu/users/dky/.local/lib/python3.8/site-packages/torch/utils/data/dataloader.py\", line 1462, in _shutdown_workers\n",
      "    if w.is_alive():\n",
      "  File \"/home/ubuntu/users/dky/anaconda3/envs/KD/lib/python3.8/multiprocessing/process.py\", line 160, in is_alive\n",
      "    assert self._parent_pid == os.getpid(), 'can only test a child process'\n",
      "AssertionError: can only test a child process\n",
      "Exception ignored in: <function _MultiProcessingDataLoaderIter.__del__ at 0x7fe2d423d280>\n",
      "Traceback (most recent call last):\n",
      "  File \"/home/ubuntu/users/dky/.local/lib/python3.8/site-packages/torch/utils/data/dataloader.py\", line 1479, in __del__\n",
      "    self._shutdown_workers()\n",
      "  File \"/home/ubuntu/users/dky/.local/lib/python3.8/site-packages/torch/utils/data/dataloader.py\", line 1462, in _shutdown_workers\n",
      "    if w.is_alive():\n",
      "  File \"/home/ubuntu/users/dky/anaconda3/envs/KD/lib/python3.8/multiprocessing/process.py\", line 160, in is_alive\n",
      "    assert self._parent_pid == os.getpid(), 'can only test a child process'\n",
      "AssertionError: can only test a child process\n",
      "Exception ignored in: <function _MultiProcessingDataLoaderIter.__del__ at 0x7fe2d423d280>\n",
      "Traceback (most recent call last):\n",
      "  File \"/home/ubuntu/users/dky/.local/lib/python3.8/site-packages/torch/utils/data/dataloader.py\", line 1479, in __del__\n",
      "    self._shutdown_workers()\n",
      "  File \"/home/ubuntu/users/dky/.local/lib/python3.8/site-packages/torch/utils/data/dataloader.py\", line 1462, in _shutdown_workers\n",
      "    if w.is_alive():\n",
      "  File \"/home/ubuntu/users/dky/anaconda3/envs/KD/lib/python3.8/multiprocessing/process.py\", line 160, in is_alive\n",
      "    assert self._parent_pid == os.getpid(), 'can only test a child process'\n",
      "AssertionError: can only test a child process\n",
      "Exception ignored in: <function _MultiProcessingDataLoaderIter.__del__ at 0x7fe2d423d280>\n",
      "Traceback (most recent call last):\n",
      "  File \"/home/ubuntu/users/dky/.local/lib/python3.8/site-packages/torch/utils/data/dataloader.py\", line 1479, in __del__\n",
      "    self._shutdown_workers()\n",
      "  File \"/home/ubuntu/users/dky/.local/lib/python3.8/site-packages/torch/utils/data/dataloader.py\", line 1462, in _shutdown_workers\n",
      "    if w.is_alive():\n",
      "  File \"/home/ubuntu/users/dky/anaconda3/envs/KD/lib/python3.8/multiprocessing/process.py\", line 160, in is_alive\n",
      "    assert self._parent_pid == os.getpid(), 'can only test a child process'\n",
      "AssertionError: can only test a child process\n"
     ]
    },
    {
     "data": {
      "application/vnd.jupyter.widget-view+json": {
       "model_id": "71d96775828c46469bbd9311d199d9e1",
       "version_major": 2,
       "version_minor": 0
      },
      "text/plain": [
       "Epoch 6 Training on SNR=15:   0%|          | 0/500 [00:00<?, ?it/s]"
      ]
     },
     "metadata": {},
     "output_type": "display_data"
    },
    {
     "name": "stderr",
     "output_type": "stream",
     "text": [
      "Exception ignored in: <function _MultiProcessingDataLoaderIter.__del__ at 0x7fe2d423d280>\n",
      "Traceback (most recent call last):\n",
      "  File \"/home/ubuntu/users/dky/.local/lib/python3.8/site-packages/torch/utils/data/dataloader.py\", line 1479, in __del__\n",
      "    self._shutdown_workers()\n",
      "  File \"/home/ubuntu/users/dky/.local/lib/python3.8/site-packages/torch/utils/data/dataloader.py\", line 1462, in _shutdown_workers\n",
      "    if w.is_alive():\n",
      "  File \"/home/ubuntu/users/dky/anaconda3/envs/KD/lib/python3.8/multiprocessing/process.py\", line 160, in is_alive\n",
      "    assert self._parent_pid == os.getpid(), 'can only test a child process'\n",
      "AssertionError: can only test a child process\n",
      "Exception ignored in: <function _MultiProcessingDataLoaderIter.__del__ at 0x7fe2d423d280>\n",
      "Traceback (most recent call last):\n",
      "  File \"/home/ubuntu/users/dky/.local/lib/python3.8/site-packages/torch/utils/data/dataloader.py\", line 1479, in __del__\n",
      "    self._shutdown_workers()\n",
      "  File \"/home/ubuntu/users/dky/.local/lib/python3.8/site-packages/torch/utils/data/dataloader.py\", line 1462, in _shutdown_workers\n",
      "    if w.is_alive():\n",
      "  File \"/home/ubuntu/users/dky/anaconda3/envs/KD/lib/python3.8/multiprocessing/process.py\", line 160, in is_alive\n",
      "    assert self._parent_pid == os.getpid(), 'can only test a child process'\n",
      "AssertionError: can only test a child process\n",
      "Exception ignored in: <function _MultiProcessingDataLoaderIter.__del__ at 0x7fe2d423d280>\n",
      "Traceback (most recent call last):\n",
      "  File \"/home/ubuntu/users/dky/.local/lib/python3.8/site-packages/torch/utils/data/dataloader.py\", line 1479, in __del__\n",
      "    self._shutdown_workers()\n",
      "  File \"/home/ubuntu/users/dky/.local/lib/python3.8/site-packages/torch/utils/data/dataloader.py\", line 1462, in _shutdown_workers\n",
      "    if w.is_alive():\n",
      "  File \"/home/ubuntu/users/dky/anaconda3/envs/KD/lib/python3.8/multiprocessing/process.py\", line 160, in is_alive\n",
      "    assert self._parent_pid == os.getpid(), 'can only test a child process'\n",
      "AssertionError: can only test a child process\n",
      "Exception ignored in: <function _MultiProcessingDataLoaderIter.__del__ at 0x7fe2d423d280>\n",
      "Traceback (most recent call last):\n",
      "  File \"/home/ubuntu/users/dky/.local/lib/python3.8/site-packages/torch/utils/data/dataloader.py\", line 1479, in __del__\n",
      "    self._shutdown_workers()\n",
      "  File \"/home/ubuntu/users/dky/.local/lib/python3.8/site-packages/torch/utils/data/dataloader.py\", line 1462, in _shutdown_workers\n",
      "    if w.is_alive():\n",
      "  File \"/home/ubuntu/users/dky/anaconda3/envs/KD/lib/python3.8/multiprocessing/process.py\", line 160, in is_alive\n",
      "    assert self._parent_pid == os.getpid(), 'can only test a child process'\n",
      "AssertionError: can only test a child process\n",
      "Exception ignored in: <function _MultiProcessingDataLoaderIter.__del__ at 0x7fe2d423d280>\n",
      "Traceback (most recent call last):\n",
      "  File \"/home/ubuntu/users/dky/.local/lib/python3.8/site-packages/torch/utils/data/dataloader.py\", line 1479, in __del__\n",
      "    self._shutdown_workers()\n",
      "  File \"/home/ubuntu/users/dky/.local/lib/python3.8/site-packages/torch/utils/data/dataloader.py\", line 1462, in _shutdown_workers\n",
      "    if w.is_alive():\n",
      "  File \"/home/ubuntu/users/dky/anaconda3/envs/KD/lib/python3.8/multiprocessing/process.py\", line 160, in is_alive\n",
      "    assert self._parent_pid == os.getpid(), 'can only test a child process'\n",
      "AssertionError: can only test a child process\n",
      "Exception ignored in: <function _MultiProcessingDataLoaderIter.__del__ at 0x7fe2d423d280>\n",
      "Traceback (most recent call last):\n",
      "  File \"/home/ubuntu/users/dky/.local/lib/python3.8/site-packages/torch/utils/data/dataloader.py\", line 1479, in __del__\n",
      "    self._shutdown_workers()\n",
      "  File \"/home/ubuntu/users/dky/.local/lib/python3.8/site-packages/torch/utils/data/dataloader.py\", line 1462, in _shutdown_workers\n",
      "    if w.is_alive():\n",
      "  File \"/home/ubuntu/users/dky/anaconda3/envs/KD/lib/python3.8/multiprocessing/process.py\", line 160, in is_alive\n",
      "    assert self._parent_pid == os.getpid(), 'can only test a child process'\n",
      "AssertionError: can only test a child process\n",
      "Exception ignored in: <function _MultiProcessingDataLoaderIter.__del__ at 0x7fe2d423d280>\n",
      "Traceback (most recent call last):\n",
      "  File \"/home/ubuntu/users/dky/.local/lib/python3.8/site-packages/torch/utils/data/dataloader.py\", line 1479, in __del__\n",
      "    self._shutdown_workers()\n",
      "  File \"/home/ubuntu/users/dky/.local/lib/python3.8/site-packages/torch/utils/data/dataloader.py\", line 1462, in _shutdown_workers\n",
      "    if w.is_alive():\n",
      "  File \"/home/ubuntu/users/dky/anaconda3/envs/KD/lib/python3.8/multiprocessing/process.py\", line 160, in is_alive\n",
      "    assert self._parent_pid == os.getpid(), 'can only test a child process'\n",
      "AssertionError: can only test a child process\n",
      "Exception ignored in: <function _MultiProcessingDataLoaderIter.__del__ at 0x7fe2d423d280>\n",
      "Traceback (most recent call last):\n",
      "  File \"/home/ubuntu/users/dky/.local/lib/python3.8/site-packages/torch/utils/data/dataloader.py\", line 1479, in __del__\n",
      "    self._shutdown_workers()\n",
      "  File \"/home/ubuntu/users/dky/.local/lib/python3.8/site-packages/torch/utils/data/dataloader.py\", line 1462, in _shutdown_workers\n",
      "    if w.is_alive():\n",
      "  File \"/home/ubuntu/users/dky/anaconda3/envs/KD/lib/python3.8/multiprocessing/process.py\", line 160, in is_alive\n",
      "    assert self._parent_pid == os.getpid(), 'can only test a child process'\n",
      "AssertionError: can only test a child process\n",
      "Exception ignored in: <function _MultiProcessingDataLoaderIter.__del__ at 0x7fe2d423d280>\n",
      "Traceback (most recent call last):\n",
      "  File \"/home/ubuntu/users/dky/.local/lib/python3.8/site-packages/torch/utils/data/dataloader.py\", line 1479, in __del__\n",
      "    self._shutdown_workers()\n",
      "  File \"/home/ubuntu/users/dky/.local/lib/python3.8/site-packages/torch/utils/data/dataloader.py\", line 1462, in _shutdown_workers\n",
      "    if w.is_alive():\n",
      "  File \"/home/ubuntu/users/dky/anaconda3/envs/KD/lib/python3.8/multiprocessing/process.py\", line 160, in is_alive\n",
      "    assert self._parent_pid == os.getpid(), 'can only test a child process'\n",
      "AssertionError: can only test a child process\n",
      "Exception ignored in: <function _MultiProcessingDataLoaderIter.__del__ at 0x7fe2d423d280>\n",
      "Traceback (most recent call last):\n",
      "  File \"/home/ubuntu/users/dky/.local/lib/python3.8/site-packages/torch/utils/data/dataloader.py\", line 1479, in __del__\n",
      "    self._shutdown_workers()\n",
      "  File \"/home/ubuntu/users/dky/.local/lib/python3.8/site-packages/torch/utils/data/dataloader.py\", line 1462, in _shutdown_workers\n",
      "    if w.is_alive():\n",
      "  File \"/home/ubuntu/users/dky/anaconda3/envs/KD/lib/python3.8/multiprocessing/process.py\", line 160, in is_alive\n",
      "    assert self._parent_pid == os.getpid(), 'can only test a child process'\n",
      "AssertionError: can only test a child process\n",
      "Exception ignored in: <function _MultiProcessingDataLoaderIter.__del__ at 0x7fe2d423d280>\n",
      "Traceback (most recent call last):\n",
      "  File \"/home/ubuntu/users/dky/.local/lib/python3.8/site-packages/torch/utils/data/dataloader.py\", line 1479, in __del__\n",
      "    self._shutdown_workers()\n",
      "  File \"/home/ubuntu/users/dky/.local/lib/python3.8/site-packages/torch/utils/data/dataloader.py\", line 1462, in _shutdown_workers\n",
      "    if w.is_alive():\n",
      "  File \"/home/ubuntu/users/dky/anaconda3/envs/KD/lib/python3.8/multiprocessing/process.py\", line 160, in is_alive\n",
      "    assert self._parent_pid == os.getpid(), 'can only test a child process'\n",
      "AssertionError: can only test a child process\n",
      "Exception ignored in: <function _MultiProcessingDataLoaderIter.__del__ at 0x7fe2d423d280>\n",
      "Traceback (most recent call last):\n",
      "  File \"/home/ubuntu/users/dky/.local/lib/python3.8/site-packages/torch/utils/data/dataloader.py\", line 1479, in __del__\n",
      "    self._shutdown_workers()\n",
      "  File \"/home/ubuntu/users/dky/.local/lib/python3.8/site-packages/torch/utils/data/dataloader.py\", line 1462, in _shutdown_workers\n",
      "    if w.is_alive():\n",
      "  File \"/home/ubuntu/users/dky/anaconda3/envs/KD/lib/python3.8/multiprocessing/process.py\", line 160, in is_alive\n",
      "    assert self._parent_pid == os.getpid(), 'can only test a child process'\n",
      "AssertionError: can only test a child process\n",
      "Exception ignored in: <function _MultiProcessingDataLoaderIter.__del__ at 0x7fe2d423d280>\n",
      "Traceback (most recent call last):\n",
      "  File \"/home/ubuntu/users/dky/.local/lib/python3.8/site-packages/torch/utils/data/dataloader.py\", line 1479, in __del__\n",
      "    self._shutdown_workers()\n",
      "  File \"/home/ubuntu/users/dky/.local/lib/python3.8/site-packages/torch/utils/data/dataloader.py\", line 1462, in _shutdown_workers\n",
      "    if w.is_alive():\n",
      "  File \"/home/ubuntu/users/dky/anaconda3/envs/KD/lib/python3.8/multiprocessing/process.py\", line 160, in is_alive\n",
      "    assert self._parent_pid == os.getpid(), 'can only test a child process'\n",
      "AssertionError: can only test a child process\n",
      "Exception ignored in: <function _MultiProcessingDataLoaderIter.__del__ at 0x7fe2d423d280>\n",
      "Traceback (most recent call last):\n",
      "  File \"/home/ubuntu/users/dky/.local/lib/python3.8/site-packages/torch/utils/data/dataloader.py\", line 1479, in __del__\n",
      "    self._shutdown_workers()\n",
      "  File \"/home/ubuntu/users/dky/.local/lib/python3.8/site-packages/torch/utils/data/dataloader.py\", line 1462, in _shutdown_workers\n",
      "    if w.is_alive():\n",
      "  File \"/home/ubuntu/users/dky/anaconda3/envs/KD/lib/python3.8/multiprocessing/process.py\", line 160, in is_alive\n",
      "    assert self._parent_pid == os.getpid(), 'can only test a child process'\n",
      "AssertionError: can only test a child process\n",
      "Exception ignored in: <function _MultiProcessingDataLoaderIter.__del__ at 0x7fe2d423d280>\n",
      "Traceback (most recent call last):\n",
      "  File \"/home/ubuntu/users/dky/.local/lib/python3.8/site-packages/torch/utils/data/dataloader.py\", line 1479, in __del__\n",
      "    self._shutdown_workers()\n",
      "  File \"/home/ubuntu/users/dky/.local/lib/python3.8/site-packages/torch/utils/data/dataloader.py\", line 1462, in _shutdown_workers\n",
      "    if w.is_alive():\n",
      "  File \"/home/ubuntu/users/dky/anaconda3/envs/KD/lib/python3.8/multiprocessing/process.py\", line 160, in is_alive\n",
      "    assert self._parent_pid == os.getpid(), 'can only test a child process'\n",
      "AssertionError: can only test a child process\n",
      "Exception ignored in: <function _MultiProcessingDataLoaderIter.__del__ at 0x7fe2d423d280>\n",
      "Traceback (most recent call last):\n",
      "  File \"/home/ubuntu/users/dky/.local/lib/python3.8/site-packages/torch/utils/data/dataloader.py\", line 1479, in __del__\n",
      "    self._shutdown_workers()\n",
      "  File \"/home/ubuntu/users/dky/.local/lib/python3.8/site-packages/torch/utils/data/dataloader.py\", line 1462, in _shutdown_workers\n",
      "    if w.is_alive():\n",
      "  File \"/home/ubuntu/users/dky/anaconda3/envs/KD/lib/python3.8/multiprocessing/process.py\", line 160, in is_alive\n",
      "    assert self._parent_pid == os.getpid(), 'can only test a child process'\n",
      "AssertionError: can only test a child process\n",
      "Exception ignored in: <function _MultiProcessingDataLoaderIter.__del__ at 0x7fe2d423d280>\n",
      "Traceback (most recent call last):\n",
      "  File \"/home/ubuntu/users/dky/.local/lib/python3.8/site-packages/torch/utils/data/dataloader.py\", line 1479, in __del__\n",
      "    self._shutdown_workers()\n",
      "  File \"/home/ubuntu/users/dky/.local/lib/python3.8/site-packages/torch/utils/data/dataloader.py\", line 1462, in _shutdown_workers\n",
      "    if w.is_alive():\n",
      "  File \"/home/ubuntu/users/dky/anaconda3/envs/KD/lib/python3.8/multiprocessing/process.py\", line 160, in is_alive\n",
      "    assert self._parent_pid == os.getpid(), 'can only test a child process'\n",
      "AssertionError: can only test a child process\n",
      "Exception ignored in: <function _MultiProcessingDataLoaderIter.__del__ at 0x7fe2d423d280>\n",
      "Traceback (most recent call last):\n",
      "  File \"/home/ubuntu/users/dky/.local/lib/python3.8/site-packages/torch/utils/data/dataloader.py\", line 1479, in __del__\n",
      "    self._shutdown_workers()\n",
      "  File \"/home/ubuntu/users/dky/.local/lib/python3.8/site-packages/torch/utils/data/dataloader.py\", line 1462, in _shutdown_workers\n",
      "    if w.is_alive():\n",
      "  File \"/home/ubuntu/users/dky/anaconda3/envs/KD/lib/python3.8/multiprocessing/process.py\", line 160, in is_alive\n",
      "    assert self._parent_pid == os.getpid(), 'can only test a child process'\n",
      "AssertionError: can only test a child process\n",
      "Exception ignored in: <function _MultiProcessingDataLoaderIter.__del__ at 0x7fe2d423d280>\n",
      "Traceback (most recent call last):\n",
      "  File \"/home/ubuntu/users/dky/.local/lib/python3.8/site-packages/torch/utils/data/dataloader.py\", line 1479, in __del__\n",
      "    self._shutdown_workers()\n",
      "  File \"/home/ubuntu/users/dky/.local/lib/python3.8/site-packages/torch/utils/data/dataloader.py\", line 1462, in _shutdown_workers\n",
      "    if w.is_alive():\n",
      "  File \"/home/ubuntu/users/dky/anaconda3/envs/KD/lib/python3.8/multiprocessing/process.py\", line 160, in is_alive\n",
      "    assert self._parent_pid == os.getpid(), 'can only test a child process'\n",
      "AssertionError: can only test a child process\n",
      "Exception ignored in: <function _MultiProcessingDataLoaderIter.__del__ at 0x7fe2d423d280>\n",
      "Traceback (most recent call last):\n",
      "  File \"/home/ubuntu/users/dky/.local/lib/python3.8/site-packages/torch/utils/data/dataloader.py\", line 1479, in __del__\n",
      "    self._shutdown_workers()\n",
      "  File \"/home/ubuntu/users/dky/.local/lib/python3.8/site-packages/torch/utils/data/dataloader.py\", line 1462, in _shutdown_workers\n",
      "    if w.is_alive():\n",
      "  File \"/home/ubuntu/users/dky/anaconda3/envs/KD/lib/python3.8/multiprocessing/process.py\", line 160, in is_alive\n",
      "    assert self._parent_pid == os.getpid(), 'can only test a child process'\n",
      "AssertionError: can only test a child process\n"
     ]
    },
    {
     "data": {
      "application/vnd.jupyter.widget-view+json": {
       "model_id": "8dce663da99943eeb50a7446c7d72c8a",
       "version_major": 2,
       "version_minor": 0
      },
      "text/plain": [
       "Epoch 7 Training on SNR=20:   0%|          | 0/500 [00:00<?, ?it/s]"
      ]
     },
     "metadata": {},
     "output_type": "display_data"
    },
    {
     "name": "stderr",
     "output_type": "stream",
     "text": [
      "Exception ignored in: <function _MultiProcessingDataLoaderIter.__del__ at 0x7fe2d423d280>\n",
      "Traceback (most recent call last):\n",
      "  File \"/home/ubuntu/users/dky/.local/lib/python3.8/site-packages/torch/utils/data/dataloader.py\", line 1479, in __del__\n",
      "    self._shutdown_workers()\n",
      "  File \"/home/ubuntu/users/dky/.local/lib/python3.8/site-packages/torch/utils/data/dataloader.py\", line 1462, in _shutdown_workers\n",
      "    if w.is_alive():\n",
      "  File \"/home/ubuntu/users/dky/anaconda3/envs/KD/lib/python3.8/multiprocessing/process.py\", line 160, in is_alive\n",
      "    assert self._parent_pid == os.getpid(), 'can only test a child process'\n",
      "AssertionError: can only test a child process\n",
      "Exception ignored in: <function _MultiProcessingDataLoaderIter.__del__ at 0x7fe2d423d280>\n",
      "Traceback (most recent call last):\n",
      "  File \"/home/ubuntu/users/dky/.local/lib/python3.8/site-packages/torch/utils/data/dataloader.py\", line 1479, in __del__\n",
      "Exception ignored in: <function _MultiProcessingDataLoaderIter.__del__ at 0x7fe2d423d280>    \n",
      "self._shutdown_workers()Traceback (most recent call last):\n",
      "\n",
      "  File \"/home/ubuntu/users/dky/.local/lib/python3.8/site-packages/torch/utils/data/dataloader.py\", line 1462, in _shutdown_workers\n",
      "  File \"/home/ubuntu/users/dky/.local/lib/python3.8/site-packages/torch/utils/data/dataloader.py\", line 1479, in __del__\n",
      "        Exception ignored in: if w.is_alive():\n",
      "<function _MultiProcessingDataLoaderIter.__del__ at 0x7fe2d423d280>self._shutdown_workers()  File \"/home/ubuntu/users/dky/anaconda3/envs/KD/lib/python3.8/multiprocessing/process.py\", line 160, in is_alive\n",
      "\n",
      "\n",
      "    assert self._parent_pid == os.getpid(), 'can only test a child process'\n",
      "  File \"/home/ubuntu/users/dky/.local/lib/python3.8/site-packages/torch/utils/data/dataloader.py\", line 1462, in _shutdown_workers\n",
      "AssertionErrorTraceback (most recent call last):\n",
      "    : if w.is_alive():  File \"/home/ubuntu/users/dky/.local/lib/python3.8/site-packages/torch/utils/data/dataloader.py\", line 1479, in __del__\n",
      "can only test a child process\n",
      "\n",
      "  File \"/home/ubuntu/users/dky/anaconda3/envs/KD/lib/python3.8/multiprocessing/process.py\", line 160, in is_alive\n",
      "        self._shutdown_workers()assert self._parent_pid == os.getpid(), 'can only test a child process'Exception ignored in: \n",
      "<function _MultiProcessingDataLoaderIter.__del__ at 0x7fe2d423d280>  File \"/home/ubuntu/users/dky/.local/lib/python3.8/site-packages/torch/utils/data/dataloader.py\", line 1462, in _shutdown_workers\n",
      "\n",
      "    \n",
      "Traceback (most recent call last):\n",
      "AssertionErrorif w.is_alive():: \n",
      "  File \"/home/ubuntu/users/dky/.local/lib/python3.8/site-packages/torch/utils/data/dataloader.py\", line 1479, in __del__\n",
      "      File \"/home/ubuntu/users/dky/anaconda3/envs/KD/lib/python3.8/multiprocessing/process.py\", line 160, in is_alive\n",
      "self._shutdown_workers()    \n",
      "can only test a child processassert self._parent_pid == os.getpid(), 'can only test a child process'  File \"/home/ubuntu/users/dky/.local/lib/python3.8/site-packages/torch/utils/data/dataloader.py\", line 1462, in _shutdown_workers\n",
      "\n",
      "\n",
      "    AssertionErrorif w.is_alive():\n",
      "  File \"/home/ubuntu/users/dky/anaconda3/envs/KD/lib/python3.8/multiprocessing/process.py\", line 160, in is_alive\n",
      "    : assert self._parent_pid == os.getpid(), 'can only test a child process'Exception ignored in: <function _MultiProcessingDataLoaderIter.__del__ at 0x7fe2d423d280>\n",
      "can only test a child processAssertionError\n",
      "\n",
      "Traceback (most recent call last):\n",
      ": can only test a child process  File \"/home/ubuntu/users/dky/.local/lib/python3.8/site-packages/torch/utils/data/dataloader.py\", line 1479, in __del__\n",
      "\n",
      "Exception ignored in: <function _MultiProcessingDataLoaderIter.__del__ at 0x7fe2d423d280>    \n",
      "self._shutdown_workers()Traceback (most recent call last):\n",
      "\n",
      "  File \"/home/ubuntu/users/dky/.local/lib/python3.8/site-packages/torch/utils/data/dataloader.py\", line 1462, in _shutdown_workers\n",
      "  File \"/home/ubuntu/users/dky/.local/lib/python3.8/site-packages/torch/utils/data/dataloader.py\", line 1479, in __del__\n",
      "Exception ignored in:     if w.is_alive():    <function _MultiProcessingDataLoaderIter.__del__ at 0x7fe2d423d280>self._shutdown_workers()\n",
      "\n",
      "\n",
      "Traceback (most recent call last):\n",
      "  File \"/home/ubuntu/users/dky/anaconda3/envs/KD/lib/python3.8/multiprocessing/process.py\", line 160, in is_alive\n",
      "  File \"/home/ubuntu/users/dky/.local/lib/python3.8/site-packages/torch/utils/data/dataloader.py\", line 1479, in __del__\n",
      "          File \"/home/ubuntu/users/dky/.local/lib/python3.8/site-packages/torch/utils/data/dataloader.py\", line 1462, in _shutdown_workers\n",
      "self._shutdown_workers()\n",
      "    assert self._parent_pid == os.getpid(), 'can only test a child process'  File \"/home/ubuntu/users/dky/.local/lib/python3.8/site-packages/torch/utils/data/dataloader.py\", line 1462, in _shutdown_workers\n",
      "if w.is_alive():    if w.is_alive():\n",
      "  File \"/home/ubuntu/users/dky/anaconda3/envs/KD/lib/python3.8/multiprocessing/process.py\", line 160, in is_alive\n",
      "    \n",
      "\n",
      "assert self._parent_pid == os.getpid(), 'can only test a child process'\n",
      "AssertionError  File \"/home/ubuntu/users/dky/anaconda3/envs/KD/lib/python3.8/multiprocessing/process.py\", line 160, in is_alive\n",
      "AssertionError:     assert self._parent_pid == os.getpid(), 'can only test a child process': can only test a child processcan only test a child process\n",
      "AssertionError\n",
      "\n",
      ": can only test a child process\n",
      "Exception ignored in: <function _MultiProcessingDataLoaderIter.__del__ at 0x7fe2d423d280>\n",
      "Traceback (most recent call last):\n",
      "Exception ignored in: <function _MultiProcessingDataLoaderIter.__del__ at 0x7fe2d423d280>  File \"/home/ubuntu/users/dky/.local/lib/python3.8/site-packages/torch/utils/data/dataloader.py\", line 1479, in __del__\n",
      "    \n",
      "Exception ignored in: self._shutdown_workers()Traceback (most recent call last):\n",
      "<function _MultiProcessingDataLoaderIter.__del__ at 0x7fe2d423d280>  File \"/home/ubuntu/users/dky/.local/lib/python3.8/site-packages/torch/utils/data/dataloader.py\", line 1479, in __del__\n",
      "\n",
      "\n",
      "  File \"/home/ubuntu/users/dky/.local/lib/python3.8/site-packages/torch/utils/data/dataloader.py\", line 1462, in _shutdown_workers\n",
      "    Traceback (most recent call last):\n",
      "self._shutdown_workers()      File \"/home/ubuntu/users/dky/.local/lib/python3.8/site-packages/torch/utils/data/dataloader.py\", line 1479, in __del__\n",
      "\n",
      "    if w.is_alive():  File \"/home/ubuntu/users/dky/.local/lib/python3.8/site-packages/torch/utils/data/dataloader.py\", line 1462, in _shutdown_workers\n",
      "\n",
      "  File \"/home/ubuntu/users/dky/anaconda3/envs/KD/lib/python3.8/multiprocessing/process.py\", line 160, in is_alive\n",
      "    self._shutdown_workers()    \n",
      "if w.is_alive():assert self._parent_pid == os.getpid(), 'can only test a child process'\n",
      "  File \"/home/ubuntu/users/dky/.local/lib/python3.8/site-packages/torch/utils/data/dataloader.py\", line 1462, in _shutdown_workers\n",
      "\n",
      "AssertionError    : if w.is_alive():  File \"/home/ubuntu/users/dky/anaconda3/envs/KD/lib/python3.8/multiprocessing/process.py\", line 160, in is_alive\n",
      "can only test a child process    \n",
      "\n",
      "assert self._parent_pid == os.getpid(), 'can only test a child process'  File \"/home/ubuntu/users/dky/anaconda3/envs/KD/lib/python3.8/multiprocessing/process.py\", line 160, in is_alive\n",
      "\n",
      "    Exception ignored in: <function _MultiProcessingDataLoaderIter.__del__ at 0x7fe2d423d280>AssertionErrorassert self._parent_pid == os.getpid(), 'can only test a child process': \n",
      "can only test a child process\n",
      "Traceback (most recent call last):\n",
      "AssertionError\n",
      "Exception ignored in:   File \"/home/ubuntu/users/dky/.local/lib/python3.8/site-packages/torch/utils/data/dataloader.py\", line 1479, in __del__\n",
      ": <function _MultiProcessingDataLoaderIter.__del__ at 0x7fe2d423d280>can only test a child process\n",
      "    self._shutdown_workers()Traceback (most recent call last):\n",
      "\n",
      "  File \"/home/ubuntu/users/dky/.local/lib/python3.8/site-packages/torch/utils/data/dataloader.py\", line 1479, in __del__\n",
      "    Exception ignored in: \n",
      "<function _MultiProcessingDataLoaderIter.__del__ at 0x7fe2d423d280>\n",
      "self._shutdown_workers()  File \"/home/ubuntu/users/dky/.local/lib/python3.8/site-packages/torch/utils/data/dataloader.py\", line 1462, in _shutdown_workers\n",
      "    Traceback (most recent call last):\n",
      "Exception ignored in:   File \"/home/ubuntu/users/dky/.local/lib/python3.8/site-packages/torch/utils/data/dataloader.py\", line 1479, in __del__\n",
      "\n",
      "  File \"/home/ubuntu/users/dky/.local/lib/python3.8/site-packages/torch/utils/data/dataloader.py\", line 1462, in _shutdown_workers\n",
      "<function _MultiProcessingDataLoaderIter.__del__ at 0x7fe2d423d280>    if w.is_alive():    if w.is_alive():self._shutdown_workers()\n",
      "\n",
      "\n",
      "  File \"/home/ubuntu/users/dky/anaconda3/envs/KD/lib/python3.8/multiprocessing/process.py\", line 160, in is_alive\n",
      "\n",
      "Traceback (most recent call last):\n",
      "  File \"/home/ubuntu/users/dky/anaconda3/envs/KD/lib/python3.8/multiprocessing/process.py\", line 160, in is_alive\n",
      "      File \"/home/ubuntu/users/dky/.local/lib/python3.8/site-packages/torch/utils/data/dataloader.py\", line 1479, in __del__\n",
      "      File \"/home/ubuntu/users/dky/.local/lib/python3.8/site-packages/torch/utils/data/dataloader.py\", line 1462, in _shutdown_workers\n",
      "    assert self._parent_pid == os.getpid(), 'can only test a child process'assert self._parent_pid == os.getpid(), 'can only test a child process'self._shutdown_workers()\n",
      "    \n",
      "AssertionError  File \"/home/ubuntu/users/dky/.local/lib/python3.8/site-packages/torch/utils/data/dataloader.py\", line 1462, in _shutdown_workers\n",
      "\n",
      "if w.is_alive():: AssertionError\n",
      "can only test a child process    \n",
      ":   File \"/home/ubuntu/users/dky/anaconda3/envs/KD/lib/python3.8/multiprocessing/process.py\", line 160, in is_alive\n",
      "can only test a child process    if w.is_alive():assert self._parent_pid == os.getpid(), 'can only test a child process'\n",
      "\n",
      "  File \"/home/ubuntu/users/dky/anaconda3/envs/KD/lib/python3.8/multiprocessing/process.py\", line 160, in is_alive\n",
      "\n",
      "AssertionError:     Exception ignored in: assert self._parent_pid == os.getpid(), 'can only test a child process'can only test a child process<function _MultiProcessingDataLoaderIter.__del__ at 0x7fe2d423d280>\n",
      "\n",
      "\n",
      "AssertionErrorTraceback (most recent call last):\n",
      "Exception ignored in:   File \"/home/ubuntu/users/dky/.local/lib/python3.8/site-packages/torch/utils/data/dataloader.py\", line 1479, in __del__\n",
      "<function _MultiProcessingDataLoaderIter.__del__ at 0x7fe2d423d280>    : self._shutdown_workers()Exception ignored in: \n",
      "can only test a child processTraceback (most recent call last):\n",
      "  File \"/home/ubuntu/users/dky/.local/lib/python3.8/site-packages/torch/utils/data/dataloader.py\", line 1479, in __del__\n",
      "\n",
      "    self._shutdown_workers()\n",
      "\n",
      "  File \"/home/ubuntu/users/dky/.local/lib/python3.8/site-packages/torch/utils/data/dataloader.py\", line 1462, in _shutdown_workers\n",
      "  File \"/home/ubuntu/users/dky/.local/lib/python3.8/site-packages/torch/utils/data/dataloader.py\", line 1462, in _shutdown_workers\n",
      "<function _MultiProcessingDataLoaderIter.__del__ at 0x7fe2d423d280>        if w.is_alive():if w.is_alive():\n",
      "  File \"/home/ubuntu/users/dky/anaconda3/envs/KD/lib/python3.8/multiprocessing/process.py\", line 160, in is_alive\n",
      "Exception ignored in:     \n",
      "<function _MultiProcessingDataLoaderIter.__del__ at 0x7fe2d423d280>\n",
      "\n",
      "assert self._parent_pid == os.getpid(), 'can only test a child process'Traceback (most recent call last):\n",
      "  File \"/home/ubuntu/users/dky/anaconda3/envs/KD/lib/python3.8/multiprocessing/process.py\", line 160, in is_alive\n",
      "Traceback (most recent call last):\n",
      "\n",
      "  File \"/home/ubuntu/users/dky/.local/lib/python3.8/site-packages/torch/utils/data/dataloader.py\", line 1479, in __del__\n",
      "  File \"/home/ubuntu/users/dky/.local/lib/python3.8/site-packages/torch/utils/data/dataloader.py\", line 1479, in __del__\n",
      "        assert self._parent_pid == os.getpid(), 'can only test a child process'    self._shutdown_workers()self._shutdown_workers()AssertionError\n",
      "\n",
      ": AssertionError  File \"/home/ubuntu/users/dky/.local/lib/python3.8/site-packages/torch/utils/data/dataloader.py\", line 1462, in _shutdown_workers\n",
      "\n",
      "can only test a child process    :   File \"/home/ubuntu/users/dky/.local/lib/python3.8/site-packages/torch/utils/data/dataloader.py\", line 1462, in _shutdown_workers\n",
      "if w.is_alive():\n",
      "\n",
      "  File \"/home/ubuntu/users/dky/anaconda3/envs/KD/lib/python3.8/multiprocessing/process.py\", line 160, in is_alive\n",
      "    assert self._parent_pid == os.getpid(), 'can only test a child process'\n",
      "    can only test a child process\n",
      "AssertionErrorException ignored in: if w.is_alive():<function _MultiProcessingDataLoaderIter.__del__ at 0x7fe2d423d280>assert self._parent_pid == os.getpid(), 'can only test a child process'\n",
      ": \n",
      "  File \"/home/ubuntu/users/dky/anaconda3/envs/KD/lib/python3.8/multiprocessing/process.py\", line 160, in is_alive\n",
      "Traceback (most recent call last):\n",
      "    \n",
      "can only test a child process  File \"/home/ubuntu/users/dky/.local/lib/python3.8/site-packages/torch/utils/data/dataloader.py\", line 1479, in __del__\n",
      "AssertionError: \n",
      "can only test a child process\n",
      "    self._shutdown_workers()Exception ignored in: <function _MultiProcessingDataLoaderIter.__del__ at 0x7fe2d423d280>\n",
      "  File \"/home/ubuntu/users/dky/.local/lib/python3.8/site-packages/torch/utils/data/dataloader.py\", line 1462, in _shutdown_workers\n",
      "\n",
      "Traceback (most recent call last):\n",
      "  File \"/home/ubuntu/users/dky/.local/lib/python3.8/site-packages/torch/utils/data/dataloader.py\", line 1479, in __del__\n",
      "        if w.is_alive():\n",
      "self._shutdown_workers()\n",
      "  File \"/home/ubuntu/users/dky/anaconda3/envs/KD/lib/python3.8/multiprocessing/process.py\", line 160, in is_alive\n",
      "      File \"/home/ubuntu/users/dky/.local/lib/python3.8/site-packages/torch/utils/data/dataloader.py\", line 1462, in _shutdown_workers\n",
      "    assert self._parent_pid == os.getpid(), 'can only test a child process'if w.is_alive():\n",
      "\n",
      "AssertionError:   File \"/home/ubuntu/users/dky/anaconda3/envs/KD/lib/python3.8/multiprocessing/process.py\", line 160, in is_alive\n",
      "can only test a child process    \n",
      "assert self._parent_pid == os.getpid(), 'can only test a child process'\n",
      "AssertionError: can only test a child processException ignored in: \n",
      "<function _MultiProcessingDataLoaderIter.__del__ at 0x7fe2d423d280>\n",
      "Traceback (most recent call last):\n",
      "  File \"/home/ubuntu/users/dky/.local/lib/python3.8/site-packages/torch/utils/data/dataloader.py\", line 1479, in __del__\n",
      "    self._shutdown_workers()\n",
      "  File \"/home/ubuntu/users/dky/.local/lib/python3.8/site-packages/torch/utils/data/dataloader.py\", line 1462, in _shutdown_workers\n",
      "    if w.is_alive():\n",
      "  File \"/home/ubuntu/users/dky/anaconda3/envs/KD/lib/python3.8/multiprocessing/process.py\", line 160, in is_alive\n",
      "    assert self._parent_pid == os.getpid(), 'can only test a child process'\n",
      "AssertionError: can only test a child process\n",
      "Exception ignored in: <function _MultiProcessingDataLoaderIter.__del__ at 0x7fe2d423d280>\n",
      "Traceback (most recent call last):\n",
      "  File \"/home/ubuntu/users/dky/.local/lib/python3.8/site-packages/torch/utils/data/dataloader.py\", line 1479, in __del__\n",
      "    self._shutdown_workers()\n",
      "  File \"/home/ubuntu/users/dky/.local/lib/python3.8/site-packages/torch/utils/data/dataloader.py\", line 1462, in _shutdown_workers\n",
      "    if w.is_alive():\n",
      "  File \"/home/ubuntu/users/dky/anaconda3/envs/KD/lib/python3.8/multiprocessing/process.py\", line 160, in is_alive\n",
      "    assert self._parent_pid == os.getpid(), 'can only test a child process'\n",
      "AssertionError: can only test a child process\n",
      "Exception ignored in: <function _MultiProcessingDataLoaderIter.__del__ at 0x7fe2d423d280>\n",
      "Traceback (most recent call last):\n",
      "  File \"/home/ubuntu/users/dky/.local/lib/python3.8/site-packages/torch/utils/data/dataloader.py\", line 1479, in __del__\n",
      "    self._shutdown_workers()\n",
      "  File \"/home/ubuntu/users/dky/.local/lib/python3.8/site-packages/torch/utils/data/dataloader.py\", line 1462, in _shutdown_workers\n",
      "    if w.is_alive():\n",
      "  File \"/home/ubuntu/users/dky/anaconda3/envs/KD/lib/python3.8/multiprocessing/process.py\", line 160, in is_alive\n",
      "    assert self._parent_pid == os.getpid(), 'can only test a child process'\n",
      "AssertionError: can only test a child process\n"
     ]
    }
   ],
   "source": [
    "atten_ae = AttentionAutoEncoder(512, 2).to(device)\n",
    "channel = Channels(device)\n",
    "optimizer_cla = torch.optim.Adam(classifier.parameters(), lr=1e-4)\n",
    "optimizer_ae = torch.optim.Adam(atten_ae.parameters(), lr=1e-4)\n",
    "optimizer_stu = torch.optim.Adam(student.parameters(), lr=1e-4)\n",
    "\n",
    "criterion_AE = torch.nn.MSELoss()\n",
    "criterion_CE = torch.nn.CrossEntropyLoss()\n",
    "\n",
    "student.train()\n",
    "classifier.train()\n",
    "atten_ae.train()\n",
    "\n",
    "TRAIN_SNR_LIST = [-5, -2, 0, 5, 10, 15, 20]\n",
    "\n",
    "for epoch, snr in enumerate(tqdm(TRAIN_SNR_LIST, desc=\"Epoch\")):\n",
    "    batch_bar = tqdm(train_loader,\n",
    "                     leave=False,\n",
    "                     desc=f\"Epoch {epoch+1} Training on SNR={snr}\")\n",
    "    \n",
    "    for i, (images, labels) in enumerate(batch_bar):\n",
    "        images, labels = images.to(device), labels.to(device)\n",
    "\n",
    "        optimizer_cla.zero_grad()\n",
    "        optimizer_ae.zero_grad()\n",
    "        optimizer_stu.zero_grad()\n",
    "\n",
    "        features_stu = student(images)\n",
    "        features_tea = teacher(images)\n",
    "\n",
    "        latten_ae = atten_ae.encoder(features_stu)\n",
    "        latten_ae = channel.AWGN(latten_ae, snr)\n",
    "        features_hat = atten_ae.decoder(latten_ae)\n",
    "\n",
    "        pre = classifier(features_hat)\n",
    "\n",
    "        loss_AE = criterion_AE(features_hat, features_tea)\n",
    "        loss_CE = criterion_CE(pre, labels)\n",
    "        loss = loss_AE + loss_CE\n",
    "        \n",
    "        acc = (pre.argmax(dim=1) == labels).float().mean()\n",
    "\n",
    "        loss.backward()\n",
    "\n",
    "        optimizer_cla.step()\n",
    "        optimizer_ae.step()\n",
    "        optimizer_stu.step()\n",
    "\n",
    "        batch_bar.set_postfix(loss=loss_AE.item(), acc=acc.item())"
   ]
  },
  {
   "cell_type": "code",
   "execution_count": 5,
   "metadata": {},
   "outputs": [
    {
     "data": {
      "application/vnd.jupyter.widget-view+json": {
       "model_id": "939d1d18e1414c50baa72e54cf4d4363",
       "version_major": 2,
       "version_minor": 0
      },
      "text/plain": [
       "Testing over SNR:   0%|          | 0/18 [00:00<?, ?it/s]"
      ]
     },
     "metadata": {},
     "output_type": "display_data"
    },
    {
     "data": {
      "application/vnd.jupyter.widget-view+json": {
       "model_id": "a7de7bc152ed45c1b6756c647cf9c838",
       "version_major": 2,
       "version_minor": 0
      },
      "text/plain": [
       "Testing on SNR: -10:   0%|          | 0/100 [00:00<?, ?it/s]"
      ]
     },
     "metadata": {},
     "output_type": "display_data"
    },
    {
     "data": {
      "application/vnd.jupyter.widget-view+json": {
       "model_id": "284850cc3601459184193ab67cf4c242",
       "version_major": 2,
       "version_minor": 0
      },
      "text/plain": [
       "Testing on SNR: -8:   0%|          | 0/100 [00:00<?, ?it/s]"
      ]
     },
     "metadata": {},
     "output_type": "display_data"
    },
    {
     "data": {
      "application/vnd.jupyter.widget-view+json": {
       "model_id": "d161328524bf4802910249185f74ae4f",
       "version_major": 2,
       "version_minor": 0
      },
      "text/plain": [
       "Testing on SNR: -6:   0%|          | 0/100 [00:00<?, ?it/s]"
      ]
     },
     "metadata": {},
     "output_type": "display_data"
    },
    {
     "data": {
      "application/vnd.jupyter.widget-view+json": {
       "model_id": "a463540af0454d92989baa1feaeb0896",
       "version_major": 2,
       "version_minor": 0
      },
      "text/plain": [
       "Testing on SNR: -4:   0%|          | 0/100 [00:00<?, ?it/s]"
      ]
     },
     "metadata": {},
     "output_type": "display_data"
    },
    {
     "data": {
      "application/vnd.jupyter.widget-view+json": {
       "model_id": "c4a28c0d1a8f4b6ea83e9e662d11237d",
       "version_major": 2,
       "version_minor": 0
      },
      "text/plain": [
       "Testing on SNR: -2:   0%|          | 0/100 [00:00<?, ?it/s]"
      ]
     },
     "metadata": {},
     "output_type": "display_data"
    },
    {
     "data": {
      "application/vnd.jupyter.widget-view+json": {
       "model_id": "bc5ba92a35b94e99bc148fdc6bde45d5",
       "version_major": 2,
       "version_minor": 0
      },
      "text/plain": [
       "Testing on SNR: 0:   0%|          | 0/100 [00:00<?, ?it/s]"
      ]
     },
     "metadata": {},
     "output_type": "display_data"
    },
    {
     "data": {
      "application/vnd.jupyter.widget-view+json": {
       "model_id": "6d4f47b1617b426786cef38c18543cc3",
       "version_major": 2,
       "version_minor": 0
      },
      "text/plain": [
       "Testing on SNR: 2:   0%|          | 0/100 [00:00<?, ?it/s]"
      ]
     },
     "metadata": {},
     "output_type": "display_data"
    },
    {
     "data": {
      "application/vnd.jupyter.widget-view+json": {
       "model_id": "2acc3d25c3d4403e8a7ca3aef9fafe63",
       "version_major": 2,
       "version_minor": 0
      },
      "text/plain": [
       "Testing on SNR: 4:   0%|          | 0/100 [00:00<?, ?it/s]"
      ]
     },
     "metadata": {},
     "output_type": "display_data"
    },
    {
     "data": {
      "application/vnd.jupyter.widget-view+json": {
       "model_id": "adbadd77102e44ffaae6b3cbf93ce79f",
       "version_major": 2,
       "version_minor": 0
      },
      "text/plain": [
       "Testing on SNR: 6:   0%|          | 0/100 [00:00<?, ?it/s]"
      ]
     },
     "metadata": {},
     "output_type": "display_data"
    },
    {
     "data": {
      "application/vnd.jupyter.widget-view+json": {
       "model_id": "729f211429d14f7ca7f3390c8ed9a47c",
       "version_major": 2,
       "version_minor": 0
      },
      "text/plain": [
       "Testing on SNR: 8:   0%|          | 0/100 [00:00<?, ?it/s]"
      ]
     },
     "metadata": {},
     "output_type": "display_data"
    },
    {
     "data": {
      "application/vnd.jupyter.widget-view+json": {
       "model_id": "faa49b6b352245eab076c2545ea17641",
       "version_major": 2,
       "version_minor": 0
      },
      "text/plain": [
       "Testing on SNR: 10:   0%|          | 0/100 [00:00<?, ?it/s]"
      ]
     },
     "metadata": {},
     "output_type": "display_data"
    },
    {
     "name": "stderr",
     "output_type": "stream",
     "text": [
      "Exception ignored in: <function _MultiProcessingDataLoaderIter.__del__ at 0x7fe2d423d280>\n",
      "Traceback (most recent call last):\n",
      "  File \"/home/ubuntu/users/dky/.local/lib/python3.8/site-packages/torch/utils/data/dataloader.py\", line 1479, in __del__\n",
      "    self._shutdown_workers()\n",
      "  File \"/home/ubuntu/users/dky/.local/lib/python3.8/site-packages/torch/utils/data/dataloader.py\", line 1462, in _shutdown_workers\n",
      "    if w.is_alive():\n",
      "  File \"/home/ubuntu/users/dky/anaconda3/envs/KD/lib/python3.8/multiprocessing/process.py\", line 160, in is_alive\n",
      "    assert self._parent_pid == os.getpid(), 'can only test a child process'\n",
      "AssertionError: can only test a child process\n",
      "Exception ignored in: Exception ignored in: <function _MultiProcessingDataLoaderIter.__del__ at 0x7fe2d423d280><function _MultiProcessingDataLoaderIter.__del__ at 0x7fe2d423d280>\n",
      "\n",
      "Traceback (most recent call last):\n",
      "Traceback (most recent call last):\n",
      "  File \"/home/ubuntu/users/dky/.local/lib/python3.8/site-packages/torch/utils/data/dataloader.py\", line 1479, in __del__\n",
      "  File \"/home/ubuntu/users/dky/.local/lib/python3.8/site-packages/torch/utils/data/dataloader.py\", line 1479, in __del__\n",
      "    self._shutdown_workers()\n",
      "      File \"/home/ubuntu/users/dky/.local/lib/python3.8/site-packages/torch/utils/data/dataloader.py\", line 1462, in _shutdown_workers\n",
      "    self._shutdown_workers()if w.is_alive():\n",
      "\n",
      "  File \"/home/ubuntu/users/dky/anaconda3/envs/KD/lib/python3.8/multiprocessing/process.py\", line 160, in is_alive\n",
      "  File \"/home/ubuntu/users/dky/.local/lib/python3.8/site-packages/torch/utils/data/dataloader.py\", line 1462, in _shutdown_workers\n",
      "    assert self._parent_pid == os.getpid(), 'can only test a child process'\n",
      "    if w.is_alive():AssertionError\n",
      ":   File \"/home/ubuntu/users/dky/anaconda3/envs/KD/lib/python3.8/multiprocessing/process.py\", line 160, in is_alive\n",
      "can only test a child process    \n",
      "Exception ignored in: assert self._parent_pid == os.getpid(), 'can only test a child process'<function _MultiProcessingDataLoaderIter.__del__ at 0x7fe2d423d280>\n",
      "\n",
      "AssertionErrorTraceback (most recent call last):\n",
      ":   File \"/home/ubuntu/users/dky/.local/lib/python3.8/site-packages/torch/utils/data/dataloader.py\", line 1479, in __del__\n",
      "    Exception ignored in: <function _MultiProcessingDataLoaderIter.__del__ at 0x7fe2d423d280>\n",
      "self._shutdown_workers()can only test a child process\n",
      "\n",
      "Traceback (most recent call last):\n",
      "  File \"/home/ubuntu/users/dky/.local/lib/python3.8/site-packages/torch/utils/data/dataloader.py\", line 1479, in __del__\n",
      "  File \"/home/ubuntu/users/dky/.local/lib/python3.8/site-packages/torch/utils/data/dataloader.py\", line 1462, in _shutdown_workers\n",
      "        if w.is_alive():\n",
      "  File \"/home/ubuntu/users/dky/anaconda3/envs/KD/lib/python3.8/multiprocessing/process.py\", line 160, in is_alive\n",
      "Exception ignored in:     self._shutdown_workers()<function _MultiProcessingDataLoaderIter.__del__ at 0x7fe2d423d280>\n",
      "assert self._parent_pid == os.getpid(), 'can only test a child process'\n",
      "  File \"/home/ubuntu/users/dky/.local/lib/python3.8/site-packages/torch/utils/data/dataloader.py\", line 1462, in _shutdown_workers\n",
      "\n",
      "Traceback (most recent call last):\n",
      "    if w.is_alive():  File \"/home/ubuntu/users/dky/.local/lib/python3.8/site-packages/torch/utils/data/dataloader.py\", line 1479, in __del__\n",
      "\n",
      "AssertionError    self._shutdown_workers()  File \"/home/ubuntu/users/dky/anaconda3/envs/KD/lib/python3.8/multiprocessing/process.py\", line 160, in is_alive\n",
      "\n",
      "    :   File \"/home/ubuntu/users/dky/.local/lib/python3.8/site-packages/torch/utils/data/dataloader.py\", line 1462, in _shutdown_workers\n",
      "assert self._parent_pid == os.getpid(), 'can only test a child process'can only test a child process\n",
      "AssertionError    : \n",
      "can only test a child processif w.is_alive():\n",
      "\n",
      "Exception ignored in: <function _MultiProcessingDataLoaderIter.__del__ at 0x7fe2d423d280>  File \"/home/ubuntu/users/dky/anaconda3/envs/KD/lib/python3.8/multiprocessing/process.py\", line 160, in is_alive\n",
      "    Exception ignored in: assert self._parent_pid == os.getpid(), 'can only test a child process'<function _MultiProcessingDataLoaderIter.__del__ at 0x7fe2d423d280>\n",
      "\n",
      "\n",
      "Traceback (most recent call last):\n",
      "Traceback (most recent call last):\n",
      "AssertionError  File \"/home/ubuntu/users/dky/.local/lib/python3.8/site-packages/torch/utils/data/dataloader.py\", line 1479, in __del__\n",
      "  File \"/home/ubuntu/users/dky/.local/lib/python3.8/site-packages/torch/utils/data/dataloader.py\", line 1479, in __del__\n",
      "        self._shutdown_workers()\n",
      ":   File \"/home/ubuntu/users/dky/.local/lib/python3.8/site-packages/torch/utils/data/dataloader.py\", line 1462, in _shutdown_workers\n",
      "can only test a child processself._shutdown_workers()    \n",
      "\n",
      "Exception ignored in: if w.is_alive():  File \"/home/ubuntu/users/dky/.local/lib/python3.8/site-packages/torch/utils/data/dataloader.py\", line 1462, in _shutdown_workers\n",
      "<function _MultiProcessingDataLoaderIter.__del__ at 0x7fe2d423d280>\n",
      "\n",
      "    Traceback (most recent call last):\n",
      "if w.is_alive():  File \"/home/ubuntu/users/dky/anaconda3/envs/KD/lib/python3.8/multiprocessing/process.py\", line 160, in is_alive\n",
      "  File \"/home/ubuntu/users/dky/.local/lib/python3.8/site-packages/torch/utils/data/dataloader.py\", line 1479, in __del__\n",
      "    \n",
      "      File \"/home/ubuntu/users/dky/anaconda3/envs/KD/lib/python3.8/multiprocessing/process.py\", line 160, in is_alive\n",
      "assert self._parent_pid == os.getpid(), 'can only test a child process'    self._shutdown_workers()\n",
      "assert self._parent_pid == os.getpid(), 'can only test a child process'\n",
      "AssertionError  File \"/home/ubuntu/users/dky/.local/lib/python3.8/site-packages/torch/utils/data/dataloader.py\", line 1462, in _shutdown_workers\n",
      "\n",
      "    if w.is_alive():AssertionError\n",
      ": :   File \"/home/ubuntu/users/dky/anaconda3/envs/KD/lib/python3.8/multiprocessing/process.py\", line 160, in is_alive\n",
      "can only test a child processcan only test a child process    \n",
      "assert self._parent_pid == os.getpid(), 'can only test a child process'\n",
      "\n",
      "AssertionError: Exception ignored in: Exception ignored in: <function _MultiProcessingDataLoaderIter.__del__ at 0x7fe2d423d280>can only test a child process<function _MultiProcessingDataLoaderIter.__del__ at 0x7fe2d423d280>\n",
      "Traceback (most recent call last):\n",
      "  File \"/home/ubuntu/users/dky/.local/lib/python3.8/site-packages/torch/utils/data/dataloader.py\", line 1479, in __del__\n",
      "    self._shutdown_workers()\n",
      "  File \"/home/ubuntu/users/dky/.local/lib/python3.8/site-packages/torch/utils/data/dataloader.py\", line 1462, in _shutdown_workers\n",
      "    \n",
      "if w.is_alive():Traceback (most recent call last):\n",
      "\n",
      "  File \"/home/ubuntu/users/dky/.local/lib/python3.8/site-packages/torch/utils/data/dataloader.py\", line 1479, in __del__\n",
      "    self._shutdown_workers()\n",
      "\n",
      "  File \"/home/ubuntu/users/dky/.local/lib/python3.8/site-packages/torch/utils/data/dataloader.py\", line 1462, in _shutdown_workers\n",
      "  File \"/home/ubuntu/users/dky/anaconda3/envs/KD/lib/python3.8/multiprocessing/process.py\", line 160, in is_alive\n",
      "Exception ignored in:     <function _MultiProcessingDataLoaderIter.__del__ at 0x7fe2d423d280>    assert self._parent_pid == os.getpid(), 'can only test a child process'if w.is_alive():\n",
      "\n",
      "Traceback (most recent call last):\n",
      "AssertionError: can only test a child process\n",
      "Exception ignored in:   File \"/home/ubuntu/users/dky/.local/lib/python3.8/site-packages/torch/utils/data/dataloader.py\", line 1479, in __del__\n",
      "    \n",
      "self._shutdown_workers()\n",
      "  File \"/home/ubuntu/users/dky/anaconda3/envs/KD/lib/python3.8/multiprocessing/process.py\", line 160, in is_alive\n",
      "    assert self._parent_pid == os.getpid(), 'can only test a child process'<function _MultiProcessingDataLoaderIter.__del__ at 0x7fe2d423d280>\n",
      "\n",
      "AssertionError  File \"/home/ubuntu/users/dky/.local/lib/python3.8/site-packages/torch/utils/data/dataloader.py\", line 1462, in _shutdown_workers\n",
      "Traceback (most recent call last):\n",
      ":     can only test a child processif w.is_alive():  File \"/home/ubuntu/users/dky/.local/lib/python3.8/site-packages/torch/utils/data/dataloader.py\", line 1479, in __del__\n",
      "\n",
      "\n",
      "    self._shutdown_workers()  File \"/home/ubuntu/users/dky/anaconda3/envs/KD/lib/python3.8/multiprocessing/process.py\", line 160, in is_alive\n",
      "Exception ignored in: \n",
      "    <function _MultiProcessingDataLoaderIter.__del__ at 0x7fe2d423d280>\n",
      "  File \"/home/ubuntu/users/dky/.local/lib/python3.8/site-packages/torch/utils/data/dataloader.py\", line 1462, in _shutdown_workers\n",
      "    Traceback (most recent call last):\n",
      "assert self._parent_pid == os.getpid(), 'can only test a child process'if w.is_alive():\n",
      "  File \"/home/ubuntu/users/dky/.local/lib/python3.8/site-packages/torch/utils/data/dataloader.py\", line 1479, in __del__\n",
      "\n",
      "AssertionError    self._shutdown_workers()  File \"/home/ubuntu/users/dky/anaconda3/envs/KD/lib/python3.8/multiprocessing/process.py\", line 160, in is_alive\n",
      ": \n",
      "can only test a child process  File \"/home/ubuntu/users/dky/.local/lib/python3.8/site-packages/torch/utils/data/dataloader.py\", line 1462, in _shutdown_workers\n",
      "\n",
      "    Exception ignored in:     assert self._parent_pid == os.getpid(), 'can only test a child process'if w.is_alive():\n",
      "<function _MultiProcessingDataLoaderIter.__del__ at 0x7fe2d423d280>\n",
      "\n",
      "AssertionErrorTraceback (most recent call last):\n",
      ":   File \"/home/ubuntu/users/dky/.local/lib/python3.8/site-packages/torch/utils/data/dataloader.py\", line 1479, in __del__\n",
      "can only test a child process  File \"/home/ubuntu/users/dky/anaconda3/envs/KD/lib/python3.8/multiprocessing/process.py\", line 160, in is_alive\n",
      "    \n",
      "    self._shutdown_workers()Exception ignored in: \n",
      "assert self._parent_pid == os.getpid(), 'can only test a child process'<function _MultiProcessingDataLoaderIter.__del__ at 0x7fe2d423d280>  File \"/home/ubuntu/users/dky/.local/lib/python3.8/site-packages/torch/utils/data/dataloader.py\", line 1462, in _shutdown_workers\n",
      "\n",
      "AssertionError    \n",
      "if w.is_alive():Traceback (most recent call last):\n",
      "\n",
      ":   File \"/home/ubuntu/users/dky/.local/lib/python3.8/site-packages/torch/utils/data/dataloader.py\", line 1479, in __del__\n",
      "  File \"/home/ubuntu/users/dky/anaconda3/envs/KD/lib/python3.8/multiprocessing/process.py\", line 160, in is_alive\n",
      "can only test a child process    \n",
      "    self._shutdown_workers()\n",
      "assert self._parent_pid == os.getpid(), 'can only test a child process'  File \"/home/ubuntu/users/dky/.local/lib/python3.8/site-packages/torch/utils/data/dataloader.py\", line 1462, in _shutdown_workers\n",
      "    if w.is_alive():\n",
      "AssertionErrorException ignored in: \n",
      "  File \"/home/ubuntu/users/dky/anaconda3/envs/KD/lib/python3.8/multiprocessing/process.py\", line 160, in is_alive\n",
      "    <function _MultiProcessingDataLoaderIter.__del__ at 0x7fe2d423d280>assert self._parent_pid == os.getpid(), 'can only test a child process': \n",
      "can only test a child processAssertionError\n",
      "\n",
      ": Traceback (most recent call last):\n",
      "can only test a child process\n",
      "  File \"/home/ubuntu/users/dky/.local/lib/python3.8/site-packages/torch/utils/data/dataloader.py\", line 1479, in __del__\n",
      "Exception ignored in: <function _MultiProcessingDataLoaderIter.__del__ at 0x7fe2d423d280>    self._shutdown_workers()\n",
      "\n",
      "Exception ignored in: Traceback (most recent call last):\n",
      "  File \"/home/ubuntu/users/dky/.local/lib/python3.8/site-packages/torch/utils/data/dataloader.py\", line 1462, in _shutdown_workers\n",
      "  File \"/home/ubuntu/users/dky/.local/lib/python3.8/site-packages/torch/utils/data/dataloader.py\", line 1479, in __del__\n",
      "<function _MultiProcessingDataLoaderIter.__del__ at 0x7fe2d423d280>    \n",
      "    assert self._parent_pid == os.getpid(), 'can only test a child process'if w.is_alive():if w.is_alive():self._shutdown_workers()\n",
      "\n",
      "Traceback (most recent call last):\n",
      "  File \"/home/ubuntu/users/dky/anaconda3/envs/KD/lib/python3.8/multiprocessing/process.py\", line 160, in is_alive\n",
      "      File \"/home/ubuntu/users/dky/.local/lib/python3.8/site-packages/torch/utils/data/dataloader.py\", line 1462, in _shutdown_workers\n",
      "    \n",
      "  File \"/home/ubuntu/users/dky/anaconda3/envs/KD/lib/python3.8/multiprocessing/process.py\", line 160, in is_alive\n",
      "  File \"/home/ubuntu/users/dky/.local/lib/python3.8/site-packages/torch/utils/data/dataloader.py\", line 1479, in __del__\n",
      "\n",
      "        assert self._parent_pid == os.getpid(), 'can only test a child process'AssertionErrorself._shutdown_workers()\n",
      ": \n",
      "AssertionError: can only test a child process  File \"/home/ubuntu/users/dky/.local/lib/python3.8/site-packages/torch/utils/data/dataloader.py\", line 1462, in _shutdown_workers\n",
      "can only test a child process    if w.is_alive():\n",
      "\n",
      "\n",
      "  File \"/home/ubuntu/users/dky/anaconda3/envs/KD/lib/python3.8/multiprocessing/process.py\", line 160, in is_alive\n",
      "    Exception ignored in: <function _MultiProcessingDataLoaderIter.__del__ at 0x7fe2d423d280>Exception ignored in: \n",
      "<function _MultiProcessingDataLoaderIter.__del__ at 0x7fe2d423d280>assert self._parent_pid == os.getpid(), 'can only test a child process'Traceback (most recent call last):\n",
      "  File \"/home/ubuntu/users/dky/.local/lib/python3.8/site-packages/torch/utils/data/dataloader.py\", line 1479, in __del__\n",
      "\n",
      "\n",
      "AssertionErrorTraceback (most recent call last):\n",
      "      File \"/home/ubuntu/users/dky/.local/lib/python3.8/site-packages/torch/utils/data/dataloader.py\", line 1479, in __del__\n",
      ": self._shutdown_workers()    \n",
      "self._shutdown_workers()  File \"/home/ubuntu/users/dky/.local/lib/python3.8/site-packages/torch/utils/data/dataloader.py\", line 1462, in _shutdown_workers\n",
      "\n",
      "  File \"/home/ubuntu/users/dky/.local/lib/python3.8/site-packages/torch/utils/data/dataloader.py\", line 1462, in _shutdown_workers\n",
      "        if w.is_alive():\n",
      "can only test a child process\n",
      "if w.is_alive():  File \"/home/ubuntu/users/dky/anaconda3/envs/KD/lib/python3.8/multiprocessing/process.py\", line 160, in is_alive\n",
      "\n",
      "    Exception ignored in: assert self._parent_pid == os.getpid(), 'can only test a child process'  File \"/home/ubuntu/users/dky/anaconda3/envs/KD/lib/python3.8/multiprocessing/process.py\", line 160, in is_alive\n",
      "<function _MultiProcessingDataLoaderIter.__del__ at 0x7fe2d423d280>    \n",
      "\n",
      "assert self._parent_pid == os.getpid(), 'can only test a child process'AssertionErrorTraceback (most recent call last):\n",
      "\n",
      ":   File \"/home/ubuntu/users/dky/.local/lib/python3.8/site-packages/torch/utils/data/dataloader.py\", line 1479, in __del__\n",
      "can only test a child processAssertionError    : self._shutdown_workers()\n",
      "can only test a child process\n",
      "Exception ignored in: \n",
      "Exception ignored in:   File \"/home/ubuntu/users/dky/.local/lib/python3.8/site-packages/torch/utils/data/dataloader.py\", line 1462, in _shutdown_workers\n",
      "<function _MultiProcessingDataLoaderIter.__del__ at 0x7fe2d423d280><function _MultiProcessingDataLoaderIter.__del__ at 0x7fe2d423d280>\n",
      "\n",
      "Traceback (most recent call last):\n",
      "Traceback (most recent call last):\n",
      "  File \"/home/ubuntu/users/dky/.local/lib/python3.8/site-packages/torch/utils/data/dataloader.py\", line 1479, in __del__\n",
      "  File \"/home/ubuntu/users/dky/.local/lib/python3.8/site-packages/torch/utils/data/dataloader.py\", line 1479, in __del__\n",
      "    if w.is_alive():        \n",
      "self._shutdown_workers()  File \"/home/ubuntu/users/dky/anaconda3/envs/KD/lib/python3.8/multiprocessing/process.py\", line 160, in is_alive\n",
      "self._shutdown_workers()\n",
      "\n",
      "  File \"/home/ubuntu/users/dky/.local/lib/python3.8/site-packages/torch/utils/data/dataloader.py\", line 1462, in _shutdown_workers\n",
      "  File \"/home/ubuntu/users/dky/.local/lib/python3.8/site-packages/torch/utils/data/dataloader.py\", line 1462, in _shutdown_workers\n",
      "            if w.is_alive():if w.is_alive():assert self._parent_pid == os.getpid(), 'can only test a child process'\n",
      "\n",
      "\n",
      "  File \"/home/ubuntu/users/dky/anaconda3/envs/KD/lib/python3.8/multiprocessing/process.py\", line 160, in is_alive\n",
      "AssertionError  File \"/home/ubuntu/users/dky/anaconda3/envs/KD/lib/python3.8/multiprocessing/process.py\", line 160, in is_alive\n",
      "    :     can only test a child processassert self._parent_pid == os.getpid(), 'can only test a child process'\n",
      "\n",
      "assert self._parent_pid == os.getpid(), 'can only test a child process'AssertionError\n",
      ": Exception ignored in: AssertionErrorcan only test a child process<function _MultiProcessingDataLoaderIter.__del__ at 0x7fe2d423d280>: can only test a child process\n",
      "\n",
      "\n",
      "Traceback (most recent call last):\n",
      "Exception ignored in: Exception ignored in: <function _MultiProcessingDataLoaderIter.__del__ at 0x7fe2d423d280>  File \"/home/ubuntu/users/dky/.local/lib/python3.8/site-packages/torch/utils/data/dataloader.py\", line 1479, in __del__\n",
      "\n",
      "    <function _MultiProcessingDataLoaderIter.__del__ at 0x7fe2d423d280>self._shutdown_workers()Traceback (most recent call last):\n",
      "\n",
      "\n",
      "Traceback (most recent call last):\n",
      "  File \"/home/ubuntu/users/dky/.local/lib/python3.8/site-packages/torch/utils/data/dataloader.py\", line 1479, in __del__\n",
      "  File \"/home/ubuntu/users/dky/.local/lib/python3.8/site-packages/torch/utils/data/dataloader.py\", line 1479, in __del__\n",
      "    self._shutdown_workers()    \n",
      "  File \"/home/ubuntu/users/dky/.local/lib/python3.8/site-packages/torch/utils/data/dataloader.py\", line 1462, in _shutdown_workers\n",
      "self._shutdown_workers()  File \"/home/ubuntu/users/dky/.local/lib/python3.8/site-packages/torch/utils/data/dataloader.py\", line 1462, in _shutdown_workers\n",
      "\n",
      "          File \"/home/ubuntu/users/dky/.local/lib/python3.8/site-packages/torch/utils/data/dataloader.py\", line 1462, in _shutdown_workers\n",
      "if w.is_alive():    \n",
      "if w.is_alive():  File \"/home/ubuntu/users/dky/anaconda3/envs/KD/lib/python3.8/multiprocessing/process.py\", line 160, in is_alive\n",
      "\n",
      "      File \"/home/ubuntu/users/dky/anaconda3/envs/KD/lib/python3.8/multiprocessing/process.py\", line 160, in is_alive\n",
      "    assert self._parent_pid == os.getpid(), 'can only test a child process'assert self._parent_pid == os.getpid(), 'can only test a child process'\n",
      "if w.is_alive():\n",
      "AssertionError\n",
      "AssertionError: can only test a child process\n",
      ": can only test a child process\n",
      "  File \"/home/ubuntu/users/dky/anaconda3/envs/KD/lib/python3.8/multiprocessing/process.py\", line 160, in is_alive\n",
      "Exception ignored in: <function _MultiProcessingDataLoaderIter.__del__ at 0x7fe2d423d280>    Exception ignored in: \n",
      "assert self._parent_pid == os.getpid(), 'can only test a child process'Traceback (most recent call last):\n",
      "\n",
      "<function _MultiProcessingDataLoaderIter.__del__ at 0x7fe2d423d280>  File \"/home/ubuntu/users/dky/.local/lib/python3.8/site-packages/torch/utils/data/dataloader.py\", line 1479, in __del__\n",
      "    \n",
      "self._shutdown_workers()AssertionErrorTraceback (most recent call last):\n",
      "\n",
      "  File \"/home/ubuntu/users/dky/.local/lib/python3.8/site-packages/torch/utils/data/dataloader.py\", line 1462, in _shutdown_workers\n",
      "  File \"/home/ubuntu/users/dky/.local/lib/python3.8/site-packages/torch/utils/data/dataloader.py\", line 1479, in __del__\n",
      ":     can only test a child processif w.is_alive():\n",
      "      File \"/home/ubuntu/users/dky/anaconda3/envs/KD/lib/python3.8/multiprocessing/process.py\", line 160, in is_alive\n",
      "Exception ignored in: self._shutdown_workers()\n",
      "    \n",
      "<function _MultiProcessingDataLoaderIter.__del__ at 0x7fe2d423d280>assert self._parent_pid == os.getpid(), 'can only test a child process'  File \"/home/ubuntu/users/dky/.local/lib/python3.8/site-packages/torch/utils/data/dataloader.py\", line 1462, in _shutdown_workers\n",
      "\n",
      "Traceback (most recent call last):\n",
      "  File \"/home/ubuntu/users/dky/.local/lib/python3.8/site-packages/torch/utils/data/dataloader.py\", line 1479, in __del__\n",
      "\n",
      "AssertionError    self._shutdown_workers()    : if w.is_alive():can only test a child process\n",
      "\n",
      "\n",
      "  File \"/home/ubuntu/users/dky/anaconda3/envs/KD/lib/python3.8/multiprocessing/process.py\", line 160, in is_alive\n",
      "  File \"/home/ubuntu/users/dky/.local/lib/python3.8/site-packages/torch/utils/data/dataloader.py\", line 1462, in _shutdown_workers\n",
      "        assert self._parent_pid == os.getpid(), 'can only test a child process'Exception ignored in: \n",
      "if w.is_alive():<function _MultiProcessingDataLoaderIter.__del__ at 0x7fe2d423d280>AssertionError\n",
      ": Traceback (most recent call last):\n",
      "can only test a child process  File \"/home/ubuntu/users/dky/.local/lib/python3.8/site-packages/torch/utils/data/dataloader.py\", line 1479, in __del__\n",
      "\n",
      "\n",
      "      File \"/home/ubuntu/users/dky/anaconda3/envs/KD/lib/python3.8/multiprocessing/process.py\", line 160, in is_alive\n",
      "self._shutdown_workers()    \n",
      "assert self._parent_pid == os.getpid(), 'can only test a child process'  File \"/home/ubuntu/users/dky/.local/lib/python3.8/site-packages/torch/utils/data/dataloader.py\", line 1462, in _shutdown_workers\n",
      "\n",
      "AssertionError:     can only test a child process\n",
      "if w.is_alive():\n",
      "  File \"/home/ubuntu/users/dky/anaconda3/envs/KD/lib/python3.8/multiprocessing/process.py\", line 160, in is_alive\n",
      "Exception ignored in:     <function _MultiProcessingDataLoaderIter.__del__ at 0x7fe2d423d280>\n",
      "assert self._parent_pid == os.getpid(), 'can only test a child process'Traceback (most recent call last):\n",
      "  File \"/home/ubuntu/users/dky/.local/lib/python3.8/site-packages/torch/utils/data/dataloader.py\", line 1479, in __del__\n",
      "\n",
      "    AssertionErrorself._shutdown_workers()\n",
      "  File \"/home/ubuntu/users/dky/.local/lib/python3.8/site-packages/torch/utils/data/dataloader.py\", line 1462, in _shutdown_workers\n",
      "    if w.is_alive():\n",
      ":   File \"/home/ubuntu/users/dky/anaconda3/envs/KD/lib/python3.8/multiprocessing/process.py\", line 160, in is_alive\n",
      "    can only test a child process\n",
      "assert self._parent_pid == os.getpid(), 'can only test a child process'\n",
      "AssertionError: can only test a child process\n",
      "Exception ignored in: <function _MultiProcessingDataLoaderIter.__del__ at 0x7fe2d423d280>\n",
      "Traceback (most recent call last):\n",
      "  File \"/home/ubuntu/users/dky/.local/lib/python3.8/site-packages/torch/utils/data/dataloader.py\", line 1479, in __del__\n",
      "    self._shutdown_workers()\n",
      "  File \"/home/ubuntu/users/dky/.local/lib/python3.8/site-packages/torch/utils/data/dataloader.py\", line 1462, in _shutdown_workers\n",
      "    if w.is_alive():\n",
      "  File \"/home/ubuntu/users/dky/anaconda3/envs/KD/lib/python3.8/multiprocessing/process.py\", line 160, in is_alive\n",
      "    assert self._parent_pid == os.getpid(), 'can only test a child process'\n",
      "AssertionError: can only test a child process\n",
      "Exception ignored in: <function _MultiProcessingDataLoaderIter.__del__ at 0x7fe2d423d280>\n",
      "Traceback (most recent call last):\n",
      "  File \"/home/ubuntu/users/dky/.local/lib/python3.8/site-packages/torch/utils/data/dataloader.py\", line 1479, in __del__\n",
      "    self._shutdown_workers()\n",
      "  File \"/home/ubuntu/users/dky/.local/lib/python3.8/site-packages/torch/utils/data/dataloader.py\", line 1462, in _shutdown_workers\n",
      "    if w.is_alive():\n",
      "  File \"/home/ubuntu/users/dky/anaconda3/envs/KD/lib/python3.8/multiprocessing/process.py\", line 160, in is_alive\n",
      "    assert self._parent_pid == os.getpid(), 'can only test a child process'\n",
      "AssertionError: can only test a child process\n",
      "Exception ignored in: <function _MultiProcessingDataLoaderIter.__del__ at 0x7fe2d423d280>\n",
      "Traceback (most recent call last):\n",
      "  File \"/home/ubuntu/users/dky/.local/lib/python3.8/site-packages/torch/utils/data/dataloader.py\", line 1479, in __del__\n",
      "    self._shutdown_workers()\n",
      "  File \"/home/ubuntu/users/dky/.local/lib/python3.8/site-packages/torch/utils/data/dataloader.py\", line 1462, in _shutdown_workers\n",
      "    if w.is_alive():\n",
      "  File \"/home/ubuntu/users/dky/anaconda3/envs/KD/lib/python3.8/multiprocessing/process.py\", line 160, in is_alive\n",
      "    assert self._parent_pid == os.getpid(), 'can only test a child process'\n",
      "AssertionError: can only test a child process\n",
      "Exception ignored in: <function _MultiProcessingDataLoaderIter.__del__ at 0x7fe2d423d280>\n",
      "Traceback (most recent call last):\n",
      "  File \"/home/ubuntu/users/dky/.local/lib/python3.8/site-packages/torch/utils/data/dataloader.py\", line 1479, in __del__\n",
      "    self._shutdown_workers()\n",
      "  File \"/home/ubuntu/users/dky/.local/lib/python3.8/site-packages/torch/utils/data/dataloader.py\", line 1462, in _shutdown_workers\n",
      "    if w.is_alive():\n",
      "  File \"/home/ubuntu/users/dky/anaconda3/envs/KD/lib/python3.8/multiprocessing/process.py\", line 160, in is_alive\n",
      "    assert self._parent_pid == os.getpid(), 'can only test a child process'\n",
      "AssertionError: can only test a child process\n",
      "Exception ignored in: <function _MultiProcessingDataLoaderIter.__del__ at 0x7fe2d423d280>\n",
      "Traceback (most recent call last):\n",
      "  File \"/home/ubuntu/users/dky/.local/lib/python3.8/site-packages/torch/utils/data/dataloader.py\", line 1479, in __del__\n",
      "    self._shutdown_workers()\n",
      "  File \"/home/ubuntu/users/dky/.local/lib/python3.8/site-packages/torch/utils/data/dataloader.py\", line 1462, in _shutdown_workers\n",
      "    if w.is_alive():\n",
      "  File \"/home/ubuntu/users/dky/anaconda3/envs/KD/lib/python3.8/multiprocessing/process.py\", line 160, in is_alive\n",
      "    assert self._parent_pid == os.getpid(), 'can only test a child process'\n",
      "AssertionError: can only test a child process\n",
      "Exception ignored in: <function _MultiProcessingDataLoaderIter.__del__ at 0x7fe2d423d280>\n",
      "Traceback (most recent call last):\n",
      "  File \"/home/ubuntu/users/dky/.local/lib/python3.8/site-packages/torch/utils/data/dataloader.py\", line 1479, in __del__\n",
      "    self._shutdown_workers()\n",
      "  File \"/home/ubuntu/users/dky/.local/lib/python3.8/site-packages/torch/utils/data/dataloader.py\", line 1462, in _shutdown_workers\n",
      "    if w.is_alive():\n",
      "  File \"/home/ubuntu/users/dky/anaconda3/envs/KD/lib/python3.8/multiprocessing/process.py\", line 160, in is_alive\n",
      "    assert self._parent_pid == os.getpid(), 'can only test a child process'\n",
      "AssertionError: can only test a child process\n",
      "Exception ignored in: <function _MultiProcessingDataLoaderIter.__del__ at 0x7fe2d423d280>\n",
      "Traceback (most recent call last):\n",
      "  File \"/home/ubuntu/users/dky/.local/lib/python3.8/site-packages/torch/utils/data/dataloader.py\", line 1479, in __del__\n",
      "    self._shutdown_workers()\n",
      "  File \"/home/ubuntu/users/dky/.local/lib/python3.8/site-packages/torch/utils/data/dataloader.py\", line 1462, in _shutdown_workers\n",
      "    if w.is_alive():\n",
      "  File \"/home/ubuntu/users/dky/anaconda3/envs/KD/lib/python3.8/multiprocessing/process.py\", line 160, in is_alive\n",
      "    assert self._parent_pid == os.getpid(), 'can only test a child process'\n",
      "AssertionError: can only test a child process\n",
      "Exception ignored in: <function _MultiProcessingDataLoaderIter.__del__ at 0x7fe2d423d280>\n",
      "Traceback (most recent call last):\n",
      "  File \"/home/ubuntu/users/dky/.local/lib/python3.8/site-packages/torch/utils/data/dataloader.py\", line 1479, in __del__\n",
      "    self._shutdown_workers()\n",
      "  File \"/home/ubuntu/users/dky/.local/lib/python3.8/site-packages/torch/utils/data/dataloader.py\", line 1462, in _shutdown_workers\n",
      "    if w.is_alive():\n",
      "  File \"/home/ubuntu/users/dky/anaconda3/envs/KD/lib/python3.8/multiprocessing/process.py\", line 160, in is_alive\n",
      "    assert self._parent_pid == os.getpid(), 'can only test a child process'\n",
      "AssertionError: can only test a child process\n"
     ]
    },
    {
     "data": {
      "application/vnd.jupyter.widget-view+json": {
       "model_id": "5231fe5ea565430eb7de9374137f6a36",
       "version_major": 2,
       "version_minor": 0
      },
      "text/plain": [
       "Testing on SNR: 12:   0%|          | 0/100 [00:00<?, ?it/s]"
      ]
     },
     "metadata": {},
     "output_type": "display_data"
    },
    {
     "name": "stderr",
     "output_type": "stream",
     "text": [
      "Exception ignored in: <function _MultiProcessingDataLoaderIter.__del__ at 0x7fe2d423d280>\n",
      "Exception ignored in: Exception ignored in: Traceback (most recent call last):\n",
      "  File \"/home/ubuntu/users/dky/.local/lib/python3.8/site-packages/torch/utils/data/dataloader.py\", line 1479, in __del__\n",
      "<function _MultiProcessingDataLoaderIter.__del__ at 0x7fe2d423d280><function _MultiProcessingDataLoaderIter.__del__ at 0x7fe2d423d280>    \n",
      "\n",
      "self._shutdown_workers()Traceback (most recent call last):\n",
      "\n",
      "Traceback (most recent call last):\n",
      "  File \"/home/ubuntu/users/dky/.local/lib/python3.8/site-packages/torch/utils/data/dataloader.py\", line 1479, in __del__\n",
      "  File \"/home/ubuntu/users/dky/.local/lib/python3.8/site-packages/torch/utils/data/dataloader.py\", line 1479, in __del__\n",
      "      File \"/home/ubuntu/users/dky/.local/lib/python3.8/site-packages/torch/utils/data/dataloader.py\", line 1462, in _shutdown_workers\n",
      "Exception ignored in: Exception ignored in: Exception ignored in: Exception ignored in:     <function _MultiProcessingDataLoaderIter.__del__ at 0x7fe2d423d280><function _MultiProcessingDataLoaderIter.__del__ at 0x7fe2d423d280>self._shutdown_workers()<function _MultiProcessingDataLoaderIter.__del__ at 0x7fe2d423d280><function _MultiProcessingDataLoaderIter.__del__ at 0x7fe2d423d280>self._shutdown_workers()\n",
      "\n",
      "\n",
      "    \n",
      "Traceback (most recent call last):\n",
      "\n",
      "  File \"/home/ubuntu/users/dky/.local/lib/python3.8/site-packages/torch/utils/data/dataloader.py\", line 1479, in __del__\n",
      "\n",
      "Traceback (most recent call last):\n",
      "Traceback (most recent call last):\n",
      "if w.is_alive():Traceback (most recent call last):\n",
      "  File \"/home/ubuntu/users/dky/.local/lib/python3.8/site-packages/torch/utils/data/dataloader.py\", line 1479, in __del__\n",
      "  File \"/home/ubuntu/users/dky/.local/lib/python3.8/site-packages/torch/utils/data/dataloader.py\", line 1462, in _shutdown_workers\n",
      "  File \"/home/ubuntu/users/dky/.local/lib/python3.8/site-packages/torch/utils/data/dataloader.py\", line 1462, in _shutdown_workers\n",
      "  File \"/home/ubuntu/users/dky/.local/lib/python3.8/site-packages/torch/utils/data/dataloader.py\", line 1479, in __del__\n",
      "        \n",
      "    Exception ignored in:     self._shutdown_workers()  File \"/home/ubuntu/users/dky/.local/lib/python3.8/site-packages/torch/utils/data/dataloader.py\", line 1479, in __del__\n",
      "    if w.is_alive():\n",
      "self._shutdown_workers()\n",
      "self._shutdown_workers()<function _MultiProcessingDataLoaderIter.__del__ at 0x7fe2d423d280>  File \"/home/ubuntu/users/dky/.local/lib/python3.8/site-packages/torch/utils/data/dataloader.py\", line 1462, in _shutdown_workers\n",
      "if w.is_alive():    \n",
      "\n",
      "  File \"/home/ubuntu/users/dky/anaconda3/envs/KD/lib/python3.8/multiprocessing/process.py\", line 160, in is_alive\n",
      "\n",
      "self._shutdown_workers()  File \"/home/ubuntu/users/dky/.local/lib/python3.8/site-packages/torch/utils/data/dataloader.py\", line 1462, in _shutdown_workers\n",
      "  File \"/home/ubuntu/users/dky/.local/lib/python3.8/site-packages/torch/utils/data/dataloader.py\", line 1462, in _shutdown_workers\n",
      "\n",
      "\n",
      "  File \"/home/ubuntu/users/dky/anaconda3/envs/KD/lib/python3.8/multiprocessing/process.py\", line 160, in is_alive\n",
      "Traceback (most recent call last):\n",
      "      File \"/home/ubuntu/users/dky/.local/lib/python3.8/site-packages/torch/utils/data/dataloader.py\", line 1462, in _shutdown_workers\n",
      "  File \"/home/ubuntu/users/dky/anaconda3/envs/KD/lib/python3.8/multiprocessing/process.py\", line 160, in is_alive\n",
      "          File \"/home/ubuntu/users/dky/.local/lib/python3.8/site-packages/torch/utils/data/dataloader.py\", line 1479, in __del__\n",
      "if w.is_alive():if w.is_alive():assert self._parent_pid == os.getpid(), 'can only test a child process'    \n",
      "\n",
      "    if w.is_alive():\n",
      "  File \"/home/ubuntu/users/dky/anaconda3/envs/KD/lib/python3.8/multiprocessing/process.py\", line 160, in is_alive\n",
      "  File \"/home/ubuntu/users/dky/anaconda3/envs/KD/lib/python3.8/multiprocessing/process.py\", line 160, in is_alive\n",
      "\n",
      "    assert self._parent_pid == os.getpid(), 'can only test a child process'AssertionError          File \"/home/ubuntu/users/dky/anaconda3/envs/KD/lib/python3.8/multiprocessing/process.py\", line 160, in is_alive\n",
      "    self._shutdown_workers()    assert self._parent_pid == os.getpid(), 'can only test a child process'if w.is_alive():\n",
      ":     assert self._parent_pid == os.getpid(), 'can only test a child process'\n",
      "\n",
      "assert self._parent_pid == os.getpid(), 'can only test a child process'\n",
      "AssertionError\n",
      "  File \"/home/ubuntu/users/dky/.local/lib/python3.8/site-packages/torch/utils/data/dataloader.py\", line 1462, in _shutdown_workers\n",
      "\n",
      ":   File \"/home/ubuntu/users/dky/anaconda3/envs/KD/lib/python3.8/multiprocessing/process.py\", line 160, in is_alive\n",
      "can only test a child process    AssertionError    \n",
      "if w.is_alive():AssertionError: assert self._parent_pid == os.getpid(), 'can only test a child process'\n",
      "can only test a child process\n",
      "  File \"/home/ubuntu/users/dky/anaconda3/envs/KD/lib/python3.8/multiprocessing/process.py\", line 160, in is_alive\n",
      "\n",
      "AssertionError    : : assert self._parent_pid == os.getpid(), 'can only test a child process'AssertionErrorException ignored in: assert self._parent_pid == os.getpid(), 'can only test a child process'can only test a child processcan only test a child processException ignored in: can only test a child process\n",
      "<function _MultiProcessingDataLoaderIter.__del__ at 0x7fe2d423d280><function _MultiProcessingDataLoaderIter.__del__ at 0x7fe2d423d280>\n",
      ": \n",
      "\n",
      "\n",
      "\n",
      "Traceback (most recent call last):\n",
      "Traceback (most recent call last):\n",
      "  File \"/home/ubuntu/users/dky/.local/lib/python3.8/site-packages/torch/utils/data/dataloader.py\", line 1479, in __del__\n",
      "Exception ignored in: AssertionError  File \"/home/ubuntu/users/dky/.local/lib/python3.8/site-packages/torch/utils/data/dataloader.py\", line 1479, in __del__\n",
      ": can only test a child process    Exception ignored in: can only test a child process\n",
      "    <function _MultiProcessingDataLoaderIter.__del__ at 0x7fe2d423d280>\n",
      "\n",
      "self._shutdown_workers()Traceback (most recent call last):\n",
      "<function _MultiProcessingDataLoaderIter.__del__ at 0x7fe2d423d280>Exception ignored in:   File \"/home/ubuntu/users/dky/.local/lib/python3.8/site-packages/torch/utils/data/dataloader.py\", line 1479, in __del__\n",
      "Exception ignored in: self._shutdown_workers()<function _MultiProcessingDataLoaderIter.__del__ at 0x7fe2d423d280>Exception ignored in: \n",
      "<function _MultiProcessingDataLoaderIter.__del__ at 0x7fe2d423d280>    \n",
      "\n",
      "self._shutdown_workers()\n",
      "  File \"/home/ubuntu/users/dky/.local/lib/python3.8/site-packages/torch/utils/data/dataloader.py\", line 1462, in _shutdown_workers\n",
      "<function _MultiProcessingDataLoaderIter.__del__ at 0x7fe2d423d280>Traceback (most recent call last):\n",
      "\n",
      "\n",
      "  File \"/home/ubuntu/users/dky/.local/lib/python3.8/site-packages/torch/utils/data/dataloader.py\", line 1462, in _shutdown_workers\n",
      "Traceback (most recent call last):\n",
      "    Traceback (most recent call last):\n",
      "\n",
      "  File \"/home/ubuntu/users/dky/.local/lib/python3.8/site-packages/torch/utils/data/dataloader.py\", line 1479, in __del__\n",
      "  File \"/home/ubuntu/users/dky/.local/lib/python3.8/site-packages/torch/utils/data/dataloader.py\", line 1479, in __del__\n",
      "  File \"/home/ubuntu/users/dky/.local/lib/python3.8/site-packages/torch/utils/data/dataloader.py\", line 1462, in _shutdown_workers\n",
      "Traceback (most recent call last):\n",
      "if w.is_alive():\n",
      "\n",
      "      File \"/home/ubuntu/users/dky/.local/lib/python3.8/site-packages/torch/utils/data/dataloader.py\", line 1479, in __del__\n",
      "    if w.is_alive():      File \"/home/ubuntu/users/dky/.local/lib/python3.8/site-packages/torch/utils/data/dataloader.py\", line 1479, in __del__\n",
      "        \n",
      "if w.is_alive():  File \"/home/ubuntu/users/dky/anaconda3/envs/KD/lib/python3.8/multiprocessing/process.py\", line 160, in is_alive\n",
      "  File \"/home/ubuntu/users/dky/anaconda3/envs/KD/lib/python3.8/multiprocessing/process.py\", line 160, in is_alive\n",
      "self._shutdown_workers()        self._shutdown_workers()\n",
      "    assert self._parent_pid == os.getpid(), 'can only test a child process'self._shutdown_workers()  File \"/home/ubuntu/users/dky/anaconda3/envs/KD/lib/python3.8/multiprocessing/process.py\", line 160, in is_alive\n",
      "\n",
      "\n",
      "\n",
      "\n",
      "assert self._parent_pid == os.getpid(), 'can only test a child process'  File \"/home/ubuntu/users/dky/.local/lib/python3.8/site-packages/torch/utils/data/dataloader.py\", line 1462, in _shutdown_workers\n",
      "\n",
      "AssertionError  File \"/home/ubuntu/users/dky/.local/lib/python3.8/site-packages/torch/utils/data/dataloader.py\", line 1462, in _shutdown_workers\n",
      "  File \"/home/ubuntu/users/dky/.local/lib/python3.8/site-packages/torch/utils/data/dataloader.py\", line 1462, in _shutdown_workers\n",
      "    AssertionError        if w.is_alive():    : : \n",
      "can only test a child processif w.is_alive():assert self._parent_pid == os.getpid(), 'can only test a child process'can only test a child process  File \"/home/ubuntu/users/dky/anaconda3/envs/KD/lib/python3.8/multiprocessing/process.py\", line 160, in is_alive\n",
      "\n",
      "\n",
      "\n",
      "if w.is_alive():\n",
      "  File \"/home/ubuntu/users/dky/anaconda3/envs/KD/lib/python3.8/multiprocessing/process.py\", line 160, in is_alive\n",
      "\n",
      "    AssertionErrorself._shutdown_workers()Exception ignored in:     AssertionError:   File \"/home/ubuntu/users/dky/anaconda3/envs/KD/lib/python3.8/multiprocessing/process.py\", line 160, in is_alive\n",
      "assert self._parent_pid == os.getpid(), 'can only test a child process'\n",
      "Exception ignored in: can only test a child process: assert self._parent_pid == os.getpid(), 'can only test a child process'<function _MultiProcessingDataLoaderIter.__del__ at 0x7fe2d423d280>    \n",
      "\n",
      "  File \"/home/ubuntu/users/dky/.local/lib/python3.8/site-packages/torch/utils/data/dataloader.py\", line 1462, in _shutdown_workers\n",
      "\n",
      "AssertionError\n",
      "assert self._parent_pid == os.getpid(), 'can only test a child process'AssertionError: \n",
      "    : <function _MultiProcessingDataLoaderIter.__del__ at 0x7fe2d423d280>if w.is_alive():can only test a child processAssertionErrorcan only test a child processcan only test a child process\n",
      "\n",
      ": \n",
      "\n",
      "\n",
      "can only test a child processTraceback (most recent call last):\n",
      "Exception ignored in: Exception ignored in:   File \"/home/ubuntu/users/dky/anaconda3/envs/KD/lib/python3.8/multiprocessing/process.py\", line 160, in is_alive\n",
      "\n",
      "<function _MultiProcessingDataLoaderIter.__del__ at 0x7fe2d423d280>  File \"/home/ubuntu/users/dky/.local/lib/python3.8/site-packages/torch/utils/data/dataloader.py\", line 1479, in __del__\n",
      "<function _MultiProcessingDataLoaderIter.__del__ at 0x7fe2d423d280>Exception ignored in:     \n",
      "\n",
      "assert self._parent_pid == os.getpid(), 'can only test a child process'    self._shutdown_workers()Traceback (most recent call last):\n",
      "Traceback (most recent call last):\n",
      "<function _MultiProcessingDataLoaderIter.__del__ at 0x7fe2d423d280>  File \"/home/ubuntu/users/dky/.local/lib/python3.8/site-packages/torch/utils/data/dataloader.py\", line 1479, in __del__\n",
      "  File \"/home/ubuntu/users/dky/.local/lib/python3.8/site-packages/torch/utils/data/dataloader.py\", line 1479, in __del__\n",
      "\n",
      "\n",
      "Exception ignored in:         \n",
      "self._shutdown_workers()AssertionErrorself._shutdown_workers()\n",
      "  File \"/home/ubuntu/users/dky/.local/lib/python3.8/site-packages/torch/utils/data/dataloader.py\", line 1462, in _shutdown_workers\n",
      "Traceback (most recent call last):\n",
      "Exception ignored in: <function _MultiProcessingDataLoaderIter.__del__ at 0x7fe2d423d280>  File \"/home/ubuntu/users/dky/.local/lib/python3.8/site-packages/torch/utils/data/dataloader.py\", line 1462, in _shutdown_workers\n",
      "Traceback (most recent call last):\n",
      "\n",
      "\n",
      "<function _MultiProcessingDataLoaderIter.__del__ at 0x7fe2d423d280>      File \"/home/ubuntu/users/dky/.local/lib/python3.8/site-packages/torch/utils/data/dataloader.py\", line 1479, in __del__\n",
      "  File \"/home/ubuntu/users/dky/.local/lib/python3.8/site-packages/torch/utils/data/dataloader.py\", line 1462, in _shutdown_workers\n",
      "Traceback (most recent call last):\n",
      "        : \n",
      "if w.is_alive():can only test a child processif w.is_alive():\n",
      "    if w.is_alive():Traceback (most recent call last):\n",
      "  File \"/home/ubuntu/users/dky/.local/lib/python3.8/site-packages/torch/utils/data/dataloader.py\", line 1479, in __del__\n",
      "  File \"/home/ubuntu/users/dky/anaconda3/envs/KD/lib/python3.8/multiprocessing/process.py\", line 160, in is_alive\n",
      "  File \"/home/ubuntu/users/dky/.local/lib/python3.8/site-packages/torch/utils/data/dataloader.py\", line 1479, in __del__\n",
      "\n",
      "      File \"/home/ubuntu/users/dky/.local/lib/python3.8/site-packages/torch/utils/data/dataloader.py\", line 1479, in __del__\n",
      "    \n",
      "    self._shutdown_workers()assert self._parent_pid == os.getpid(), 'can only test a child process'    self._shutdown_workers()self._shutdown_workers()\n",
      "\n",
      "\n",
      "Exception ignored in:   File \"/home/ubuntu/users/dky/anaconda3/envs/KD/lib/python3.8/multiprocessing/process.py\", line 160, in is_alive\n",
      "  File \"/home/ubuntu/users/dky/.local/lib/python3.8/site-packages/torch/utils/data/dataloader.py\", line 1462, in _shutdown_workers\n",
      "  File \"/home/ubuntu/users/dky/.local/lib/python3.8/site-packages/torch/utils/data/dataloader.py\", line 1462, in _shutdown_workers\n",
      "<function _MultiProcessingDataLoaderIter.__del__ at 0x7fe2d423d280>self._shutdown_workers()        \n",
      "assert self._parent_pid == os.getpid(), 'can only test a child process'\n",
      "    \n",
      "Traceback (most recent call last):\n",
      "\n",
      "if w.is_alive():  File \"/home/ubuntu/users/dky/.local/lib/python3.8/site-packages/torch/utils/data/dataloader.py\", line 1479, in __del__\n",
      "AssertionErrorif w.is_alive():  File \"/home/ubuntu/users/dky/.local/lib/python3.8/site-packages/torch/utils/data/dataloader.py\", line 1462, in _shutdown_workers\n",
      "AssertionError\n",
      "\n",
      ":       File \"/home/ubuntu/users/dky/anaconda3/envs/KD/lib/python3.8/multiprocessing/process.py\", line 160, in is_alive\n",
      "\n",
      "    self._shutdown_workers()    can only test a child process  File \"/home/ubuntu/users/dky/anaconda3/envs/KD/lib/python3.8/multiprocessing/process.py\", line 160, in is_alive\n",
      "  File \"/home/ubuntu/users/dky/.local/lib/python3.8/site-packages/torch/utils/data/dataloader.py\", line 1462, in _shutdown_workers\n",
      "if w.is_alive():assert self._parent_pid == os.getpid(), 'can only test a child process'  File \"/home/ubuntu/users/dky/anaconda3/envs/KD/lib/python3.8/multiprocessing/process.py\", line 160, in is_alive\n",
      "    \n",
      ": \n",
      "    \n",
      "    if w.is_alive():AssertionError: assert self._parent_pid == os.getpid(), 'can only test a child process'assert self._parent_pid == os.getpid(), 'can only test a child process'\n",
      "can only test a child processException ignored in: \n",
      "  File \"/home/ubuntu/users/dky/anaconda3/envs/KD/lib/python3.8/multiprocessing/process.py\", line 160, in is_alive\n",
      "  File \"/home/ubuntu/users/dky/.local/lib/python3.8/site-packages/torch/utils/data/dataloader.py\", line 1462, in _shutdown_workers\n",
      "\n",
      "can only test a child process\n",
      "AssertionError    \n",
      "\n",
      "<function _MultiProcessingDataLoaderIter.__del__ at 0x7fe2d423d280>AssertionError\n",
      "    :   File \"/home/ubuntu/users/dky/anaconda3/envs/KD/lib/python3.8/multiprocessing/process.py\", line 160, in is_alive\n",
      ": assert self._parent_pid == os.getpid(), 'can only test a child process'if w.is_alive():Traceback (most recent call last):\n",
      "can only test a child process\n",
      "\n",
      "can only test a child process\n",
      "  File \"/home/ubuntu/users/dky/.local/lib/python3.8/site-packages/torch/utils/data/dataloader.py\", line 1479, in __del__\n",
      "Exception ignored in:   File \"/home/ubuntu/users/dky/anaconda3/envs/KD/lib/python3.8/multiprocessing/process.py\", line 160, in is_alive\n",
      "\n",
      "Exception ignored in:     <function _MultiProcessingDataLoaderIter.__del__ at 0x7fe2d423d280>    AssertionError\n",
      "self._shutdown_workers()    Exception ignored in: : assert self._parent_pid == os.getpid(), 'can only test a child process'Traceback (most recent call last):\n",
      "assert self._parent_pid == os.getpid(), 'can only test a child process'<function _MultiProcessingDataLoaderIter.__del__ at 0x7fe2d423d280>can only test a child process\n",
      "\n",
      "\n",
      "Exception ignored in:   File \"/home/ubuntu/users/dky/.local/lib/python3.8/site-packages/torch/utils/data/dataloader.py\", line 1479, in __del__\n",
      "\n",
      "<function _MultiProcessingDataLoaderIter.__del__ at 0x7fe2d423d280>AssertionError  File \"/home/ubuntu/users/dky/.local/lib/python3.8/site-packages/torch/utils/data/dataloader.py\", line 1462, in _shutdown_workers\n",
      "\n",
      "<function _MultiProcessingDataLoaderIter.__del__ at 0x7fe2d423d280>\n",
      "    AssertionErrorTraceback (most recent call last):\n",
      "self._shutdown_workers()    Traceback (most recent call last):\n",
      "  File \"/home/ubuntu/users/dky/.local/lib/python3.8/site-packages/torch/utils/data/dataloader.py\", line 1479, in __del__\n",
      "\n",
      "if w.is_alive()::   File \"/home/ubuntu/users/dky/.local/lib/python3.8/site-packages/torch/utils/data/dataloader.py\", line 1479, in __del__\n",
      ": \n",
      "Traceback (most recent call last):\n",
      "can only test a child process  File \"/home/ubuntu/users/dky/.local/lib/python3.8/site-packages/torch/utils/data/dataloader.py\", line 1479, in __del__\n",
      "        can only test a child process\n",
      "  File \"/home/ubuntu/users/dky/anaconda3/envs/KD/lib/python3.8/multiprocessing/process.py\", line 160, in is_alive\n",
      "self._shutdown_workers()\n",
      "\n",
      "  File \"/home/ubuntu/users/dky/.local/lib/python3.8/site-packages/torch/utils/data/dataloader.py\", line 1462, in _shutdown_workers\n",
      "Exception ignored in: self._shutdown_workers()    <function _MultiProcessingDataLoaderIter.__del__ at 0x7fe2d423d280>assert self._parent_pid == os.getpid(), 'can only test a child process'        Exception ignored in: \n",
      "\n",
      "self._shutdown_workers()if w.is_alive():AssertionError<function _MultiProcessingDataLoaderIter.__del__ at 0x7fe2d423d280>  File \"/home/ubuntu/users/dky/.local/lib/python3.8/site-packages/torch/utils/data/dataloader.py\", line 1462, in _shutdown_workers\n",
      "\n",
      ": \n",
      "\n",
      "Exception ignored in: \n",
      "Traceback (most recent call last):\n",
      "  File \"/home/ubuntu/users/dky/anaconda3/envs/KD/lib/python3.8/multiprocessing/process.py\", line 160, in is_alive\n",
      "Traceback (most recent call last):\n",
      "<function _MultiProcessingDataLoaderIter.__del__ at 0x7fe2d423d280>  File \"/home/ubuntu/users/dky/.local/lib/python3.8/site-packages/torch/utils/data/dataloader.py\", line 1479, in __del__\n",
      "can only test a child process  File \"/home/ubuntu/users/dky/.local/lib/python3.8/site-packages/torch/utils/data/dataloader.py\", line 1462, in _shutdown_workers\n",
      "      File \"/home/ubuntu/users/dky/.local/lib/python3.8/site-packages/torch/utils/data/dataloader.py\", line 1479, in __del__\n",
      "    \n",
      "assert self._parent_pid == os.getpid(), 'can only test a child process'if w.is_alive():    \n",
      "\n",
      "\n",
      "\n",
      "    Traceback (most recent call last):\n",
      "Exception ignored in:   File \"/home/ubuntu/users/dky/.local/lib/python3.8/site-packages/torch/utils/data/dataloader.py\", line 1462, in _shutdown_workers\n",
      "  File \"/home/ubuntu/users/dky/anaconda3/envs/KD/lib/python3.8/multiprocessing/process.py\", line 160, in is_alive\n",
      "AssertionError    <function _MultiProcessingDataLoaderIter.__del__ at 0x7fe2d423d280>  File \"/home/ubuntu/users/dky/.local/lib/python3.8/site-packages/torch/utils/data/dataloader.py\", line 1479, in __del__\n",
      "self._shutdown_workers()    self._shutdown_workers()    if w.is_alive():: if w.is_alive():    \n",
      "\n",
      "\n",
      "\n",
      "\n",
      "assert self._parent_pid == os.getpid(), 'can only test a child process'can only test a child process  File \"/home/ubuntu/users/dky/.local/lib/python3.8/site-packages/torch/utils/data/dataloader.py\", line 1462, in _shutdown_workers\n",
      "  File \"/home/ubuntu/users/dky/anaconda3/envs/KD/lib/python3.8/multiprocessing/process.py\", line 160, in is_alive\n",
      "Traceback (most recent call last):\n",
      "\n",
      "  File \"/home/ubuntu/users/dky/anaconda3/envs/KD/lib/python3.8/multiprocessing/process.py\", line 160, in is_alive\n",
      "\n",
      "  File \"/home/ubuntu/users/dky/.local/lib/python3.8/site-packages/torch/utils/data/dataloader.py\", line 1462, in _shutdown_workers\n",
      "  File \"/home/ubuntu/users/dky/.local/lib/python3.8/site-packages/torch/utils/data/dataloader.py\", line 1479, in __del__\n",
      "AssertionError                    : self._shutdown_workers()self._shutdown_workers()can only test a child processif w.is_alive():\n",
      "assert self._parent_pid == os.getpid(), 'can only test a child process'  File \"/home/ubuntu/users/dky/.local/lib/python3.8/site-packages/torch/utils/data/dataloader.py\", line 1462, in _shutdown_workers\n",
      "\n",
      "\n",
      "\n",
      "assert self._parent_pid == os.getpid(), 'can only test a child process'Exception ignored in:   File \"/home/ubuntu/users/dky/.local/lib/python3.8/site-packages/torch/utils/data/dataloader.py\", line 1462, in _shutdown_workers\n",
      "AssertionError    \n",
      "if w.is_alive():    <function _MultiProcessingDataLoaderIter.__del__ at 0x7fe2d423d280>: \n",
      "if w.is_alive():AssertionErrorcan only test a child process\n",
      "  File \"/home/ubuntu/users/dky/anaconda3/envs/KD/lib/python3.8/multiprocessing/process.py\", line 160, in is_alive\n",
      "Exception ignored in: \n",
      "Traceback (most recent call last):\n",
      "\n",
      ":   File \"/home/ubuntu/users/dky/anaconda3/envs/KD/lib/python3.8/multiprocessing/process.py\", line 160, in is_alive\n",
      "<function _MultiProcessingDataLoaderIter.__del__ at 0x7fe2d423d280>if w.is_alive():      File \"/home/ubuntu/users/dky/.local/lib/python3.8/site-packages/torch/utils/data/dataloader.py\", line 1479, in __del__\n",
      "\n",
      "\n",
      "\n",
      "assert self._parent_pid == os.getpid(), 'can only test a child process'Traceback (most recent call last):\n",
      "can only test a child processException ignored in:     \n",
      "\n",
      "<function _MultiProcessingDataLoaderIter.__del__ at 0x7fe2d423d280>  File \"/home/ubuntu/users/dky/.local/lib/python3.8/site-packages/torch/utils/data/dataloader.py\", line 1479, in __del__\n",
      "  File \"/home/ubuntu/users/dky/anaconda3/envs/KD/lib/python3.8/multiprocessing/process.py\", line 160, in is_alive\n",
      "self._shutdown_workers()  File \"/home/ubuntu/users/dky/anaconda3/envs/KD/lib/python3.8/multiprocessing/process.py\", line 160, in is_alive\n",
      "Exception ignored in:     \n",
      "        Traceback (most recent call last):\n",
      "AssertionErrorself._shutdown_workers()<function _MultiProcessingDataLoaderIter.__del__ at 0x7fe2d423d280>  File \"/home/ubuntu/users/dky/.local/lib/python3.8/site-packages/torch/utils/data/dataloader.py\", line 1479, in __del__\n",
      "\n",
      ":     assert self._parent_pid == os.getpid(), 'can only test a child process'\n",
      "      File \"/home/ubuntu/users/dky/.local/lib/python3.8/site-packages/torch/utils/data/dataloader.py\", line 1462, in _shutdown_workers\n",
      "\n",
      "Traceback (most recent call last):\n",
      "assert self._parent_pid == os.getpid(), 'can only test a child process'assert self._parent_pid == os.getpid(), 'can only test a child process'  File \"/home/ubuntu/users/dky/.local/lib/python3.8/site-packages/torch/utils/data/dataloader.py\", line 1479, in __del__\n",
      "self._shutdown_workers()\n",
      "    \n",
      "can only test a child processif w.is_alive():\n",
      "AssertionError    \n",
      "AssertionError\n",
      "  File \"/home/ubuntu/users/dky/.local/lib/python3.8/site-packages/torch/utils/data/dataloader.py\", line 1462, in _shutdown_workers\n",
      "self._shutdown_workers()\n",
      ": :   File \"/home/ubuntu/users/dky/.local/lib/python3.8/site-packages/torch/utils/data/dataloader.py\", line 1462, in _shutdown_workers\n",
      "can only test a child processAssertionError  File \"/home/ubuntu/users/dky/anaconda3/envs/KD/lib/python3.8/multiprocessing/process.py\", line 160, in is_alive\n",
      "    can only test a child process\n",
      "Exception ignored in: \n",
      "\n",
      ":   File \"/home/ubuntu/users/dky/.local/lib/python3.8/site-packages/torch/utils/data/dataloader.py\", line 1462, in _shutdown_workers\n",
      "<function _MultiProcessingDataLoaderIter.__del__ at 0x7fe2d423d280>if w.is_alive():\n",
      "    can only test a child processException ignored in: Exception ignored in: \n",
      "<function _MultiProcessingDataLoaderIter.__del__ at 0x7fe2d423d280>if w.is_alive():<function _MultiProcessingDataLoaderIter.__del__ at 0x7fe2d423d280>    \n",
      "  File \"/home/ubuntu/users/dky/anaconda3/envs/KD/lib/python3.8/multiprocessing/process.py\", line 160, in is_alive\n",
      "\n",
      "    \n",
      "Traceback (most recent call last):\n",
      "assert self._parent_pid == os.getpid(), 'can only test a child process'      File \"/home/ubuntu/users/dky/anaconda3/envs/KD/lib/python3.8/multiprocessing/process.py\", line 160, in is_alive\n",
      "if w.is_alive():  File \"/home/ubuntu/users/dky/.local/lib/python3.8/site-packages/torch/utils/data/dataloader.py\", line 1479, in __del__\n",
      "    \n",
      "\n",
      "assert self._parent_pid == os.getpid(), 'can only test a child process'assert self._parent_pid == os.getpid(), 'can only test a child process'Traceback (most recent call last):\n",
      "  File \"/home/ubuntu/users/dky/anaconda3/envs/KD/lib/python3.8/multiprocessing/process.py\", line 160, in is_alive\n",
      "    \n",
      "\n",
      "self._shutdown_workers()\n",
      "\n",
      "Traceback (most recent call last):\n",
      "AssertionErrorAssertionErrorException ignored in:       File \"/home/ubuntu/users/dky/.local/lib/python3.8/site-packages/torch/utils/data/dataloader.py\", line 1462, in _shutdown_workers\n",
      ": :   File \"/home/ubuntu/users/dky/.local/lib/python3.8/site-packages/torch/utils/data/dataloader.py\", line 1479, in __del__\n",
      "assert self._parent_pid == os.getpid(), 'can only test a child process'can only test a child processcan only test a child process    <function _MultiProcessingDataLoaderIter.__del__ at 0x7fe2d423d280>\n",
      "\n",
      "\n",
      "AssertionErrorAssertionError    if w.is_alive():  File \"/home/ubuntu/users/dky/.local/lib/python3.8/site-packages/torch/utils/data/dataloader.py\", line 1479, in __del__\n",
      "Exception ignored in: \n",
      "self._shutdown_workers()\n",
      ": : Traceback (most recent call last):\n",
      "Exception ignored in: \n",
      "can only test a child process  File \"/home/ubuntu/users/dky/.local/lib/python3.8/site-packages/torch/utils/data/dataloader.py\", line 1479, in __del__\n",
      "<function _MultiProcessingDataLoaderIter.__del__ at 0x7fe2d423d280>\n",
      "can only test a child process<function _MultiProcessingDataLoaderIter.__del__ at 0x7fe2d423d280>  File \"/home/ubuntu/users/dky/.local/lib/python3.8/site-packages/torch/utils/data/dataloader.py\", line 1462, in _shutdown_workers\n",
      "        \n",
      "    \n",
      "\n",
      "Traceback (most recent call last):\n",
      "  File \"/home/ubuntu/users/dky/anaconda3/envs/KD/lib/python3.8/multiprocessing/process.py\", line 160, in is_alive\n",
      "self._shutdown_workers()if w.is_alive():Traceback (most recent call last):\n",
      "  File \"/home/ubuntu/users/dky/.local/lib/python3.8/site-packages/torch/utils/data/dataloader.py\", line 1479, in __del__\n",
      "\n",
      "\n",
      "    Exception ignored in:   File \"/home/ubuntu/users/dky/.local/lib/python3.8/site-packages/torch/utils/data/dataloader.py\", line 1479, in __del__\n",
      "self._shutdown_workers()    assert self._parent_pid == os.getpid(), 'can only test a child process'<function _MultiProcessingDataLoaderIter.__del__ at 0x7fe2d423d280>\n",
      "    \n",
      "self._shutdown_workers()\n",
      "self._shutdown_workers()  File \"/home/ubuntu/users/dky/anaconda3/envs/KD/lib/python3.8/multiprocessing/process.py\", line 160, in is_alive\n",
      "  File \"/home/ubuntu/users/dky/.local/lib/python3.8/site-packages/torch/utils/data/dataloader.py\", line 1462, in _shutdown_workers\n",
      "  File \"/home/ubuntu/users/dky/.local/lib/python3.8/site-packages/torch/utils/data/dataloader.py\", line 1462, in _shutdown_workers\n",
      "Traceback (most recent call last):\n",
      "\n",
      "AssertionError  File \"/home/ubuntu/users/dky/.local/lib/python3.8/site-packages/torch/utils/data/dataloader.py\", line 1479, in __del__\n",
      "      File \"/home/ubuntu/users/dky/.local/lib/python3.8/site-packages/torch/utils/data/dataloader.py\", line 1462, in _shutdown_workers\n",
      "    : \n",
      "    if w.is_alive():if w.is_alive():can only test a child process    \n",
      "    self._shutdown_workers()  File \"/home/ubuntu/users/dky/.local/lib/python3.8/site-packages/torch/utils/data/dataloader.py\", line 1462, in _shutdown_workers\n",
      "if w.is_alive():\n",
      "  File \"/home/ubuntu/users/dky/anaconda3/envs/KD/lib/python3.8/multiprocessing/process.py\", line 160, in is_alive\n",
      "\n",
      "assert self._parent_pid == os.getpid(), 'can only test a child process'\n",
      "        \n",
      "\n",
      "  File \"/home/ubuntu/users/dky/anaconda3/envs/KD/lib/python3.8/multiprocessing/process.py\", line 160, in is_alive\n",
      "  File \"/home/ubuntu/users/dky/anaconda3/envs/KD/lib/python3.8/multiprocessing/process.py\", line 160, in is_alive\n",
      "assert self._parent_pid == os.getpid(), 'can only test a child process'AssertionError    if w.is_alive():\n",
      "    Exception ignored in: AssertionError: assert self._parent_pid == os.getpid(), 'can only test a child process'<function _MultiProcessingDataLoaderIter.__del__ at 0x7fe2d423d280>Exception ignored in: assert self._parent_pid == os.getpid(), 'can only test a child process'\n",
      "\n",
      ": \n",
      "can only test a child processAssertionError<function _MultiProcessingDataLoaderIter.__del__ at 0x7fe2d423d280>\n",
      "Traceback (most recent call last):\n",
      "can only test a child process: AssertionError  File \"/home/ubuntu/users/dky/.local/lib/python3.8/site-packages/torch/utils/data/dataloader.py\", line 1462, in _shutdown_workers\n",
      "  File \"/home/ubuntu/users/dky/.local/lib/python3.8/site-packages/torch/utils/data/dataloader.py\", line 1479, in __del__\n",
      "\n",
      "can only test a child process\n",
      "    Traceback (most recent call last):\n",
      "    self._shutdown_workers()Exception ignored in:   File \"/home/ubuntu/users/dky/.local/lib/python3.8/site-packages/torch/utils/data/dataloader.py\", line 1479, in __del__\n",
      "\n",
      "\n",
      ": if w.is_alive():<function _MultiProcessingDataLoaderIter.__del__ at 0x7fe2d423d280>can only test a child process\n",
      "\n",
      "\n",
      "      File \"/home/ubuntu/users/dky/.local/lib/python3.8/site-packages/torch/utils/data/dataloader.py\", line 1462, in _shutdown_workers\n",
      "Exception ignored in:   File \"/home/ubuntu/users/dky/anaconda3/envs/KD/lib/python3.8/multiprocessing/process.py\", line 160, in is_alive\n",
      "Traceback (most recent call last):\n",
      "<function _MultiProcessingDataLoaderIter.__del__ at 0x7fe2d423d280>  File \"/home/ubuntu/users/dky/anaconda3/envs/KD/lib/python3.8/multiprocessing/process.py\", line 160, in is_alive\n",
      "    \n",
      "\n",
      "Exception ignored in: if w.is_alive():Traceback (most recent call last):\n",
      "        Exception ignored in: \n",
      "  File \"/home/ubuntu/users/dky/.local/lib/python3.8/site-packages/torch/utils/data/dataloader.py\", line 1479, in __del__\n",
      "  File \"/home/ubuntu/users/dky/.local/lib/python3.8/site-packages/torch/utils/data/dataloader.py\", line 1479, in __del__\n",
      "self._shutdown_workers()assert self._parent_pid == os.getpid(), 'can only test a child process'<function _MultiProcessingDataLoaderIter.__del__ at 0x7fe2d423d280>    assert self._parent_pid == os.getpid(), 'can only test a child process'  File \"/home/ubuntu/users/dky/anaconda3/envs/KD/lib/python3.8/multiprocessing/process.py\", line 160, in is_alive\n",
      "<function _MultiProcessingDataLoaderIter.__del__ at 0x7fe2d423d280>    \n",
      "\n",
      "self._shutdown_workers()    \n",
      "\n",
      "self._shutdown_workers()  File \"/home/ubuntu/users/dky/.local/lib/python3.8/site-packages/torch/utils/data/dataloader.py\", line 1462, in _shutdown_workers\n",
      "\n",
      "\n",
      "AssertionErrorassert self._parent_pid == os.getpid(), 'can only test a child process'  File \"/home/ubuntu/users/dky/.local/lib/python3.8/site-packages/torch/utils/data/dataloader.py\", line 1462, in _shutdown_workers\n",
      "\n",
      "  File \"/home/ubuntu/users/dky/.local/lib/python3.8/site-packages/torch/utils/data/dataloader.py\", line 1462, in _shutdown_workers\n",
      ": Traceback (most recent call last):\n",
      "\n",
      "    AssertionErrorif w.is_alive():AssertionError      File \"/home/ubuntu/users/dky/.local/lib/python3.8/site-packages/torch/utils/data/dataloader.py\", line 1479, in __del__\n",
      "Traceback (most recent call last):\n",
      "if w.is_alive():    \n",
      "can only test a child process  File \"/home/ubuntu/users/dky/.local/lib/python3.8/site-packages/torch/utils/data/dataloader.py\", line 1479, in __del__\n",
      "    : if w.is_alive():\n",
      "  File \"/home/ubuntu/users/dky/anaconda3/envs/KD/lib/python3.8/multiprocessing/process.py\", line 160, in is_alive\n",
      "can only test a child process: self._shutdown_workers()\n",
      "        \n",
      "\n",
      "assert self._parent_pid == os.getpid(), 'can only test a child process'self._shutdown_workers()  File \"/home/ubuntu/users/dky/anaconda3/envs/KD/lib/python3.8/multiprocessing/process.py\", line 160, in is_alive\n",
      "  File \"/home/ubuntu/users/dky/anaconda3/envs/KD/lib/python3.8/multiprocessing/process.py\", line 160, in is_alive\n",
      "\n",
      "can only test a child process\n",
      "AssertionError      File \"/home/ubuntu/users/dky/.local/lib/python3.8/site-packages/torch/utils/data/dataloader.py\", line 1462, in _shutdown_workers\n",
      "    assert self._parent_pid == os.getpid(), 'can only test a child process'\n",
      ": \n",
      "\n",
      "assert self._parent_pid == os.getpid(), 'can only test a child process'    AssertionErrorcan only test a child process  File \"/home/ubuntu/users/dky/.local/lib/python3.8/site-packages/torch/utils/data/dataloader.py\", line 1462, in _shutdown_workers\n",
      "if w.is_alive():Exception ignored in: \n",
      ": \n",
      "\n",
      "can only test a child process<function _MultiProcessingDataLoaderIter.__del__ at 0x7fe2d423d280>Exception ignored in:     AssertionErrorException ignored in: if w.is_alive():\n",
      ": <function _MultiProcessingDataLoaderIter.__del__ at 0x7fe2d423d280>  File \"/home/ubuntu/users/dky/anaconda3/envs/KD/lib/python3.8/multiprocessing/process.py\", line 160, in is_alive\n",
      "Exception ignored in: <function _MultiProcessingDataLoaderIter.__del__ at 0x7fe2d423d280>\n",
      "Exception ignored in: \n",
      "<function _MultiProcessingDataLoaderIter.__del__ at 0x7fe2d423d280>can only test a child process    \n",
      "Traceback (most recent call last):\n",
      "\n",
      "\n",
      "Traceback (most recent call last):\n",
      "assert self._parent_pid == os.getpid(), 'can only test a child process'  File \"/home/ubuntu/users/dky/anaconda3/envs/KD/lib/python3.8/multiprocessing/process.py\", line 160, in is_alive\n",
      "\n",
      "<function _MultiProcessingDataLoaderIter.__del__ at 0x7fe2d423d280>  File \"/home/ubuntu/users/dky/.local/lib/python3.8/site-packages/torch/utils/data/dataloader.py\", line 1479, in __del__\n",
      "Traceback (most recent call last):\n",
      "  File \"/home/ubuntu/users/dky/.local/lib/python3.8/site-packages/torch/utils/data/dataloader.py\", line 1479, in __del__\n",
      "\n",
      "\n",
      "Traceback (most recent call last):\n",
      "  File \"/home/ubuntu/users/dky/.local/lib/python3.8/site-packages/torch/utils/data/dataloader.py\", line 1479, in __del__\n",
      "    Traceback (most recent call last):\n",
      "Exception ignored in: AssertionError      File \"/home/ubuntu/users/dky/.local/lib/python3.8/site-packages/torch/utils/data/dataloader.py\", line 1479, in __del__\n",
      "  File \"/home/ubuntu/users/dky/.local/lib/python3.8/site-packages/torch/utils/data/dataloader.py\", line 1479, in __del__\n",
      "self._shutdown_workers()self._shutdown_workers()    <function _MultiProcessingDataLoaderIter.__del__ at 0x7fe2d423d280>:         self._shutdown_workers()self._shutdown_workers()self._shutdown_workers()\n",
      "    \n",
      "\n",
      "\n",
      "\n",
      "\n",
      "can only test a child process  File \"/home/ubuntu/users/dky/.local/lib/python3.8/site-packages/torch/utils/data/dataloader.py\", line 1462, in _shutdown_workers\n",
      "  File \"/home/ubuntu/users/dky/.local/lib/python3.8/site-packages/torch/utils/data/dataloader.py\", line 1462, in _shutdown_workers\n",
      "  File \"/home/ubuntu/users/dky/.local/lib/python3.8/site-packages/torch/utils/data/dataloader.py\", line 1462, in _shutdown_workers\n",
      "  File \"/home/ubuntu/users/dky/.local/lib/python3.8/site-packages/torch/utils/data/dataloader.py\", line 1462, in _shutdown_workers\n",
      "Traceback (most recent call last):\n",
      "  File \"/home/ubuntu/users/dky/.local/lib/python3.8/site-packages/torch/utils/data/dataloader.py\", line 1462, in _shutdown_workers\n",
      "assert self._parent_pid == os.getpid(), 'can only test a child process'\n",
      "        \n",
      "if w.is_alive():    if w.is_alive():  File \"/home/ubuntu/users/dky/.local/lib/python3.8/site-packages/torch/utils/data/dataloader.py\", line 1479, in __del__\n",
      "    AssertionErrorif w.is_alive():    \n",
      ": \n",
      "can only test a child processself._shutdown_workers()\n",
      "if w.is_alive():  File \"/home/ubuntu/users/dky/anaconda3/envs/KD/lib/python3.8/multiprocessing/process.py\", line 160, in is_alive\n",
      "  File \"/home/ubuntu/users/dky/anaconda3/envs/KD/lib/python3.8/multiprocessing/process.py\", line 160, in is_alive\n",
      "Exception ignored in: \n",
      "\n",
      "    \n",
      "      File \"/home/ubuntu/users/dky/anaconda3/envs/KD/lib/python3.8/multiprocessing/process.py\", line 160, in is_alive\n",
      "<function _MultiProcessingDataLoaderIter.__del__ at 0x7fe2d423d280>  File \"/home/ubuntu/users/dky/anaconda3/envs/KD/lib/python3.8/multiprocessing/process.py\", line 160, in is_alive\n",
      "assert self._parent_pid == os.getpid(), 'can only test a child process'  File \"/home/ubuntu/users/dky/.local/lib/python3.8/site-packages/torch/utils/data/dataloader.py\", line 1462, in _shutdown_workers\n",
      "assert self._parent_pid == os.getpid(), 'can only test a child process'Exception ignored in:         \n",
      "\n",
      "\n",
      "assert self._parent_pid == os.getpid(), 'can only test a child process'assert self._parent_pid == os.getpid(), 'can only test a child process'<function _MultiProcessingDataLoaderIter.__del__ at 0x7fe2d423d280>AssertionErrorAssertionError    \n",
      "Traceback (most recent call last):\n",
      "    : if w.is_alive()::   File \"/home/ubuntu/users/dky/.local/lib/python3.8/site-packages/torch/utils/data/dataloader.py\", line 1479, in __del__\n",
      "AssertionError\n",
      "\n",
      ": if w.is_alive():can only test a child processTraceback (most recent call last):\n",
      "AssertionError\n",
      "\n",
      "can only test a child process\n",
      "  File \"/home/ubuntu/users/dky/.local/lib/python3.8/site-packages/torch/utils/data/dataloader.py\", line 1479, in __del__\n",
      "can only test a child process:       File \"/home/ubuntu/users/dky/anaconda3/envs/KD/lib/python3.8/multiprocessing/process.py\", line 160, in is_alive\n",
      "  File \"/home/ubuntu/users/dky/anaconda3/envs/KD/lib/python3.8/multiprocessing/process.py\", line 160, in is_alive\n",
      "\n",
      "    \n",
      "self._shutdown_workers()    can only test a child processException ignored in: self._shutdown_workers()\n",
      "    assert self._parent_pid == os.getpid(), 'can only test a child process'\n",
      "<function _MultiProcessingDataLoaderIter.__del__ at 0x7fe2d423d280>\n",
      "Exception ignored in: \n",
      "assert self._parent_pid == os.getpid(), 'can only test a child process'<function _MultiProcessingDataLoaderIter.__del__ at 0x7fe2d423d280>  File \"/home/ubuntu/users/dky/.local/lib/python3.8/site-packages/torch/utils/data/dataloader.py\", line 1462, in _shutdown_workers\n",
      "  File \"/home/ubuntu/users/dky/.local/lib/python3.8/site-packages/torch/utils/data/dataloader.py\", line 1462, in _shutdown_workers\n",
      "\n",
      "\n",
      "Exception ignored in:     Traceback (most recent call last):\n",
      "AssertionError\n",
      "Traceback (most recent call last):\n",
      "<function _MultiProcessingDataLoaderIter.__del__ at 0x7fe2d423d280>if w.is_alive():AssertionErrorException ignored in:   File \"/home/ubuntu/users/dky/.local/lib/python3.8/site-packages/torch/utils/data/dataloader.py\", line 1479, in __del__\n",
      ":     \n",
      "  File \"/home/ubuntu/users/dky/.local/lib/python3.8/site-packages/torch/utils/data/dataloader.py\", line 1479, in __del__\n",
      "\n",
      "<function _MultiProcessingDataLoaderIter.__del__ at 0x7fe2d423d280>  File \"/home/ubuntu/users/dky/anaconda3/envs/KD/lib/python3.8/multiprocessing/process.py\", line 160, in is_alive\n",
      "    :     if w.is_alive():Traceback (most recent call last):\n",
      "self._shutdown_workers()self._shutdown_workers()can only test a child process\n",
      "    \n",
      "  File \"/home/ubuntu/users/dky/.local/lib/python3.8/site-packages/torch/utils/data/dataloader.py\", line 1479, in __del__\n",
      "\n",
      "assert self._parent_pid == os.getpid(), 'can only test a child process'can only test a child process\n",
      "Traceback (most recent call last):\n",
      "  File \"/home/ubuntu/users/dky/anaconda3/envs/KD/lib/python3.8/multiprocessing/process.py\", line 160, in is_alive\n",
      "\n",
      "\n",
      "\n",
      "    Exception ignored in:   File \"/home/ubuntu/users/dky/.local/lib/python3.8/site-packages/torch/utils/data/dataloader.py\", line 1462, in _shutdown_workers\n",
      "  File \"/home/ubuntu/users/dky/.local/lib/python3.8/site-packages/torch/utils/data/dataloader.py\", line 1462, in _shutdown_workers\n",
      "AssertionError  File \"/home/ubuntu/users/dky/.local/lib/python3.8/site-packages/torch/utils/data/dataloader.py\", line 1479, in __del__\n",
      "<function _MultiProcessingDataLoaderIter.__del__ at 0x7fe2d423d280>    : self._shutdown_workers()Exception ignored in: \n",
      "            assert self._parent_pid == os.getpid(), 'can only test a child process'can only test a child process<function _MultiProcessingDataLoaderIter.__del__ at 0x7fe2d423d280>if w.is_alive():self._shutdown_workers()Traceback (most recent call last):\n",
      "if w.is_alive():\n",
      "\n",
      "\n",
      "\n",
      "\n",
      "Traceback (most recent call last):\n",
      "  File \"/home/ubuntu/users/dky/.local/lib/python3.8/site-packages/torch/utils/data/dataloader.py\", line 1479, in __del__\n",
      "  File \"/home/ubuntu/users/dky/.local/lib/python3.8/site-packages/torch/utils/data/dataloader.py\", line 1462, in _shutdown_workers\n",
      "  File \"/home/ubuntu/users/dky/.local/lib/python3.8/site-packages/torch/utils/data/dataloader.py\", line 1462, in _shutdown_workers\n",
      "\n",
      "AssertionError  File \"/home/ubuntu/users/dky/.local/lib/python3.8/site-packages/torch/utils/data/dataloader.py\", line 1479, in __del__\n",
      "\n",
      "    Exception ignored in:   File \"/home/ubuntu/users/dky/anaconda3/envs/KD/lib/python3.8/multiprocessing/process.py\", line 160, in is_alive\n",
      "        : self._shutdown_workers()    if w.is_alive():self._shutdown_workers()  File \"/home/ubuntu/users/dky/anaconda3/envs/KD/lib/python3.8/multiprocessing/process.py\", line 160, in is_alive\n",
      "    \n",
      "\n",
      "\n",
      "can only test a child process  File \"/home/ubuntu/users/dky/anaconda3/envs/KD/lib/python3.8/multiprocessing/process.py\", line 160, in is_alive\n",
      "if w.is_alive():      File \"/home/ubuntu/users/dky/.local/lib/python3.8/site-packages/torch/utils/data/dataloader.py\", line 1462, in _shutdown_workers\n",
      "assert self._parent_pid == os.getpid(), 'can only test a child process'  File \"/home/ubuntu/users/dky/.local/lib/python3.8/site-packages/torch/utils/data/dataloader.py\", line 1462, in _shutdown_workers\n",
      "assert self._parent_pid == os.getpid(), 'can only test a child process'    <function _MultiProcessingDataLoaderIter.__del__ at 0x7fe2d423d280>\n",
      "\n",
      "\n",
      "    \n",
      "assert self._parent_pid == os.getpid(), 'can only test a child process'  File \"/home/ubuntu/users/dky/anaconda3/envs/KD/lib/python3.8/multiprocessing/process.py\", line 160, in is_alive\n",
      "    \n",
      "\n",
      "AssertionErrorif w.is_alive():AssertionErrorif w.is_alive():    Traceback (most recent call last):\n",
      ": \n",
      "assert self._parent_pid == os.getpid(), 'can only test a child process'  File \"/home/ubuntu/users/dky/.local/lib/python3.8/site-packages/torch/utils/data/dataloader.py\", line 1479, in __del__\n",
      "\n",
      "can only test a child processAssertionError\n",
      ":   File \"/home/ubuntu/users/dky/anaconda3/envs/KD/lib/python3.8/multiprocessing/process.py\", line 160, in is_alive\n",
      "\n",
      "can only test a child process    AssertionError    \n",
      ": :   File \"/home/ubuntu/users/dky/anaconda3/envs/KD/lib/python3.8/multiprocessing/process.py\", line 160, in is_alive\n",
      "Exception ignored in: assert self._parent_pid == os.getpid(), 'can only test a child process'can only test a child processcan only test a child processException ignored in: self._shutdown_workers()\n",
      "    \n",
      "AssertionError<function _MultiProcessingDataLoaderIter.__del__ at 0x7fe2d423d280>\n",
      "\n",
      "<function _MultiProcessingDataLoaderIter.__del__ at 0x7fe2d423d280>assert self._parent_pid == os.getpid(), 'can only test a child process': \n",
      "  File \"/home/ubuntu/users/dky/.local/lib/python3.8/site-packages/torch/utils/data/dataloader.py\", line 1462, in _shutdown_workers\n",
      "\n",
      "can only test a child processException ignored in: Traceback (most recent call last):\n",
      "Traceback (most recent call last):\n",
      "    \n",
      "\n",
      "  File \"/home/ubuntu/users/dky/.local/lib/python3.8/site-packages/torch/utils/data/dataloader.py\", line 1479, in __del__\n",
      "Exception ignored in: <function _MultiProcessingDataLoaderIter.__del__ at 0x7fe2d423d280>Exception ignored in: if w.is_alive():\n",
      "AssertionError\n",
      "<function _MultiProcessingDataLoaderIter.__del__ at 0x7fe2d423d280>  File \"/home/ubuntu/users/dky/.local/lib/python3.8/site-packages/torch/utils/data/dataloader.py\", line 1479, in __del__\n",
      "Traceback (most recent call last):\n",
      "    : <function _MultiProcessingDataLoaderIter.__del__ at 0x7fe2d423d280>  File \"/home/ubuntu/users/dky/anaconda3/envs/KD/lib/python3.8/multiprocessing/process.py\", line 160, in is_alive\n",
      "self._shutdown_workers()can only test a child process\n",
      "\n",
      "  File \"/home/ubuntu/users/dky/.local/lib/python3.8/site-packages/torch/utils/data/dataloader.py\", line 1479, in __del__\n",
      "    Traceback (most recent call last):\n",
      "Traceback (most recent call last):\n",
      "assert self._parent_pid == os.getpid(), 'can only test a child process'    \n",
      "    \n",
      "Exception ignored in:   File \"/home/ubuntu/users/dky/.local/lib/python3.8/site-packages/torch/utils/data/dataloader.py\", line 1479, in __del__\n",
      "  File \"/home/ubuntu/users/dky/.local/lib/python3.8/site-packages/torch/utils/data/dataloader.py\", line 1479, in __del__\n",
      "self._shutdown_workers()Exception ignored in: self._shutdown_workers()\n",
      "<function _MultiProcessingDataLoaderIter.__del__ at 0x7fe2d423d280>\n",
      "AssertionError    \n",
      "\n",
      "  File \"/home/ubuntu/users/dky/.local/lib/python3.8/site-packages/torch/utils/data/dataloader.py\", line 1462, in _shutdown_workers\n",
      ": self._shutdown_workers()Traceback (most recent call last):\n",
      "  File \"/home/ubuntu/users/dky/.local/lib/python3.8/site-packages/torch/utils/data/dataloader.py\", line 1462, in _shutdown_workers\n",
      "    <function _MultiProcessingDataLoaderIter.__del__ at 0x7fe2d423d280>\n",
      "  File \"/home/ubuntu/users/dky/.local/lib/python3.8/site-packages/torch/utils/data/dataloader.py\", line 1479, in __del__\n",
      "can only test a child process\n",
      "if w.is_alive():    \n",
      "  File \"/home/ubuntu/users/dky/.local/lib/python3.8/site-packages/torch/utils/data/dataloader.py\", line 1462, in _shutdown_workers\n",
      "          File \"/home/ubuntu/users/dky/.local/lib/python3.8/site-packages/torch/utils/data/dataloader.py\", line 1462, in _shutdown_workers\n",
      "Traceback (most recent call last):\n",
      "Exception ignored in: if w.is_alive():self._shutdown_workers()\n",
      "  File \"/home/ubuntu/users/dky/.local/lib/python3.8/site-packages/torch/utils/data/dataloader.py\", line 1479, in __del__\n",
      "\n",
      "    self._shutdown_workers()    if w.is_alive():\n",
      "  File \"/home/ubuntu/users/dky/anaconda3/envs/KD/lib/python3.8/multiprocessing/process.py\", line 160, in is_alive\n",
      "\n",
      "    <function _MultiProcessingDataLoaderIter.__del__ at 0x7fe2d423d280>  File \"/home/ubuntu/users/dky/.local/lib/python3.8/site-packages/torch/utils/data/dataloader.py\", line 1462, in _shutdown_workers\n",
      "\n",
      "  File \"/home/ubuntu/users/dky/anaconda3/envs/KD/lib/python3.8/multiprocessing/process.py\", line 160, in is_alive\n",
      "self._shutdown_workers()  File \"/home/ubuntu/users/dky/.local/lib/python3.8/site-packages/torch/utils/data/dataloader.py\", line 1462, in _shutdown_workers\n",
      "  File \"/home/ubuntu/users/dky/anaconda3/envs/KD/lib/python3.8/multiprocessing/process.py\", line 160, in is_alive\n",
      "if w.is_alive():\n",
      "              File \"/home/ubuntu/users/dky/.local/lib/python3.8/site-packages/torch/utils/data/dataloader.py\", line 1462, in _shutdown_workers\n",
      "    \n",
      "\n",
      "if w.is_alive():    assert self._parent_pid == os.getpid(), 'can only test a child process'  File \"/home/ubuntu/users/dky/anaconda3/envs/KD/lib/python3.8/multiprocessing/process.py\", line 160, in is_alive\n",
      "Traceback (most recent call last):\n",
      "    if w.is_alive():if w.is_alive():\n",
      "assert self._parent_pid == os.getpid(), 'can only test a child process'    assert self._parent_pid == os.getpid(), 'can only test a child process'\n",
      "  File \"/home/ubuntu/users/dky/.local/lib/python3.8/site-packages/torch/utils/data/dataloader.py\", line 1479, in __del__\n",
      "AssertionError  File \"/home/ubuntu/users/dky/anaconda3/envs/KD/lib/python3.8/multiprocessing/process.py\", line 160, in is_alive\n",
      "\n",
      "\n",
      "    : \n",
      "assert self._parent_pid == os.getpid(), 'can only test a child process'\n",
      "self._shutdown_workers()  File \"/home/ubuntu/users/dky/anaconda3/envs/KD/lib/python3.8/multiprocessing/process.py\", line 160, in is_alive\n",
      "AssertionErrorAssertionError        can only test a child process:   File \"/home/ubuntu/users/dky/anaconda3/envs/KD/lib/python3.8/multiprocessing/process.py\", line 160, in is_alive\n",
      ": \n",
      "assert self._parent_pid == os.getpid(), 'can only test a child process'can only test a child processassert self._parent_pid == os.getpid(), 'can only test a child process'\n",
      "    can only test a child processException ignored in: \n",
      "\n",
      "\n",
      "assert self._parent_pid == os.getpid(), 'can only test a child process'<function _MultiProcessingDataLoaderIter.__del__ at 0x7fe2d423d280>\n",
      "AssertionError\n",
      "AssertionError: \n",
      "AssertionError: Traceback (most recent call last):\n",
      ": Exception ignored in: can only test a child processAssertionError  File \"/home/ubuntu/users/dky/.local/lib/python3.8/site-packages/torch/utils/data/dataloader.py\", line 1479, in __del__\n",
      "can only test a child processcan only test a child process<function _MultiProcessingDataLoaderIter.__del__ at 0x7fe2d423d280>\n",
      "Exception ignored in: \n",
      "\n",
      "<function _MultiProcessingDataLoaderIter.__del__ at 0x7fe2d423d280>\n",
      ": \n",
      "Traceback (most recent call last):\n",
      "  File \"/home/ubuntu/users/dky/.local/lib/python3.8/site-packages/torch/utils/data/dataloader.py\", line 1462, in _shutdown_workers\n",
      "\n",
      "      File \"/home/ubuntu/users/dky/.local/lib/python3.8/site-packages/torch/utils/data/dataloader.py\", line 1479, in __del__\n",
      "Exception ignored in: Traceback (most recent call last):\n",
      "self._shutdown_workers()<function _MultiProcessingDataLoaderIter.__del__ at 0x7fe2d423d280>can only test a child processException ignored in:   File \"/home/ubuntu/users/dky/.local/lib/python3.8/site-packages/torch/utils/data/dataloader.py\", line 1479, in __del__\n",
      "\n",
      "    \n",
      "\n",
      "Traceback (most recent call last):\n",
      "    if w.is_alive():  File \"/home/ubuntu/users/dky/.local/lib/python3.8/site-packages/torch/utils/data/dataloader.py\", line 1462, in _shutdown_workers\n",
      "      File \"/home/ubuntu/users/dky/.local/lib/python3.8/site-packages/torch/utils/data/dataloader.py\", line 1479, in __del__\n",
      "<function _MultiProcessingDataLoaderIter.__del__ at 0x7fe2d423d280>self._shutdown_workers()\n",
      "    self._shutdown_workers()\n",
      "  File \"/home/ubuntu/users/dky/anaconda3/envs/KD/lib/python3.8/multiprocessing/process.py\", line 160, in is_alive\n",
      "Exception ignored in: Exception ignored in: \n",
      "Traceback (most recent call last):\n",
      "if w.is_alive():    <function _MultiProcessingDataLoaderIter.__del__ at 0x7fe2d423d280>  File \"/home/ubuntu/users/dky/.local/lib/python3.8/site-packages/torch/utils/data/dataloader.py\", line 1479, in __del__\n",
      "  File \"/home/ubuntu/users/dky/.local/lib/python3.8/site-packages/torch/utils/data/dataloader.py\", line 1462, in _shutdown_workers\n",
      "    \n",
      "\n",
      "self._shutdown_workers()assert self._parent_pid == os.getpid(), 'can only test a child process'<function _MultiProcessingDataLoaderIter.__del__ at 0x7fe2d423d280>\n",
      "        \n",
      "  File \"/home/ubuntu/users/dky/anaconda3/envs/KD/lib/python3.8/multiprocessing/process.py\", line 160, in is_alive\n",
      "Traceback (most recent call last):\n",
      "self._shutdown_workers()\n",
      "\n",
      "  File \"/home/ubuntu/users/dky/.local/lib/python3.8/site-packages/torch/utils/data/dataloader.py\", line 1462, in _shutdown_workers\n",
      "      File \"/home/ubuntu/users/dky/.local/lib/python3.8/site-packages/torch/utils/data/dataloader.py\", line 1479, in __del__\n",
      "\n",
      "  File \"/home/ubuntu/users/dky/.local/lib/python3.8/site-packages/torch/utils/data/dataloader.py\", line 1462, in _shutdown_workers\n",
      "Traceback (most recent call last):\n",
      "if w.is_alive():    assert self._parent_pid == os.getpid(), 'can only test a child process'AssertionError      File \"/home/ubuntu/users/dky/.local/lib/python3.8/site-packages/torch/utils/data/dataloader.py\", line 1479, in __del__\n",
      "    \n",
      "if w.is_alive():self._shutdown_workers():   File \"/home/ubuntu/users/dky/.local/lib/python3.8/site-packages/torch/utils/data/dataloader.py\", line 1462, in _shutdown_workers\n",
      "\n",
      "    if w.is_alive():\n",
      "\n",
      "AssertionError  File \"/home/ubuntu/users/dky/anaconda3/envs/KD/lib/python3.8/multiprocessing/process.py\", line 160, in is_alive\n",
      "\n",
      "self._shutdown_workers()    can only test a child process:   File \"/home/ubuntu/users/dky/anaconda3/envs/KD/lib/python3.8/multiprocessing/process.py\", line 160, in is_alive\n",
      "  File \"/home/ubuntu/users/dky/.local/lib/python3.8/site-packages/torch/utils/data/dataloader.py\", line 1462, in _shutdown_workers\n",
      "if w.is_alive():can only test a child process  File \"/home/ubuntu/users/dky/anaconda3/envs/KD/lib/python3.8/multiprocessing/process.py\", line 160, in is_alive\n",
      "    \n",
      "    \n",
      "\n",
      "      File \"/home/ubuntu/users/dky/.local/lib/python3.8/site-packages/torch/utils/data/dataloader.py\", line 1462, in _shutdown_workers\n",
      "assert self._parent_pid == os.getpid(), 'can only test a child process'assert self._parent_pid == os.getpid(), 'can only test a child process'    \n",
      "Exception ignored in:   File \"/home/ubuntu/users/dky/anaconda3/envs/KD/lib/python3.8/multiprocessing/process.py\", line 160, in is_alive\n",
      "\n",
      "    <function _MultiProcessingDataLoaderIter.__del__ at 0x7fe2d423d280>assert self._parent_pid == os.getpid(), 'can only test a child process'AssertionErrorif w.is_alive():    : \n",
      "\n",
      "assert self._parent_pid == os.getpid(), 'can only test a child process'\n",
      "\n",
      "Traceback (most recent call last):\n",
      "can only test a child process  File \"/home/ubuntu/users/dky/anaconda3/envs/KD/lib/python3.8/multiprocessing/process.py\", line 160, in is_alive\n",
      "AssertionError  File \"/home/ubuntu/users/dky/.local/lib/python3.8/site-packages/torch/utils/data/dataloader.py\", line 1479, in __del__\n",
      "AssertionError: \n",
      "if w.is_alive():        : can only test a child processException ignored in: assert self._parent_pid == os.getpid(), 'can only test a child process'\n",
      "can only test a child process\n",
      "\n",
      "\n",
      "<function _MultiProcessingDataLoaderIter.__del__ at 0x7fe2d423d280>self._shutdown_workers()  File \"/home/ubuntu/users/dky/anaconda3/envs/KD/lib/python3.8/multiprocessing/process.py\", line 160, in is_alive\n",
      "\n",
      "AssertionError\n",
      "\n",
      "    Traceback (most recent call last):\n",
      "assert self._parent_pid == os.getpid(), 'can only test a child process'  File \"/home/ubuntu/users/dky/.local/lib/python3.8/site-packages/torch/utils/data/dataloader.py\", line 1479, in __del__\n",
      "\n",
      "AssertionError    : self._shutdown_workers()AssertionErrorcan only test a child process: can only test a child process\n",
      "\n",
      "\n",
      "  File \"/home/ubuntu/users/dky/.local/lib/python3.8/site-packages/torch/utils/data/dataloader.py\", line 1462, in _shutdown_workers\n",
      ": Exception ignored in:   File \"/home/ubuntu/users/dky/.local/lib/python3.8/site-packages/torch/utils/data/dataloader.py\", line 1462, in _shutdown_workers\n",
      "    if w.is_alive():\n",
      "  File \"/home/ubuntu/users/dky/anaconda3/envs/KD/lib/python3.8/multiprocessing/process.py\", line 160, in is_alive\n",
      "<function _MultiProcessingDataLoaderIter.__del__ at 0x7fe2d423d280>can only test a child process\n",
      "    \n",
      "Traceback (most recent call last):\n",
      "      File \"/home/ubuntu/users/dky/.local/lib/python3.8/site-packages/torch/utils/data/dataloader.py\", line 1479, in __del__\n",
      "assert self._parent_pid == os.getpid(), 'can only test a child process'if w.is_alive():    \n",
      "Exception ignored in: <function _MultiProcessingDataLoaderIter.__del__ at 0x7fe2d423d280>\n",
      "Traceback (most recent call last):\n",
      "  File \"/home/ubuntu/users/dky/anaconda3/envs/KD/lib/python3.8/multiprocessing/process.py\", line 160, in is_alive\n",
      "  File \"/home/ubuntu/users/dky/.local/lib/python3.8/site-packages/torch/utils/data/dataloader.py\", line 1479, in __del__\n",
      "    self._shutdown_workers()    \n",
      "assert self._parent_pid == os.getpid(), 'can only test a child process'self._shutdown_workers()\n",
      "\n",
      "AssertionError\n",
      "  File \"/home/ubuntu/users/dky/.local/lib/python3.8/site-packages/torch/utils/data/dataloader.py\", line 1462, in _shutdown_workers\n",
      "AssertionError  File \"/home/ubuntu/users/dky/.local/lib/python3.8/site-packages/torch/utils/data/dataloader.py\", line 1462, in _shutdown_workers\n",
      "        : if w.is_alive():: if w.is_alive():can only test a child processcan only test a child process\n",
      "\n",
      "\n",
      "\n",
      "  File \"/home/ubuntu/users/dky/anaconda3/envs/KD/lib/python3.8/multiprocessing/process.py\", line 160, in is_alive\n",
      "Exception ignored in:   File \"/home/ubuntu/users/dky/anaconda3/envs/KD/lib/python3.8/multiprocessing/process.py\", line 160, in is_alive\n",
      "    <function _MultiProcessingDataLoaderIter.__del__ at 0x7fe2d423d280>\n",
      "    Traceback (most recent call last):\n",
      "  File \"/home/ubuntu/users/dky/.local/lib/python3.8/site-packages/torch/utils/data/dataloader.py\", line 1479, in __del__\n",
      "assert self._parent_pid == os.getpid(), 'can only test a child process'assert self._parent_pid == os.getpid(), 'can only test a child process'    \n",
      "AssertionError: can only test a child processself._shutdown_workers()\n",
      "\n",
      "\n",
      "AssertionError:   File \"/home/ubuntu/users/dky/.local/lib/python3.8/site-packages/torch/utils/data/dataloader.py\", line 1462, in _shutdown_workers\n",
      "can only test a child process    if w.is_alive():\n",
      "\n",
      "  File \"/home/ubuntu/users/dky/anaconda3/envs/KD/lib/python3.8/multiprocessing/process.py\", line 160, in is_alive\n",
      "    assert self._parent_pid == os.getpid(), 'can only test a child process'\n",
      "AssertionError: can only test a child process\n"
     ]
    },
    {
     "data": {
      "application/vnd.jupyter.widget-view+json": {
       "model_id": "77617bfe121b4042bbf717d56b738d5e",
       "version_major": 2,
       "version_minor": 0
      },
      "text/plain": [
       "Testing on SNR: 14:   0%|          | 0/100 [00:00<?, ?it/s]"
      ]
     },
     "metadata": {},
     "output_type": "display_data"
    },
    {
     "data": {
      "application/vnd.jupyter.widget-view+json": {
       "model_id": "0cb475bc241c4952bcd3bef4a0ab3ec1",
       "version_major": 2,
       "version_minor": 0
      },
      "text/plain": [
       "Testing on SNR: 16:   0%|          | 0/100 [00:00<?, ?it/s]"
      ]
     },
     "metadata": {},
     "output_type": "display_data"
    },
    {
     "data": {
      "application/vnd.jupyter.widget-view+json": {
       "model_id": "8da64357c8a048d69b5f431a03b4cba9",
       "version_major": 2,
       "version_minor": 0
      },
      "text/plain": [
       "Testing on SNR: 18:   0%|          | 0/100 [00:00<?, ?it/s]"
      ]
     },
     "metadata": {},
     "output_type": "display_data"
    },
    {
     "data": {
      "application/vnd.jupyter.widget-view+json": {
       "model_id": "ea17235351d14017a78d84dc810bd008",
       "version_major": 2,
       "version_minor": 0
      },
      "text/plain": [
       "Testing on SNR: 20:   0%|          | 0/100 [00:00<?, ?it/s]"
      ]
     },
     "metadata": {},
     "output_type": "display_data"
    },
    {
     "data": {
      "application/vnd.jupyter.widget-view+json": {
       "model_id": "e0e7861114cd45e8ba2bb724b7a0abba",
       "version_major": 2,
       "version_minor": 0
      },
      "text/plain": [
       "Testing on SNR: 22:   0%|          | 0/100 [00:00<?, ?it/s]"
      ]
     },
     "metadata": {},
     "output_type": "display_data"
    },
    {
     "data": {
      "application/vnd.jupyter.widget-view+json": {
       "model_id": "277078934b1045b9b48506d9043b096d",
       "version_major": 2,
       "version_minor": 0
      },
      "text/plain": [
       "Testing on SNR: 24:   0%|          | 0/100 [00:00<?, ?it/s]"
      ]
     },
     "metadata": {},
     "output_type": "display_data"
    },
    {
     "name": "stdout",
     "output_type": "stream",
     "text": [
      "[0.2676, 0.3524, 0.4505, 0.5205, 0.5795, 0.6251, 0.6505, 0.6761, 0.6925, 0.6981, 0.7014, 0.7058, 0.71, 0.7106, 0.7098, 0.71, 0.7109, 0.7132]\n"
     ]
    }
   ],
   "source": [
    "student.eval()\n",
    "classifier.eval()\n",
    "atten_ae.eval()\n",
    "channels = Channels(device)\n",
    "\n",
    "ACC_with_SNR = []\n",
    "\n",
    "outer_bar = tqdm(range(-10, 25, 2), desc='Testing over SNR')\n",
    "for snr in outer_bar:\n",
    "\n",
    "    batch_bar = tqdm(test_loader, desc=f\"Testing on SNR: {snr}\", leave=False)\n",
    "    total_correct = 0\n",
    "    total_samples = 0\n",
    "    \n",
    "    for images, labels in batch_bar:\n",
    "        images, labels = images.to(device), labels.to(device)\n",
    "        \n",
    "        with torch.no_grad():\n",
    "            features = student(images)\n",
    "            features = atten_ae.encoder(features)\n",
    "            features_awgn = channels.AWGN(features, snr)\n",
    "            features_awgn = atten_ae.decoder(features_awgn)\n",
    "            logits = classifier(features_awgn)\n",
    "            preds = logits.argmax(dim=1)\n",
    "            \n",
    "            total_correct += (preds == labels).float().sum().item()\n",
    "            total_samples += labels.size(0)\n",
    "        \n",
    "        batch_bar.set_postfix({'Acc': total_correct / total_samples})\n",
    "\n",
    "    acc = total_correct / total_samples\n",
    "    ACC_with_SNR.append(acc)\n",
    "    outer_bar.set_postfix({'SNR': snr, 'Acc': acc})\n",
    "\n",
    "print(ACC_with_SNR)"
   ]
  }
 ],
 "metadata": {
  "kernelspec": {
   "display_name": "KD",
   "language": "python",
   "name": "python3"
  },
  "language_info": {
   "codemirror_mode": {
    "name": "ipython",
    "version": 3
   },
   "file_extension": ".py",
   "mimetype": "text/x-python",
   "name": "python",
   "nbconvert_exporter": "python",
   "pygments_lexer": "ipython3",
   "version": "3.8.18"
  }
 },
 "nbformat": 4,
 "nbformat_minor": 2
}
